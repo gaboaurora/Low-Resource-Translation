{
  "cells": [
    {
      "cell_type": "markdown",
      "metadata": {
        "id": "view-in-github",
        "colab_type": "text"
      },
      "source": [
        "<a href=\"https://colab.research.google.com/github/gaboaurora/Low-Resource-Translation/blob/main/ingles_kiche.ipynb\" target=\"_parent\"><img src=\"https://colab.research.google.com/assets/colab-badge.svg\" alt=\"Open In Colab\"/></a>"
      ]
    },
    {
      "cell_type": "markdown",
      "metadata": {
        "id": "96PapqzwAUkB"
      },
      "source": [
        "# Traducción Inglés -> Kiche\n"
      ]
    },
    {
      "cell_type": "markdown",
      "source": [
        "## Configuración inicial"
      ],
      "metadata": {
        "id": "aPX_isCsjehC"
      }
    },
    {
      "cell_type": "code",
      "source": [
        "from google.colab import drive\n",
        "drive.mount('/content/drive')"
      ],
      "metadata": {
        "colab": {
          "base_uri": "https://localhost:8080/"
        },
        "id": "ivBxOPi0b7J4",
        "outputId": "13a31714-6e68-4e3d-c31f-1f24cc64e010"
      },
      "execution_count": 1,
      "outputs": [
        {
          "output_type": "stream",
          "name": "stdout",
          "text": [
            "Mounted at /content/drive\n"
          ]
        }
      ]
    },
    {
      "cell_type": "code",
      "source": [
        "# ===================================================================\n",
        "# CELDA DE CONFIGURACIÓN CENTRAL DEL PROYECTO\n",
        "# ===================================================================\n",
        "# Para cambiar de experimento, solo necesitan modificar esta celda.\n",
        "\n",
        "import os\n",
        "\n",
        "# --- 1. Definición de la Tarea de Traducción ---\n",
        "# Idioma de origen (el que no es español)\n",
        "SOURCE_LANG_NAME = \"Inglés\"\n",
        "SOURCE_LANG_CODE = \"eng_Latn\"\n",
        "\n",
        "# Idioma de destino (la lengua maya que están estudiando)\n",
        "TARGET_LANG_NAME = \"K'iche'\"\n",
        "TARGET_LANG_CODE = \"quc_Latn\" # Código correcto para K'iche'\n",
        "TARGET_LANG_SHORT_CODE = \"quc\" # Código del dataset MayanV\n",
        "\n",
        "# Idioma pivote (el que se usa como puente)\n",
        "PIVOT_LANG_NAME = \"Español\"\n",
        "PIVOT_LANG_CODE = \"spa_Latn\"\n",
        "PIVOT_LANG_SHORT_CODE = \"es\" # Código del dataset MayanV\n",
        "\n",
        "# --- 2. Parámetros del Modelo y Entrenamiento ---\n",
        "BASE_MODEL_ID = \"facebook/nllb-200-distilled-600M\"\n",
        "\n",
        "# --- 3. Rutas para Guardar en Google Drive ---\n",
        "# Asegúrate de que esta carpeta exista en tu Google Drive\n",
        "DRIVE_PATH = \"/content/drive/MyDrive/Colab Notebooks/Proyecto_DL_Traduccion\"\n",
        "ES_QUC_DATASET_PATH = f\"{DRIVE_PATH}/es_quc_dataset\"\n",
        "MAYANV_REPO_PATH = f\"{DRIVE_PATH}/mayanv\"\n",
        "EN_QUC_DATASET_FILES_PATH = f\"{DRIVE_PATH}/en_quc_dataset_files\"\n",
        "os.makedirs(DRIVE_PATH, exist_ok=True) # Crea la carpeta si no existe\n",
        "\n",
        "# Nombres de los modelos que se guardarán\n",
        "FINETUNED_PIVOT_MODEL_PATH = f\"{DRIVE_PATH}/nllb_finetuned_{PIVOT_LANG_SHORT_CODE}_{TARGET_LANG_SHORT_CODE}\"\n",
        "FINETUNED_SYNTHETIC_MODEL_PATH = f\"{DRIVE_PATH}/nllb_finetuned_{SOURCE_LANG_NAME.lower()}_{TARGET_LANG_SHORT_CODE}\"\n",
        "\n",
        "print(f\"✅ Configuración cargada para la tarea: {SOURCE_LANG_NAME} -> {TARGET_LANG_NAME}\")\n",
        "print(f\"Los modelos se guardarán en: {DRIVE_PATH}\")"
      ],
      "metadata": {
        "colab": {
          "base_uri": "https://localhost:8080/"
        },
        "id": "EVqB2209iP1S",
        "outputId": "3016e4ff-c1a8-4c35-dcbf-adad6ca891da"
      },
      "execution_count": 2,
      "outputs": [
        {
          "output_type": "stream",
          "name": "stdout",
          "text": [
            "✅ Configuración cargada para la tarea: Inglés -> K'iche'\n",
            "Los modelos se guardarán en: /content/drive/MyDrive/Colab Notebooks/Proyecto_DL_Traduccion\n"
          ]
        }
      ]
    },
    {
      "cell_type": "markdown",
      "source": [
        "### Funciones comunes"
      ],
      "metadata": {
        "id": "MizuU1NK9r_E"
      }
    },
    {
      "cell_type": "code",
      "execution_count": 3,
      "metadata": {
        "id": "vf7lJXOmsYB1"
      },
      "outputs": [],
      "source": [
        "def translate_text(model, tokenizer, text, src_lang, tgt_lang):\n",
        "    tokenizer.src_lang = src_lang\n",
        "    forced_bos_id = tokenizer.convert_tokens_to_ids(tgt_lang)\n",
        "    inputs = tokenizer(text, return_tensors=\"pt\", truncation=True)\n",
        "    outputs = model.generate(**inputs, forced_bos_token_id=forced_bos_id)\n",
        "    return tokenizer.batch_decode(outputs, skip_special_tokens=True)[0]"
      ]
    },
    {
      "cell_type": "code",
      "execution_count": 4,
      "metadata": {
        "id": "ghoF4-noMjaC"
      },
      "outputs": [],
      "source": [
        "def generate_dataset(language, train_folder=\"train\", test_folder=\"test\", base_path=MAYANV_REPO_PATH): # Use MAYANV_REPO_PATH from config\n",
        "    \"\"\"\n",
        "    Generates a dataset from text files within the mayanv repository.\n",
        "\n",
        "    Args:\n",
        "        language (str): The language code (e.g., \"quc\").\n",
        "        train_folder (str): The name of the training data folder within the language directory.\n",
        "        test_folder (str): The name of the testing data folder within the language directory.\n",
        "        base_path (str): The base path to the cloned mayanv repository in Google Drive.\n",
        "\n",
        "    Returns:\n",
        "        DatasetDict: A DatasetDict containing the train and test splits.\n",
        "    \"\"\"\n",
        "    # Construct paths to the text files within the mayanv repository in Drive\n",
        "    mayanv_language_path = os.path.join(base_path, \"MayanV\", language)\n",
        "    train_lang_path = os.path.join(mayanv_language_path, train_folder, f\"data.{language}\")\n",
        "    test_lang_path = os.path.join(mayanv_language_path, test_folder, f\"data.{language}\")\n",
        "\n",
        "    train_es_path = os.path.join(mayanv_language_path, train_folder, \"data.es\")\n",
        "    test_es_path = os.path.join(mayanv_language_path, test_folder, \"data.es\")\n",
        "\n",
        "    print(f\"Attempting to load train split from: {train_es_path} and {train_lang_path}\")\n",
        "    print(f\"Attempting to load test split from: {test_es_path} and {test_lang_path}\")\n",
        "\n",
        "\n",
        "    # Carga manual de archivos\n",
        "    def load_lines(path):\n",
        "        if not os.path.exists(path):\n",
        "            print(f\"❌ Error: File not found at {path}\")\n",
        "            return None\n",
        "        with open(path, encoding=\"utf-8\") as f:\n",
        "            return [line.strip() for line in f if line.strip()] # Filter out empty lines\n",
        "\n",
        "\n",
        "    train_src = load_lines(train_lang_path)\n",
        "    train_tgt = load_lines(train_es_path)\n",
        "\n",
        "    test_src = load_lines(test_lang_path)\n",
        "    test_tgt = load_lines(test_es_path)\n",
        "\n",
        "    # Check if loading was successful\n",
        "    if train_src is None or train_tgt is None or test_src is None or test_tgt is None:\n",
        "        return None\n",
        "\n",
        "    # Crea datasets\n",
        "    train_dataset = Dataset.from_dict({\"input\": train_src, \"target\": train_tgt})\n",
        "    test_dataset = Dataset.from_dict({\"input\": test_src, \"target\": test_tgt})\n",
        "\n",
        "    return DatasetDict({\n",
        "        \"train\": train_dataset,\n",
        "        \"test\": test_dataset,\n",
        "    })"
      ]
    },
    {
      "cell_type": "markdown",
      "metadata": {
        "id": "g5rb6MT0A5mD"
      },
      "source": [
        "## Librerías"
      ]
    },
    {
      "cell_type": "code",
      "execution_count": 5,
      "metadata": {
        "id": "NF14LcemARSd"
      },
      "outputs": [],
      "source": [
        "from IPython.display import clear_output\n",
        "!pip install -U bitsandbytes accelerate peft transformers sentencepiece datasets\n",
        "!pip install evaluate\n",
        "!pip install rouge_score\n",
        "clear_output()"
      ]
    },
    {
      "cell_type": "code",
      "execution_count": 6,
      "metadata": {
        "id": "7-HRnAKmA8LR"
      },
      "outputs": [],
      "source": [
        "from transformers import AutoTokenizer, AutoModelForSeq2SeqLM, Trainer, TrainingArguments, BitsAndBytesConfig\n",
        "from peft import LoraConfig, get_peft_model, TaskType\n",
        "from datasets import load_dataset, DatasetDict, Dataset\n",
        "import evaluate\n",
        "from tqdm import tqdm\n",
        "import csv\n",
        "import torch"
      ]
    },
    {
      "cell_type": "code",
      "source": [
        "from peft import PeftModel"
      ],
      "metadata": {
        "id": "YbEcR0T8A9_h"
      },
      "execution_count": 7,
      "outputs": []
    },
    {
      "cell_type": "code",
      "execution_count": 8,
      "metadata": {
        "colab": {
          "base_uri": "https://localhost:8080/"
        },
        "id": "F1ViYHauY4v3",
        "outputId": "fdc565e8-e745-48ab-8169-eb73796b75b7"
      },
      "outputs": [
        {
          "output_type": "stream",
          "name": "stdout",
          "text": [
            "Cloning into 'mayanv'...\n",
            "remote: Enumerating objects: 177, done.\u001b[K\n",
            "remote: Counting objects: 100% (177/177), done.\u001b[K\n",
            "remote: Compressing objects: 100% (163/163), done.\u001b[K\n",
            "remote: Total 177 (delta 22), reused 157 (delta 14), pack-reused 0 (from 0)\u001b[K\n",
            "Receiving objects: 100% (177/177), 1.35 MiB | 3.88 MiB/s, done.\n",
            "Resolving deltas: 100% (22/22), done.\n"
          ]
        }
      ],
      "source": [
        "!git clone https://github.com/transducens/mayanv.git"
      ]
    },
    {
      "cell_type": "markdown",
      "metadata": {
        "id": "6x8Nds_8Y1Mm"
      },
      "source": [
        "## Datasets"
      ]
    },
    {
      "cell_type": "markdown",
      "source": [
        "### Verificacion inicial de lenguaje en el modelo NLLB"
      ],
      "metadata": {
        "id": "FS9Gxy77jxNm"
      }
    },
    {
      "cell_type": "code",
      "source": [
        "from transformers import AutoTokenizer\n",
        "\n",
        "# Cargamos el tokenizador oficial de NLLB\n",
        "model_name = \"facebook/nllb-200-distilled-600M\"\n",
        "tokenizer = AutoTokenizer.from_pretrained(model_name)\n",
        "\n",
        "# --- Verifiquemos los idiomas ---\n",
        "\n",
        "kiche_code = \"quc_Latn\"\n",
        "sipakapense_code = \"qum_Latn\"\n",
        "\n",
        "print(f\"Buscando el ID para K'iche' ({kiche_code})...\")\n",
        "try:\n",
        "    kiche_id = tokenizer.convert_tokens_to_ids(kiche_code)\n",
        "    print(f\"✅ ÉXITO: El ID para '{kiche_code}' es: {kiche_id}. ¡SÍ EXISTE!\")\n",
        "except Exception as e:\n",
        "    print(f\"❌ FALLO: No se pudo encontrar un ID para '{kiche_code}'. ¡NO EXISTE!\")\n",
        "\n",
        "print(\"-\" * 20)\n",
        "\n",
        "print(f\"Buscando el ID para Sipakapense ({sipakapense_code})...\")\n",
        "try:\n",
        "    # El tokenizador arroja un error si no encuentra el token.\n",
        "    # Usamos .get para manejarlo sin que el programa se caiga.\n",
        "    sipakapense_id = tokenizer.vocab.get(sipakapense_code)\n",
        "    if sipakapense_id is not None:\n",
        "         print(f\"✅ ÉXITO: El ID para '{sipakapense_code}' es: {sipakapense_id}. ¡SÍ EXISTE!\")\n",
        "    else:\n",
        "         print(f\"❌ FALLO: No se encontró un ID para '{sipakapense_code}'. ¡NO EXISTE!\")\n",
        "except Exception as e:\n",
        "    print(f\"❌ FALLO: Ocurrió un error buscando '{sipakapense_code}'.\")"
      ],
      "metadata": {
        "colab": {
          "base_uri": "https://localhost:8080/",
          "height": 105
        },
        "id": "PE2cI06HdsYf",
        "outputId": "a8b15b2a-0d73-4df4-917b-3c11dec24250"
      },
      "execution_count": null,
      "outputs": [
        {
          "output_type": "stream",
          "name": "stdout",
          "text": [
            "Buscando el ID para K'iche' (quc_Latn)...\n",
            "✅ ÉXITO: El ID para 'quc_Latn' es: 3. ¡SÍ EXISTE!\n",
            "--------------------\n",
            "Buscando el ID para Sipakapense (qum_Latn)...\n",
            "❌ FALLO: No se encontró un ID para 'qum_Latn'. ¡NO EXISTE!\n"
          ]
        }
      ]
    },
    {
      "cell_type": "markdown",
      "source": [
        "### Siguientes pasos"
      ],
      "metadata": {
        "id": "e65Ze3bBj1K6"
      }
    },
    {
      "cell_type": "markdown",
      "metadata": {
        "id": "smVHNrAeY5ck"
      },
      "source": [
        "Dataset se puede encontrar en el [siguiente enlace](https://github.com/transducens/mayanv)."
      ]
    },
    {
      "cell_type": "code",
      "execution_count": null,
      "metadata": {
        "id": "4l0xcZcOgsmx",
        "colab": {
          "base_uri": "https://localhost:8080/"
        },
        "outputId": "d34b8f56-ad22-426c-fbdb-56d6d77fc184"
      },
      "outputs": [
        {
          "output_type": "stream",
          "name": "stdout",
          "text": [
            "Attempting to load train split from: /content/drive/MyDrive/Colab Notebooks/Proyecto_DL_Traduccion/mayanv/MayanV/quc/train/data.es and /content/drive/MyDrive/Colab Notebooks/Proyecto_DL_Traduccion/mayanv/MayanV/quc/train/data.quc\n",
            "Attempting to load test split from: /content/drive/MyDrive/Colab Notebooks/Proyecto_DL_Traduccion/mayanv/MayanV/quc/test/data.es and /content/drive/MyDrive/Colab Notebooks/Proyecto_DL_Traduccion/mayanv/MayanV/quc/test/data.quc\n"
          ]
        },
        {
          "output_type": "execute_result",
          "data": {
            "text/plain": [
              "DatasetDict({\n",
              "    train: Dataset({\n",
              "        features: ['input', 'target'],\n",
              "        num_rows: 624\n",
              "    })\n",
              "    test: Dataset({\n",
              "        features: ['input', 'target'],\n",
              "        num_rows: 1000\n",
              "    })\n",
              "})"
            ]
          },
          "metadata": {},
          "execution_count": 38
        }
      ],
      "source": [
        "es_quc_dataset = generate_dataset(\"quc\", train_folder=\"train\", test_folder=\"test\")\n",
        "es_quc_dataset"
      ]
    },
    {
      "cell_type": "code",
      "source": [
        "# Save the dataset to the drive path\n",
        "es_quc_dataset.save_to_disk(f\"{DRIVE_PATH}/es_quc_dataset\")\n",
        "\n",
        "# Save the cloned git repository to the drive path\n",
        "!cp -r mayanv/ \"{DRIVE_PATH}/mayanv\"\n"
      ],
      "metadata": {
        "colab": {
          "base_uri": "https://localhost:8080/",
          "height": 99,
          "referenced_widgets": [
            "0e84bed1996e43a0a20961329b662689",
            "6a2a642ea75a44a49d817ad35d6fc6c0",
            "cbcb65f80a6a40269f0415231bec47f1",
            "02d0324226d3445aa5623d8d1ceba9ba",
            "9e86931550ec4f5baa0e1fad98cbc176",
            "44456341f212486abe4242d55debbc6d",
            "c870f72ecb454e49836ad516bf9817c3",
            "c4e3d38080df448b844156ed66cfb591",
            "9b495d7786d94bbe8b77a0d730499d83",
            "e686c95aefb74cf9bdf7141970382e0d",
            "29912816b3e9480e9fd64715f598d5fc",
            "f662f713573243168150d2cbfbc64e40",
            "471920f9b9634b369da8c82ace0706e7",
            "36d72b7758f444ef90664e84da546edc",
            "e4ef53794406424c90c14423d636b068",
            "849909c96ab34b3e870f5f466f486b2b",
            "43bcefd6e5334edeb93496cf07ba588c",
            "6677677fb6a249a3b0db09fb558443c3",
            "f6b7ecfc3ed94418a2a105acde1c88cf",
            "3bbfc01d9b904703989660fb0209590a",
            "e0541d363e1a43c3b8e00432e422c876",
            "f88dfdf62d9c426984173c0d79fda533"
          ]
        },
        "id": "L9w1VnYDcYpU",
        "outputId": "39e48177-5c38-40c1-8508-0ee81a89bb69"
      },
      "execution_count": null,
      "outputs": [
        {
          "output_type": "display_data",
          "data": {
            "text/plain": [
              "Saving the dataset (0/1 shards):   0%|          | 0/624 [00:00<?, ? examples/s]"
            ],
            "application/vnd.jupyter.widget-view+json": {
              "version_major": 2,
              "version_minor": 0,
              "model_id": "0e84bed1996e43a0a20961329b662689"
            }
          },
          "metadata": {}
        },
        {
          "output_type": "display_data",
          "data": {
            "text/plain": [
              "Saving the dataset (0/1 shards):   0%|          | 0/1000 [00:00<?, ? examples/s]"
            ],
            "application/vnd.jupyter.widget-view+json": {
              "version_major": 2,
              "version_minor": 0,
              "model_id": "f662f713573243168150d2cbfbc64e40"
            }
          },
          "metadata": {}
        },
        {
          "output_type": "stream",
          "name": "stdout",
          "text": [
            "^C\n"
          ]
        }
      ]
    },
    {
      "cell_type": "markdown",
      "metadata": {
        "id": "a6y8Xh2RBAmS"
      },
      "source": [
        "## Preparación y Entrenamiento de Modelos\n"
      ]
    },
    {
      "cell_type": "markdown",
      "metadata": {
        "id": "o6ngW-l5c1aq"
      },
      "source": [
        "### 1. Modelo Zero-shot"
      ]
    },
    {
      "cell_type": "code",
      "execution_count": 9,
      "metadata": {
        "id": "vu8_JYKFBErT",
        "colab": {
          "base_uri": "https://localhost:8080/",
          "height": 623,
          "referenced_widgets": [
            "505810cfbbff4d1e9376981f3b325117",
            "1e387be77f9044f8a7359fdefd2691bf",
            "d1c70303f07946d6ac87648b3120e708",
            "d8518f70a4044c6e952858de19ab65cb",
            "a84b9135164d41d38e770449d8f18ce6",
            "87893f1e6a3e4cab92031d89ddef4409",
            "095c75876c5349a399ed271217d674c3",
            "fc422988196e41df9b2ed4e666246e0e",
            "43bbead699ce4f72becd75681b690351",
            "d9a52343f7df49f497c35dd59e05c752",
            "05a666dc6878494190386039715411e3",
            "3eb31e98299a437c9a2a93d2055b5ec9",
            "6988007998d2403babbd9f9705bde7df",
            "fc3b9c126d014ae6bdf40818c44fa8e3",
            "201a88b7c75f40aa8328a1746744033b",
            "a0dc1716caff49e0b3c23502043cb04e",
            "a13e34c8ed724f89820134bc37db2e49",
            "a76785f320f948d18e2d94cbe8c23ee1",
            "c6db57406e4a4a409526a07fc4cebff4",
            "e0dc861f3d8846e39f966e0d68927eab",
            "a0cc467cd1a94f1ea5b4bb4254e7daee",
            "7d2fe9333307412789d886a05a772bec",
            "50209fcd91374928a63de1e412b61ecc",
            "5b1096e1331d4ad583d15f3e27d6be64",
            "5eb8f9c536c64f73a69ca55f1798e08d",
            "187b9186fb154c3b9a85203127d99182",
            "cdbaa37540cc4113aafd04b6ef173759",
            "36ecd326479b4900a9308ffa1b57873b",
            "4960cad7489940da9a7fd598e15b0333",
            "bc58ac0cb9a14490b472ff4833f33915",
            "ca52e9245aae4f67a277b35934f18718",
            "6af5c183493a490e888e6ce95603703c",
            "0237f8c1ec2d4df78e56ab64842b345f",
            "092008a1f4e64657a687661d71c048fe",
            "073bc32684a94f48a2883f0fb88fce77",
            "58d93dd234374bdcae3fc7b250a736ad",
            "5f131b88b07940ec96eb8a94b8bff3c5",
            "d043bbd5bff440cc8c83937fa1eff130",
            "8f751c2c00214500b4110e95d1e053be",
            "da6e9a55851f4a8a9a2fb691f497e001",
            "f0d3dddfbc9c400cb59a652db4a8e03d",
            "22302c7a295c41088294bcb4bbac421f",
            "22eada79daf545318d105fc6485f7b29",
            "46870abbf0724a7288f200caf3b1ce16",
            "c0f650df3156462ea343d2ef3bd6662d",
            "1cbd2a687fc74b74aaa554118724c548",
            "9b99b80b75f547878358c7509c55e20c",
            "b79328a9a7e44102bb679bbb2d0b5cf8",
            "4067b2ae081f4cc39d9814308bbb6849",
            "abca600e13b34602864522cba7e32a7d",
            "da2651191d3b4965b784e97bff8972db",
            "d4e45fdaf1d645238c22ed7e45b4edad",
            "db67791c326c4c3ba21c1d8ad6ffc6dd",
            "70b79b45d86f443d9b23395c2b68dc53",
            "623cc736a8914510bebfd9b67697d89a",
            "fd2a153bb26a43c9964f0c8fbf9c60ce",
            "803bd1f9cf654b9891f4144b6094cc82",
            "23f57d76cbf046bfad80b092eea01554",
            "535c75318e4a4eb1841b9c9905a43301",
            "78d89a03b389441c9e9f8eb45ec8f847",
            "209ab1b96946488b993b09dcf0475244",
            "5d9d09d14cfd4233a84245cdeeb708c1",
            "dca914a4649940a0a42ee202f30be5cf",
            "075b06f3bafd47d9b40a5e59f6b86996",
            "395f6f329fc3401ebd2dd5d09ab9201b",
            "18711c7ceb514d1c9cb30cfe0fe5b020",
            "6c0f9efc3fbb4cb08ba24f3a955af2cd",
            "a5c48f7e88684629a931c51615f638b6",
            "8924963aa7574ca0b0b2951d73e17e45",
            "8770c01e94f44aeb823c19aa3eef4fac",
            "4e5c4ff9c88844fa9ac318057e558f22",
            "df93f935dbee47029f72751c310616b5",
            "a392be92829c4f4f83ff07265b4e214a",
            "02c53f2759a24caf810bd28d7bc85383",
            "f666a918f1fc42f0b2cc28118d10f683",
            "183af5873c814bfd9e972da49319ea4d",
            "c217ff796fe9446fbbbfb89a952275be",
            "fbb198d1a29844b988896f13adb65879",
            "069e3d9761f44be9a3439fa75f4bad01",
            "4986c9578fab47ddbf7ee9917a9046b4",
            "5fc01a43c3a24073a1c4df316650e690",
            "13504e752c3c44379fb813742ddd31d9",
            "376e421e603a482987e46fcd3d976ccb",
            "8e5acdd7f7394432a5d70ca61652a2fd",
            "172255e4ed7f436992c8e8c8695dcf41",
            "32f8919ac7c1411aa7a7d618ec7ae614",
            "fee929c617cb48e093ac3994f19ea2c6",
            "beb7e33f31554e1da06cdcdfbfd8110e"
          ]
        },
        "outputId": "81f4cf50-5e85-414b-fda5-e81aecb3a638"
      },
      "outputs": [
        {
          "output_type": "stream",
          "name": "stderr",
          "text": [
            "/usr/local/lib/python3.11/dist-packages/huggingface_hub/utils/_auth.py:94: UserWarning: \n",
            "The secret `HF_TOKEN` does not exist in your Colab secrets.\n",
            "To authenticate with the Hugging Face Hub, create a token in your settings tab (https://huggingface.co/settings/tokens), set it as secret in your Google Colab and restart your session.\n",
            "You will be able to reuse this secret in all of your notebooks.\n",
            "Please note that authentication is recommended but still optional to access public models or datasets.\n",
            "  warnings.warn(\n"
          ]
        },
        {
          "output_type": "display_data",
          "data": {
            "text/plain": [
              "tokenizer_config.json:   0%|          | 0.00/564 [00:00<?, ?B/s]"
            ],
            "application/vnd.jupyter.widget-view+json": {
              "version_major": 2,
              "version_minor": 0,
              "model_id": "505810cfbbff4d1e9376981f3b325117"
            }
          },
          "metadata": {}
        },
        {
          "output_type": "display_data",
          "data": {
            "text/plain": [
              "sentencepiece.bpe.model:   0%|          | 0.00/4.85M [00:00<?, ?B/s]"
            ],
            "application/vnd.jupyter.widget-view+json": {
              "version_major": 2,
              "version_minor": 0,
              "model_id": "3eb31e98299a437c9a2a93d2055b5ec9"
            }
          },
          "metadata": {}
        },
        {
          "output_type": "display_data",
          "data": {
            "text/plain": [
              "tokenizer.json:   0%|          | 0.00/17.3M [00:00<?, ?B/s]"
            ],
            "application/vnd.jupyter.widget-view+json": {
              "version_major": 2,
              "version_minor": 0,
              "model_id": "50209fcd91374928a63de1e412b61ecc"
            }
          },
          "metadata": {}
        },
        {
          "output_type": "display_data",
          "data": {
            "text/plain": [
              "special_tokens_map.json: 0.00B [00:00, ?B/s]"
            ],
            "application/vnd.jupyter.widget-view+json": {
              "version_major": 2,
              "version_minor": 0,
              "model_id": "092008a1f4e64657a687661d71c048fe"
            }
          },
          "metadata": {}
        },
        {
          "output_type": "display_data",
          "data": {
            "text/plain": [
              "config.json:   0%|          | 0.00/846 [00:00<?, ?B/s]"
            ],
            "application/vnd.jupyter.widget-view+json": {
              "version_major": 2,
              "version_minor": 0,
              "model_id": "c0f650df3156462ea343d2ef3bd6662d"
            }
          },
          "metadata": {}
        },
        {
          "output_type": "display_data",
          "data": {
            "text/plain": [
              "pytorch_model.bin:   0%|          | 0.00/2.46G [00:00<?, ?B/s]"
            ],
            "application/vnd.jupyter.widget-view+json": {
              "version_major": 2,
              "version_minor": 0,
              "model_id": "fd2a153bb26a43c9964f0c8fbf9c60ce"
            }
          },
          "metadata": {}
        },
        {
          "output_type": "display_data",
          "data": {
            "text/plain": [
              "model.safetensors:   0%|          | 0.00/2.46G [00:00<?, ?B/s]"
            ],
            "application/vnd.jupyter.widget-view+json": {
              "version_major": 2,
              "version_minor": 0,
              "model_id": "6c0f9efc3fbb4cb08ba24f3a955af2cd"
            }
          },
          "metadata": {}
        },
        {
          "output_type": "display_data",
          "data": {
            "text/plain": [
              "generation_config.json:   0%|          | 0.00/189 [00:00<?, ?B/s]"
            ],
            "application/vnd.jupyter.widget-view+json": {
              "version_major": 2,
              "version_minor": 0,
              "model_id": "fbb198d1a29844b988896f13adb65879"
            }
          },
          "metadata": {}
        }
      ],
      "source": [
        "model_name = \"facebook/nllb-200-distilled-600M\"\n",
        "zeroshot_tokenizer = AutoTokenizer.from_pretrained(model_name, use_fast=True)\n",
        "zeroshot_model = AutoModelForSeq2SeqLM.from_pretrained(model_name)"
      ]
    },
    {
      "cell_type": "code",
      "execution_count": 10,
      "metadata": {
        "id": "XHu6X_ULjgGH"
      },
      "outputs": [],
      "source": [
        "zeroshot_tokenizer.src_lang = \"eng_Latn\"\n",
        "forced_bos_id = zeroshot_tokenizer.convert_tokens_to_ids(\"quc_Latn\")"
      ]
    },
    {
      "cell_type": "markdown",
      "source": [
        "### 2. Modelo con Finetuning Español-Kiche\n",
        "\n",
        "Aquí entrenamos un modelo para que sea un experto en una tarea específica: Español -> K'iche'. Este modelo se usará después como una pieza en el experimento del pipeline."
      ],
      "metadata": {
        "id": "p4wIXbXgpoxg"
      }
    },
    {
      "cell_type": "markdown",
      "metadata": {
        "id": "qjWCp3bkc27u"
      },
      "source": [
        "#### 2.1 Modelo con Finetuning Español-Kiche"
      ]
    },
    {
      "cell_type": "code",
      "execution_count": null,
      "metadata": {
        "id": "j0zKtLz_K7Uc"
      },
      "outputs": [],
      "source": [
        "model_name = \"facebook/nllb-200-distilled-600M\"\n",
        "finetune_tokenizer = AutoTokenizer.from_pretrained(model_name, use_fast=True)\n",
        "\n",
        "\n",
        "bnb_config = BitsAndBytesConfig(\n",
        "    load_in_4bit=True,\n",
        "    bnb_4bit_compute_dtype=torch.float16,\n",
        "    bnb_4bit_use_double_quant=True,\n",
        "    bnb_4bit_quant_type=\"nf4\",\n",
        ")\n",
        "\n",
        "\n",
        "finetune_model = AutoModelForSeq2SeqLM.from_pretrained(\n",
        "    model_name,\n",
        "    quantization_config=bnb_config,\n",
        "    device_map=\"auto\"\n",
        ")\n",
        "\n",
        "# Configurar LoRA\n",
        "lora_config = LoraConfig(\n",
        "    r=8,\n",
        "    lora_alpha=32,\n",
        "    target_modules=[\"q_proj\", \"v_proj\"],\n",
        "    lora_dropout=0.1,\n",
        "    bias=\"none\",\n",
        "    task_type=TaskType.SEQ_2_SEQ_LM\n",
        ")\n",
        "\n",
        "# Aplicar QLoRA\n",
        "finetune_model = get_peft_model(finetune_model, lora_config)"
      ]
    },
    {
      "cell_type": "code",
      "execution_count": null,
      "metadata": {
        "id": "R2iPhpoQnSc2",
        "colab": {
          "base_uri": "https://localhost:8080/",
          "height": 81,
          "referenced_widgets": [
            "5b11e24b33754ddb89cff003dfa5d23c",
            "f5eb711c2ad34a50a1d63682bdf20051",
            "b2b7f58b3bc44c2baca94d6bcda707cf",
            "5be66624e20c409c85273da7763fef04",
            "257f4514c7094d69b62a456117d6e378",
            "28f3b357be0f418fa508e5fd27dd0082",
            "5622c68731114911b1d6fa57e33b650a",
            "ec26f9173e3b4d1292c036a8de692bc5",
            "e97b68b8090b4f78b6b0c123167673f6",
            "b954b8add00d41dda762359f913193be",
            "e64ec2993e274a2b8e1f2cb35fa7f9a7",
            "88c70ce7cbe6402da3788bd0e050e7c4",
            "36748491798a42fbb2c205d52277f5c5",
            "dab10650ef1249f181f7f4872cd6351d",
            "3c9f37617a1349b28ade3eb002c0f906",
            "32e8a306451748b6877aec0134e3493f",
            "60ebfc44bbe846b0aa5905d067d63f4c",
            "4687d30deac54cfaa0947401696d596d",
            "c2ecf6351b6c42378465824c31cc21f1",
            "a1cb6539520b4606b70f680ef774e84d",
            "8f197be2e39a4a628d32bbd2f65e219e",
            "634b110e7e254da99f619bfa6e4ebbbf"
          ]
        },
        "outputId": "1f881d37-c22d-4cfe-c267-75cbaad40ab0"
      },
      "outputs": [
        {
          "output_type": "display_data",
          "data": {
            "text/plain": [
              "Map:   0%|          | 0/624 [00:00<?, ? examples/s]"
            ],
            "application/vnd.jupyter.widget-view+json": {
              "version_major": 2,
              "version_minor": 0,
              "model_id": "5b11e24b33754ddb89cff003dfa5d23c"
            }
          },
          "metadata": {}
        },
        {
          "output_type": "display_data",
          "data": {
            "text/plain": [
              "Map:   0%|          | 0/1000 [00:00<?, ? examples/s]"
            ],
            "application/vnd.jupyter.widget-view+json": {
              "version_major": 2,
              "version_minor": 0,
              "model_id": "88c70ce7cbe6402da3788bd0e050e7c4"
            }
          },
          "metadata": {}
        }
      ],
      "source": [
        "def preprocess_function(examples):\n",
        "    max_length = 128\n",
        "    # Tokeniza el input\n",
        "    inputs = finetune_tokenizer(examples[\"input\"], max_length=max_length, truncation=True, padding=True)\n",
        "    # Tokeniza la salida (target)\n",
        "    targets = finetune_tokenizer(examples[\"target\"], max_length=max_length, truncation=True, padding=True)\n",
        "\n",
        "    inputs[\"labels\"] = targets[\"input_ids\"]\n",
        "    return inputs\n",
        "\n",
        "tokenized_train = es_quc_dataset[\"train\"].map(preprocess_function, batched=True)\n",
        "tokenized_test = es_quc_dataset[\"test\"].map(preprocess_function, batched=True)"
      ]
    },
    {
      "cell_type": "code",
      "execution_count": null,
      "metadata": {
        "id": "aXgDM4lAnagN",
        "colab": {
          "base_uri": "https://localhost:8080/",
          "height": 261
        },
        "outputId": "ea9a2be3-5f6e-479a-e01c-2903c233fbef"
      },
      "outputs": [
        {
          "output_type": "stream",
          "name": "stderr",
          "text": [
            "/tmp/ipython-input-16-279613285.py:16: FutureWarning: `tokenizer` is deprecated and will be removed in version 5.0.0 for `Trainer.__init__`. Use `processing_class` instead.\n",
            "  trainer = Trainer(\n",
            "No label_names provided for model class `PeftModelForSeq2SeqLM`. Since `PeftModel` hides base models input arguments, if label_names is not given, label_names can't be set automatically within `Trainer`. Note that empty label_names list will be used instead.\n"
          ]
        },
        {
          "output_type": "display_data",
          "data": {
            "text/plain": [
              "<IPython.core.display.HTML object>"
            ],
            "text/html": [
              "\n",
              "    <div>\n",
              "      \n",
              "      <progress value='468' max='468' style='width:300px; height:20px; vertical-align: middle;'></progress>\n",
              "      [468/468 04:15, Epoch 3/3]\n",
              "    </div>\n",
              "    <table border=\"1\" class=\"dataframe\">\n",
              "  <thead>\n",
              " <tr style=\"text-align: left;\">\n",
              "      <th>Epoch</th>\n",
              "      <th>Training Loss</th>\n",
              "      <th>Validation Loss</th>\n",
              "    </tr>\n",
              "  </thead>\n",
              "  <tbody>\n",
              "    <tr>\n",
              "      <td>1</td>\n",
              "      <td>No log</td>\n",
              "      <td>5.500633</td>\n",
              "    </tr>\n",
              "    <tr>\n",
              "      <td>2</td>\n",
              "      <td>No log</td>\n",
              "      <td>5.436388</td>\n",
              "    </tr>\n",
              "    <tr>\n",
              "      <td>3</td>\n",
              "      <td>No log</td>\n",
              "      <td>5.419795</td>\n",
              "    </tr>\n",
              "  </tbody>\n",
              "</table><p>"
            ]
          },
          "metadata": {}
        },
        {
          "output_type": "stream",
          "name": "stdout",
          "text": [
            "✅ Model and tokenizer saved to /content/drive/MyDrive/Colab Notebooks/Proyecto_DL_Traduccion/qlora_finetuned_es_quc_nllb\n"
          ]
        }
      ],
      "source": [
        "training_args = TrainingArguments(\n",
        "    output_dir=\"./qlora_finetuned_qum_nllb\",\n",
        "    per_device_train_batch_size=4,\n",
        "    per_device_eval_batch_size=4,\n",
        "    num_train_epochs=3,\n",
        "    learning_rate=2e-4,\n",
        "    eval_strategy=\"epoch\",\n",
        "    save_strategy=\"epoch\",\n",
        "    logging_dir=\"./logs_qlora\",\n",
        "    save_total_limit=2,\n",
        "    bf16=False,\n",
        "    fp16=True,\n",
        "    report_to=\"none\"\n",
        ")\n",
        "\n",
        "trainer = Trainer(\n",
        "    model=finetune_model,\n",
        "    args=training_args,\n",
        "    train_dataset=tokenized_train,\n",
        "    eval_dataset=tokenized_test,\n",
        "    tokenizer=finetune_tokenizer,\n",
        ")\n",
        "\n",
        "trainer.train()\n",
        "\n",
        "# Define the save path\n",
        "save_path = f\"{DRIVE_PATH}/qlora_finetuned_es_quc_nllb\"\n",
        "\n",
        "# Save the model and tokenizer to the specified path\n",
        "finetune_model.save_pretrained(save_path)\n",
        "finetune_tokenizer.save_pretrained(save_path)\n",
        "\n",
        "print(f\"✅ Model and tokenizer saved to {save_path}\")"
      ]
    },
    {
      "cell_type": "markdown",
      "metadata": {
        "id": "dazLUZlhKKHk"
      },
      "source": [
        "### 3. Modelo con Finetuning Inglés-Kiche"
      ]
    },
    {
      "cell_type": "markdown",
      "source": [
        "#### 3.1 CREACIÓN DEL DATASET SINTÉTICO usando el modelo Zero-Shot\n",
        "\n",
        "Tenemos que fábricar las palabras nuevas, convertir un par (Español, K'iche') en un par (Inglés, K'iche'). Para esto usamos el modelo Zero-Shot para obtener las traducciones pertinentes"
      ],
      "metadata": {
        "id": "5Vo2n7RAnJaw"
      }
    },
    {
      "cell_type": "code",
      "execution_count": 14,
      "metadata": {
        "id": "rvt-fnEaK6vM",
        "colab": {
          "base_uri": "https://localhost:8080/"
        },
        "outputId": "26d1a6c1-064c-420b-e74a-07238f888dfd",
        "collapsed": true
      },
      "outputs": [
        {
          "output_type": "stream",
          "name": "stdout",
          "text": [
            "{'input': 'Ri tat Xwan potzʼ', 'target': '#quc# Don Juan está ciego'}\n",
            "🔄 Traduciendo split 'train' de español a inglés...\n",
            "\n"
          ]
        },
        {
          "output_type": "stream",
          "name": "stderr",
          "text": [
            "100%|██████████| 624/624 [25:07<00:00,  2.42s/it]\n"
          ]
        },
        {
          "output_type": "stream",
          "name": "stdout",
          "text": [
            "{'input': 'Ri tat Xwan potzʼ', 'target': '#quc# Don Juan está ciego'}\n",
            "🔄 Traduciendo split 'test' de español a inglés...\n",
            "\n"
          ]
        },
        {
          "output_type": "stream",
          "name": "stderr",
          "text": [
            "100%|██████████| 1000/1000 [39:07<00:00,  2.35s/it]\n"
          ]
        }
      ],
      "source": [
        "def build_en_quc_split(split, model, tokenizer, dataset):\n",
        "\n",
        "    print(dataset[\"train\"][8])\n",
        "    new_inputs = []\n",
        "    new_targets = []\n",
        "\n",
        "    print(f\"🔄 Traduciendo split '{split}' de español a inglés...\\n\")\n",
        "    for example in tqdm(dataset[split]):\n",
        "        es_text = example[\"target\"]\n",
        "        en_text = translate_text(model, tokenizer, es_text, \"spa_Latn\", \"eng_Latn\")\n",
        "        new_inputs.append(en_text)\n",
        "        new_targets.append(example[\"target\"])\n",
        "\n",
        "    return Dataset.from_dict({\n",
        "        \"input\": new_inputs,\n",
        "        \"target\": new_targets\n",
        "    })\n",
        "\n",
        "# Generar splits\n",
        "dataset_variable_name = f\"es_{TARGET_LANG_SHORT_CODE}_dataset\"\n",
        "es_target_dataset = globals().get(dataset_variable_name)\n",
        "\n",
        "if es_target_dataset is None:\n",
        "    raise NameError(f\"Dataset variable '{dataset_variable_name}' not found. Please ensure the dataset for {PIVOT_LANG_NAME}-{TARGET_LANG_NAME} is generated and named correctly.\")\n",
        "\n",
        "\n",
        "en_quc_train = build_en_quc_split(\"train\", zeroshot_model, zeroshot_tokenizer, es_target_dataset)\n",
        "en_quc_test = build_en_quc_split(\"test\", zeroshot_model, zeroshot_tokenizer, es_target_dataset)\n",
        "\n",
        "# Combinar\n",
        "en_quc_dataset = DatasetDict({\n",
        "    \"train\": en_quc_train,\n",
        "    \"test\": en_quc_test\n",
        "})"
      ]
    },
    {
      "cell_type": "markdown",
      "source": [
        "#### 3.2 SAVE Dataset"
      ],
      "metadata": {
        "id": "E9-dx3UIWx3u"
      }
    },
    {
      "cell_type": "code",
      "execution_count": 15,
      "metadata": {
        "id": "5hInI7CrxB8H"
      },
      "outputs": [],
      "source": [
        "def save_en_quc_dataset_to_files(dataset: DatasetDict, output_directory: str):\n",
        "    \"\"\"\n",
        "    Saves the English-K'iche' dataset splits (train, test) into separate .en and .quc files.\n",
        "\n",
        "    Args:\n",
        "        dataset (DatasetDict): The dataset object containing 'train' and 'test' splits,\n",
        "                               where each example has 'input' (English) and 'target' (K'iche').\n",
        "        output_directory (str): The path to the directory where the files will be saved.\n",
        "                                This directory will be created if it doesn't exist.\n",
        "    \"\"\"\n",
        "    if not isinstance(dataset, DatasetDict):\n",
        "        print(f\"❌ Error: Expected 'dataset' to be a DatasetDict, but got {type(dataset)}\")\n",
        "        return\n",
        "\n",
        "    # Create the output directory if it doesn't exist\n",
        "    os.makedirs(output_directory, exist_ok=True)\n",
        "    print(f\"Ensuring output directory exists: {output_directory}\")\n",
        "\n",
        "    try:\n",
        "        # Save each split (train, test) into .en (English) and .quc (K'iche') files\n",
        "        for split in [\"train\", \"test\"]:\n",
        "            if split not in dataset:\n",
        "                print(f\"⚠️ Warning: Split '{split}' not found in the dataset. Skipping.\")\n",
        "                continue\n",
        "\n",
        "            # Check if 'input' and 'target' keys exist in the first example of the split\n",
        "            # This is a basic check to ensure the expected structure\n",
        "            if dataset[split] and (\"input\" not in dataset[split][0] or \"target\" not in dataset[split][0]):\n",
        "                print(f\"❌ Error: Expected 'input' and 'target' keys in dataset[{split}] examples. Skipping.\")\n",
        "                continue\n",
        "\n",
        "            file_path_en = os.path.join(output_directory, f\"{split}.en\")\n",
        "            file_path_quc = os.path.join(output_directory, f\"{split}.quc\")\n",
        "\n",
        "            with open(file_path_en, \"w\", encoding=\"utf-8\") as f_en, \\\n",
        "                 open(file_path_quc, \"w\", encoding=\"utf-8\") as f_quc:\n",
        "\n",
        "                for example in dataset[split]:\n",
        "                    f_en.write(example[\"input\"].strip() + \"\\n\")\n",
        "                    f_quc.write(example[\"target\"].strip() + \"\\n\")\n",
        "\n",
        "            print(f\"✅ Files '{split}.en' and '{split}.quc' saved to {output_directory}\")\n",
        "\n",
        "        print(f\"✅ All .en and .quc files processed and saved to {output_directory}\")\n",
        "\n",
        "    except Exception as e:\n",
        "        print(f\"❌ An error occurred while saving the files: {e}\")\n",
        "\n"
      ]
    },
    {
      "cell_type": "code",
      "source": [
        "save_en_quc_dataset_to_files(en_quc_dataset, EN_QUC_DATASET_FILES_PATH)"
      ],
      "metadata": {
        "colab": {
          "base_uri": "https://localhost:8080/"
        },
        "id": "4dAk_F_lAGYS",
        "outputId": "c2efada7-14cb-4115-cfbd-9fdaabc99e5b"
      },
      "execution_count": 16,
      "outputs": [
        {
          "output_type": "stream",
          "name": "stdout",
          "text": [
            "Ensuring output directory exists: /content/drive/MyDrive/Colab Notebooks/Proyecto_DL_Traduccion/en_quc_dataset_files\n",
            "✅ Files 'train.en' and 'train.quc' saved to /content/drive/MyDrive/Colab Notebooks/Proyecto_DL_Traduccion/en_quc_dataset_files\n",
            "✅ Files 'test.en' and 'test.quc' saved to /content/drive/MyDrive/Colab Notebooks/Proyecto_DL_Traduccion/en_quc_dataset_files\n",
            "✅ All .en and .quc files processed and saved to /content/drive/MyDrive/Colab Notebooks/Proyecto_DL_Traduccion/en_quc_dataset_files\n"
          ]
        }
      ]
    },
    {
      "cell_type": "markdown",
      "source": [
        "#### 3.3 Preparación y entrenamiento"
      ],
      "metadata": {
        "id": "aV0wNaunngdF"
      }
    },
    {
      "cell_type": "code",
      "execution_count": null,
      "metadata": {
        "id": "LEUkIjpj33ln"
      },
      "outputs": [],
      "source": [
        "model_name = \"facebook/nllb-200-distilled-600M\"\n",
        "en_quc_tokenizer = AutoTokenizer.from_pretrained(model_name, use_fast=True)\n",
        "en_quc_model = AutoModelForSeq2SeqLM.from_pretrained(model_name)"
      ]
    },
    {
      "cell_type": "code",
      "execution_count": null,
      "metadata": {
        "id": "w1sEWghP4B7C",
        "colab": {
          "base_uri": "https://localhost:8080/",
          "height": 81,
          "referenced_widgets": [
            "8561f2c510594f798cf174618d08e7bd",
            "e4ba6777cc044e8984e01f2b2c1ee6d4",
            "82e92e7bd2e14b8095af123d2935ad04",
            "51b0d478ec91455ca435acdac1dde793",
            "c89bd2102a954274b7f320decf15e3f2",
            "1a23cfc439924534b6fe8e918a7bed64",
            "8838189d1cf04b51bd2fc07abe479b4f",
            "b08eb2095bd447639ad4337527f73b1f",
            "8e5b13fa32f74d49934322caed2fd3c4",
            "85b1bb89725d4222bb447be23e2bbe0c",
            "d3c77a5c2b4b4b41b86f0ca86fe349b8",
            "d7276770fe354d1a860de8ad6649dc6e",
            "3c44bbe816e646cfac261c763ae778c4",
            "2389604a119a4357a1d2ceff334ffc3f",
            "c7cc4ef8827140ad80f10c0641b9dba9",
            "f2ab5ad7f52f45ffa0d4eb85c793d1a5",
            "0ed9089e935f4715b469b105da6abb39",
            "c3cc9ceee34e4c2183bc23861bb429fb",
            "046dabf5488c44eb802b27c3a982ff1f",
            "e1b788d46e35432c93360b89ca8af3e3",
            "e8be288bf58d46c5a385470fb886b350",
            "49625d28bb7f41cca31e3a70d291717c"
          ]
        },
        "outputId": "a95828ff-9fa9-4302-fdec-b8d2a2183f37"
      },
      "outputs": [
        {
          "output_type": "display_data",
          "data": {
            "text/plain": [
              "Map:   0%|          | 0/624 [00:00<?, ? examples/s]"
            ],
            "application/vnd.jupyter.widget-view+json": {
              "version_major": 2,
              "version_minor": 0,
              "model_id": "8561f2c510594f798cf174618d08e7bd"
            }
          },
          "metadata": {}
        },
        {
          "output_type": "display_data",
          "data": {
            "text/plain": [
              "Map:   0%|          | 0/1000 [00:00<?, ? examples/s]"
            ],
            "application/vnd.jupyter.widget-view+json": {
              "version_major": 2,
              "version_minor": 0,
              "model_id": "d7276770fe354d1a860de8ad6649dc6e"
            }
          },
          "metadata": {}
        }
      ],
      "source": [
        "def preprocess_function_en_quc(examples):\n",
        "    max_length = 128\n",
        "    inputs = en_quc_tokenizer(examples[\"input\"], max_length=max_length, truncation=True, padding=\"max_length\")\n",
        "    targets = en_quc_tokenizer(examples[\"target\"], max_length=max_length, truncation=True, padding=\"max_length\")\n",
        "    inputs[\"labels\"] = targets[\"input_ids\"]\n",
        "    return inputs\n",
        "\n",
        "tokenized_en_quc_train = en_quc_dataset[\"train\"].map(preprocess_function_en_quc, batched=True)\n",
        "tokenized_en_quc_test = en_quc_dataset[\"test\"].map(preprocess_function_en_quc, batched=True)"
      ]
    },
    {
      "cell_type": "code",
      "execution_count": null,
      "metadata": {
        "id": "mxivqDvt4GEf",
        "colab": {
          "base_uri": "https://localhost:8080/",
          "height": 70
        },
        "outputId": "ceef6f96-5bff-4a09-b6c9-d77522757ac6"
      },
      "outputs": [
        {
          "output_type": "execute_result",
          "data": {
            "text/plain": [
              "'\\ntraining_args = TrainingArguments(\\n    output_dir=\"./qlora_finetuned_qum_nllb\",\\n    per_device_train_batch_size=4,\\n    per_device_eval_batch_size=4,\\n    num_train_epochs=3,\\n    learning_rate=2e-4,\\n    eval_strategy=\"epoch\",\\n    save_strategy=\"epoch\",\\n    logging_dir=\"./logs_qlora\",\\n    save_total_limit=2,\\n    bf16=False,\\n    fp16=True,\\n    report_to=\"none\"\\n)\\n'"
            ],
            "application/vnd.google.colaboratory.intrinsic+json": {
              "type": "string"
            }
          },
          "metadata": {},
          "execution_count": 55
        }
      ],
      "source": [
        "training_args_en_quc = TrainingArguments(\n",
        "    output_dir=f\"{DRIVE_PATH}/finetuned_en_quc_nllb\",\n",
        "    eval_strategy=\"epoch\",\n",
        "    learning_rate=5e-5,\n",
        "    per_device_train_batch_size=8,\n",
        "    per_device_eval_batch_size=8,\n",
        "    num_train_epochs=3,\n",
        "    weight_decay=0.01,\n",
        "    save_total_limit=2,\n",
        "    save_strategy=\"epoch\",\n",
        "    logging_dir=\"./logs_en_quc\",\n",
        "    logging_steps=100,\n",
        "    report_to=\"none\" # Disable reporting to wandb\n",
        ")\n",
        "\n",
        "\"\"\"\n",
        "training_args = TrainingArguments(\n",
        "    output_dir=\"./qlora_finetuned_qum_nllb\",\n",
        "    per_device_train_batch_size=4,\n",
        "    per_device_eval_batch_size=4,\n",
        "    num_train_epochs=3,\n",
        "    learning_rate=2e-4,\n",
        "    eval_strategy=\"epoch\",\n",
        "    save_strategy=\"epoch\",\n",
        "    logging_dir=\"./logs_qlora\",\n",
        "    save_total_limit=2,\n",
        "    bf16=False,\n",
        "    fp16=True,\n",
        "    report_to=\"none\"\n",
        ")\n",
        "\"\"\""
      ]
    },
    {
      "cell_type": "code",
      "execution_count": null,
      "metadata": {
        "id": "WWYUxQWm4IU_",
        "colab": {
          "base_uri": "https://localhost:8080/",
          "height": 297
        },
        "outputId": "a2209f54-f825-40ee-b480-c6ddcc937e15"
      },
      "outputs": [
        {
          "output_type": "stream",
          "name": "stderr",
          "text": [
            "/tmp/ipython-input-56-489488295.py:14: FutureWarning: `tokenizer` is deprecated and will be removed in version 5.0.0 for `Trainer.__init__`. Use `processing_class` instead.\n",
            "  trainer_en_quc = Trainer(\n",
            "Passing a tuple of `past_key_values` is deprecated and will be removed in Transformers v4.58.0. You should pass an instance of `EncoderDecoderCache` instead, e.g. `past_key_values=EncoderDecoderCache.from_legacy_cache(past_key_values)`.\n"
          ]
        },
        {
          "output_type": "display_data",
          "data": {
            "text/plain": [
              "<IPython.core.display.HTML object>"
            ],
            "text/html": [
              "\n",
              "    <div>\n",
              "      \n",
              "      <progress value='234' max='234' style='width:300px; height:20px; vertical-align: middle;'></progress>\n",
              "      [234/234 16:04, Epoch 3/3]\n",
              "    </div>\n",
              "    <table border=\"1\" class=\"dataframe\">\n",
              "  <thead>\n",
              " <tr style=\"text-align: left;\">\n",
              "      <th>Epoch</th>\n",
              "      <th>Training Loss</th>\n",
              "      <th>Validation Loss</th>\n",
              "    </tr>\n",
              "  </thead>\n",
              "  <tbody>\n",
              "    <tr>\n",
              "      <td>1</td>\n",
              "      <td>No log</td>\n",
              "      <td>6.088306</td>\n",
              "    </tr>\n",
              "    <tr>\n",
              "      <td>2</td>\n",
              "      <td>8.219700</td>\n",
              "      <td>4.663156</td>\n",
              "    </tr>\n",
              "    <tr>\n",
              "      <td>3</td>\n",
              "      <td>5.058900</td>\n",
              "      <td>4.226790</td>\n",
              "    </tr>\n",
              "  </tbody>\n",
              "</table><p>"
            ]
          },
          "metadata": {}
        },
        {
          "output_type": "stream",
          "name": "stderr",
          "text": [
            "/usr/local/lib/python3.11/dist-packages/transformers/modeling_utils.py:3685: UserWarning: Moving the following attributes in the config to the generation config: {'max_length': 200}. You are seeing this warning because you've set generation parameters in the model config, as opposed to in the generation config.\n",
            "  warnings.warn(\n"
          ]
        },
        {
          "output_type": "stream",
          "name": "stdout",
          "text": [
            "✅ EN-QUC model and tokenizer saved to /content/drive/MyDrive/Colab Notebooks/Proyecto_DL_Traduccion/finetuned_en_quc_nllb\n"
          ]
        }
      ],
      "source": [
        "\"\"\"\n",
        "\n",
        "\n",
        "trainer = Trainer(\n",
        "    model=finetune_model,\n",
        "    args=training_args,\n",
        "    train_dataset=tokenized_train,\n",
        "    eval_dataset=tokenized_test,\n",
        "    tokenizer=finetune_tokenizer,\n",
        ")\n",
        "\"\"\"\n",
        "\n",
        "\n",
        "trainer_en_quc = Trainer(\n",
        "    model=en_quc_model,\n",
        "    args=training_args_en_quc,\n",
        "    train_dataset=tokenized_en_quc_train,\n",
        "    eval_dataset=tokenized_en_quc_test,\n",
        "    tokenizer=en_quc_tokenizer,\n",
        ")\n",
        "\n",
        "\n",
        "\n",
        "trainer_en_quc.train()\n",
        "\n",
        "# Define the save path for the EN-QUC model\n",
        "save_path_en_quc = f\"{DRIVE_PATH}/finetuned_en_quc_nllb\"\n",
        "\n",
        "# Save the model and tokenizer to the specified path\n",
        "en_quc_model.save_pretrained(save_path_en_quc)\n",
        "en_quc_tokenizer.save_pretrained(save_path_en_quc)\n",
        "\n",
        "print(f\"✅ EN-QUC model and tokenizer saved to {save_path_en_quc}\")"
      ]
    },
    {
      "cell_type": "markdown",
      "source": [
        "## Load from Google Drive"
      ],
      "metadata": {
        "id": "9bHhI_bu9N0-"
      }
    },
    {
      "cell_type": "markdown",
      "source": [
        "#### Load English Kiche Zero-Shot Model"
      ],
      "metadata": {
        "id": "dQ20bShx-ib1"
      }
    },
    {
      "cell_type": "code",
      "source": [
        "model_name = \"facebook/nllb-200-distilled-600M\"\n",
        "zeroshot_tokenizer = AutoTokenizer.from_pretrained(model_name, use_fast=True)\n",
        "zeroshot_model = AutoModelForSeq2SeqLM.from_pretrained(model_name)\n",
        "\n",
        "zeroshot_tokenizer.src_lang = \"eng_Latn\"\n",
        "forced_bos_id = zeroshot_tokenizer.convert_tokens_to_ids(\"quc_Latn\")"
      ],
      "metadata": {
        "id": "S46Kolp5-sT7"
      },
      "execution_count": 20,
      "outputs": []
    },
    {
      "cell_type": "markdown",
      "source": [
        "#### Load Spanish Kiche Model"
      ],
      "metadata": {
        "id": "yPnxwjokkB9M"
      }
    },
    {
      "cell_type": "code",
      "source": [
        "def load_models_and_tokenizers_espanol_kiche(drive_path: str, base_model_id: str):\n",
        "    \"\"\"\n",
        "    Loads the fine-tuned Español-K'iche' QLoRA model and tokenizer.\n",
        "\n",
        "    Args:\n",
        "        drive_path (str): Base path to your Google Drive.\n",
        "        base_model_id (str): Identifier for the base model (e.g., \"facebook/nllb-200-distilled-600M\").\n",
        "\n",
        "    Returns:\n",
        "        tuple: A tuple containing reloaded_finetune_model and reloaded_finetune_tokenizer.\n",
        "               Returns (None, None) if loading fails.\n",
        "    \"\"\"\n",
        "    reloaded_finetune_model = None\n",
        "    reloaded_finetune_tokenizer = None\n",
        "    save_path_es_quc = f\"{drive_path}/qlora_finetuned_es_quc_nllb\"\n",
        "\n",
        "    if os.path.exists(save_path_es_quc):\n",
        "        print(f\"✅ Found fine-tuned model directory at {save_path_es_quc}\")\n",
        "        try:\n",
        "            # Load the base model first (needed for QLoRA)\n",
        "            reloaded_base_model = AutoModelForSeq2SeqLM.from_pretrained(base_model_id)\n",
        "\n",
        "            # Load the QLoRA adapter weights on top of the base model\n",
        "            reloaded_finetune_model = PeftModel.from_pretrained(reloaded_base_model, save_path_es_quc)\n",
        "\n",
        "            # Load the tokenizer\n",
        "            reloaded_finetune_tokenizer = AutoTokenizer.from_pretrained(save_path_es_quc)\n",
        "\n",
        "            print(f\"✅ Model and tokenizer reloaded successfully from {save_path_es_quc}\")\n",
        "        except Exception as e:\n",
        "            print(f\"❌ Error reloading fine-tuned model: {e}\")\n",
        "    else:\n",
        "        print(f\"❌ Fine-tuned model directory not found at {save_path_es_quc}\")\n",
        "        print(\"Please ensure the model was saved correctly.\")\n",
        "\n",
        "    return reloaded_finetune_model, reloaded_finetune_tokenizer"
      ],
      "metadata": {
        "id": "IakF2Qipv3xm"
      },
      "execution_count": 8,
      "outputs": []
    },
    {
      "cell_type": "code",
      "source": [
        "# Load models and tokenizers\n",
        "espanol_kiche_finetune_model, espanol_kiche_finetune_tokenizer = load_models_and_tokenizers_espanol_kiche(DRIVE_PATH, BASE_MODEL_ID)\n",
        "es_quc_model = espanol_kiche_finetune_model\n",
        "es_quc_tokenizer = espanol_kiche_finetune_tokenizer"
      ],
      "metadata": {
        "colab": {
          "base_uri": "https://localhost:8080/",
          "height": 72
        },
        "id": "KzCZvYDxxNS-",
        "outputId": "1e4ea0b8-8276-4a02-ebdb-c6b72acd49a0"
      },
      "execution_count": 9,
      "outputs": [
        {
          "output_type": "stream",
          "name": "stdout",
          "text": [
            "✅ Found fine-tuned model directory at /content/drive/MyDrive/Colab Notebooks/Proyecto_DL_Traduccion/qlora_finetuned_es_quc_nllb\n",
            "✅ Model and tokenizer reloaded successfully from /content/drive/MyDrive/Colab Notebooks/Proyecto_DL_Traduccion/qlora_finetuned_es_quc_nllb\n"
          ]
        }
      ]
    },
    {
      "cell_type": "markdown",
      "source": [
        "#### Load English Kiche Model"
      ],
      "metadata": {
        "id": "nF6_ifRr8mbI"
      }
    },
    {
      "cell_type": "code",
      "metadata": {
        "id": "f78dbeb3"
      },
      "source": [
        "from peft import PeftModel\n",
        "from transformers import AutoTokenizer, AutoModelForSeq2SeqLM # Import AutoModelForSeq2SeqLM\n",
        "\n",
        "def load_finetuned_english_kiche_model(drive_path: str, base_model_id: str):\n",
        "    \"\"\"\n",
        "    Loads the fine-tuned English-K'iche' model and tokenizer from Google Drive.\n",
        "\n",
        "    Args:\n",
        "        drive_path (str): Base path to your Google Drive where the model is saved.\n",
        "        base_model_id (str): Identifier for the base model (e.g., \"facebook/nllb-200-distilled-600M\").\n",
        "\n",
        "    Returns:\n",
        "        tuple: A tuple containing reloaded_model and reloaded_tokenizer.\n",
        "               Returns (None, None) if loading fails.\n",
        "    \"\"\"\n",
        "    reloaded_model = None\n",
        "    reloaded_tokenizer = None\n",
        "    save_path = f\"{drive_path}/finetuned_en_quc_nllb\"\n",
        "\n",
        "    if os.path.exists(save_path):\n",
        "        print(f\"✅ Found fine-tuned model directory at {save_path}\")\n",
        "        try:\n",
        "            # Load the fine-tuned model directly\n",
        "            reloaded_model = AutoModelForSeq2SeqLM.from_pretrained(save_path)\n",
        "\n",
        "            # Load the tokenizer\n",
        "            reloaded_tokenizer = AutoTokenizer.from_pretrained(save_path)\n",
        "\n",
        "            print(f\"✅ Model and tokenizer reloaded successfully from {save_path}\")\n",
        "        except Exception as e:\n",
        "            print(f\"❌ Error reloading fine-tuned model: {e}\")\n",
        "            reloaded_model = None\n",
        "            reloaded_tokenizer = None\n",
        "    else:\n",
        "        print(f\"❌ Fine-tuned model directory not found at {save_path}\")\n",
        "        print(\"Please ensure the model was saved correctly.\")\n",
        "\n",
        "    return reloaded_model, reloaded_tokenizer\n",
        "\n",
        "# Example usage (you can run this cell to test loading)\n",
        "# en_quc_finetuned_model, en_quc_finetuned_tokenizer = load_finetuned_english_kiche_model(DRIVE_PATH, BASE_MODEL_ID)"
      ],
      "execution_count": 10,
      "outputs": []
    },
    {
      "cell_type": "code",
      "source": [
        "english_kiche_finetuned_model, english_kiche_finetuned_tokenizer = load_finetuned_english_kiche_model(DRIVE_PATH, BASE_MODEL_ID)\n",
        "en_quc_model = english_kiche_finetuned_model\n",
        "en_quc_tokenizer = english_kiche_finetuned_tokenizer"
      ],
      "metadata": {
        "colab": {
          "base_uri": "https://localhost:8080/",
          "height": 72
        },
        "id": "wMOy5VE1_sLs",
        "outputId": "41543c20-03b9-4e14-fe1a-bd72576a2fa9"
      },
      "execution_count": 11,
      "outputs": [
        {
          "output_type": "stream",
          "name": "stdout",
          "text": [
            "✅ Found fine-tuned model directory at /content/drive/MyDrive/Colab Notebooks/Proyecto_DL_Traduccion/finetuned_en_quc_nllb\n",
            "✅ Model and tokenizer reloaded successfully from /content/drive/MyDrive/Colab Notebooks/Proyecto_DL_Traduccion/finetuned_en_quc_nllb\n"
          ]
        }
      ]
    },
    {
      "cell_type": "markdown",
      "source": [
        "#### Load Spanish-Kiche and English-Kiche datasets"
      ],
      "metadata": {
        "id": "Zb65tkAyW6fK"
      }
    },
    {
      "cell_type": "code",
      "source": [
        "def load_datasets(es_quc_dataset_path: str, en_quc_dataset_files_path: str, mayanv_repo_path: str):\n",
        "    \"\"\"\n",
        "    Carga ambos datasets desde sus respectivas carpetas guardadas en Google Drive.\n",
        "    \"\"\"\n",
        "    loaded_es_quc_dataset = None\n",
        "    en_quc_dataset = None\n",
        "\n",
        "    # --- 1. Cargar el dataset Español-K'iche' desde su carpeta guardada ---\n",
        "    # Se mantiene tu lógica original de cargar desde el disco.\n",
        "    print(f\"\\n--- Intentando cargar es_quc_dataset desde: {es_quc_dataset_path} ---\")\n",
        "    try:\n",
        "        loaded_es_quc_dataset = DatasetDict.load_from_disk(es_quc_dataset_path)\n",
        "        print(\"✅ Dataset Español-K'iche' cargado exitosamente desde el disco.\")\n",
        "        print(loaded_es_quc_dataset)\n",
        "    except Exception as e:\n",
        "        print(f\"❌ Error al cargar es_quc_dataset desde el disco: {e}\")\n",
        "        print(\"Asegúrate de haber ejecutado la celda que lo guarda con 'save_to_disk' primero.\")\n",
        "\n",
        "    # --- 2. Cargar el dataset sintético Inglés-K'iche' desde archivos de texto ---\n",
        "    # Aquí aplicamos la corrección para que se cargue como un dataset paralelo.\n",
        "    print(f\"\\n--- Cargando dataset sintético desde: {en_quc_dataset_files_path} ---\")\n",
        "\n",
        "    def load_parallel_corpus_from_files(split_name):\n",
        "        \"\"\"Función interna para leer los archivos .en y .quc y unirlos.\"\"\"\n",
        "        source_path = f\"{en_quc_dataset_files_path}/{split_name}.en\"\n",
        "        target_path = f\"{en_quc_dataset_files_path}/{split_name}.quc\"\n",
        "\n",
        "        if not os.path.exists(source_path) or not os.path.exists(target_path):\n",
        "            print(f\"ADVERTENCIA: Archivos para el split '{split_name}' no encontrados en la ruta.\")\n",
        "            return None\n",
        "\n",
        "        with open(source_path, \"r\", encoding=\"utf-8\") as f:\n",
        "            source_lines = [line.strip() for line in f.readlines()]\n",
        "        with open(target_path, \"r\", encoding=\"utf-8\") as f:\n",
        "            target_lines = [line.strip() for line in f.readlines()]\n",
        "\n",
        "        if len(source_lines) != len(target_lines):\n",
        "            raise ValueError(f\"Archivos del split '{split_name}' no tienen el mismo número de líneas.\")\n",
        "\n",
        "        # Devolvemos un Dataset con las columnas \"input\" y \"target\"\n",
        "        return Dataset.from_dict({\"input\": source_lines, \"target\": target_lines})\n",
        "\n",
        "    train_split = load_parallel_corpus_from_files(\"train\")\n",
        "    test_split = load_parallel_corpus_from_files(\"test\")\n",
        "\n",
        "    if train_split and test_split:\n",
        "        en_quc_dataset = DatasetDict({\"train\": train_split, \"test\": test_split})\n",
        "        print(\"✅ Dataset sintético Inglés-K'iche' cargado correctamente con 2 columnas.\")\n",
        "    else:\n",
        "        print(\"❌ Fallo al cargar el dataset sintético.\")\n",
        "        en_quc_dataset = None\n",
        "\n",
        "    return loaded_es_quc_dataset, en_quc_dataset"
      ],
      "metadata": {
        "id": "QMc8p6ogVeKH"
      },
      "execution_count": 12,
      "outputs": []
    },
    {
      "cell_type": "code",
      "source": [
        "# Load datasets and verify repository\n",
        "espanol_kiche_dataset, english_kiche_dataset = load_datasets(ES_QUC_DATASET_PATH, EN_QUC_DATASET_FILES_PATH, MAYANV_REPO_PATH)\n",
        "es_quc_dataset = espanol_kiche_dataset\n",
        "en_quc_dataset = english_kiche_dataset"
      ],
      "metadata": {
        "colab": {
          "base_uri": "https://localhost:8080/"
        },
        "id": "ABQJtzPnvFfy",
        "outputId": "8c01810b-ca38-4451-b20f-213ebddeece7"
      },
      "execution_count": 13,
      "outputs": [
        {
          "output_type": "stream",
          "name": "stdout",
          "text": [
            "\n",
            "--- Intentando cargar es_quc_dataset desde: /content/drive/MyDrive/Colab Notebooks/Proyecto_DL_Traduccion/es_quc_dataset ---\n",
            "✅ Dataset Español-K'iche' cargado exitosamente desde el disco.\n",
            "DatasetDict({\n",
            "    train: Dataset({\n",
            "        features: ['input', 'target'],\n",
            "        num_rows: 624\n",
            "    })\n",
            "    test: Dataset({\n",
            "        features: ['input', 'target'],\n",
            "        num_rows: 1000\n",
            "    })\n",
            "})\n",
            "\n",
            "--- Cargando dataset sintético desde: /content/drive/MyDrive/Colab Notebooks/Proyecto_DL_Traduccion/en_quc_dataset_files ---\n",
            "✅ Dataset sintético Inglés-K'iche' cargado correctamente con 2 columnas.\n"
          ]
        }
      ]
    },
    {
      "cell_type": "code",
      "source": [
        "for i in range(0, 20):\n",
        "    print(f\"> Input:     {es_quc_dataset['test'][i]['input']}\")\n",
        "    print(f\"> Target:  {es_quc_dataset['test'][i]['target']}\")\n",
        "    print(\"-\")"
      ],
      "metadata": {
        "colab": {
          "base_uri": "https://localhost:8080/"
        },
        "id": "DGZyLUiTMK8_",
        "outputId": "42b22869-f042-4bc6-afd7-39cac903cccb"
      },
      "execution_count": 59,
      "outputs": [
        {
          "output_type": "stream",
          "name": "stdout",
          "text": [
            "> Input:     Kqʼulqʼut ri apam\n",
            "> Target:  #quc# Tienes indigestión\n",
            "-\n",
            "> Input:     Xanimaj bʼik ri kuk\n",
            "> Target:  #quc# La ardilla se escapó\n",
            "-\n",
            "> Input:     Tajin kamuxan ri awecham\n",
            "> Target:  #quc# Tu cuñado está nadando\n",
            "-\n",
            "> Input:     Xinriq raxtew pa taqʼaj\n",
            "> Target:  #quc# En la costa me contagié de paludismo\n",
            "-\n",
            "> Input:     Xinpe rukʼ chech ubʼanik siʼ, pa ri juyubʼ\n",
            "> Target:  #quc# Vengo con él para hacer leña en la montaña\n",
            "-\n",
            "> Input:     Kʼo kʼaqat chi raqan ri tataʼ\n",
            "> Target:  #quc# El señor tiene picazón en los pies\n",
            "-\n",
            "> Input:     Rajwaxik kawetaʼmaj pa uwiʼ ri chʼajchʼojisanem\n",
            "> Target:  #quc# Necesitas aprender acerca el aseo\n",
            "-\n",
            "> Input:     Nim ri qʼoqʼ\n",
            "> Target:  #quc# El chilacayote es grande\n",
            "-\n",
            "> Input:     Chqʼalajisaj awibʼ chi kiwach ri tinamit\n",
            "> Target:  #quc# Aclárate ante el pueblo\n",
            "-\n",
            "> Input:     Kakowij che ri apatan\n",
            "> Target:  #quc# Te apuras a tus tareas\n",
            "-\n",
            "> Input:     Ri abʼaj yatzalik\n",
            "> Target:  #quc# La piedra es liviana\n",
            "-\n",
            "> Input:     Pa juyubʼ Sibʼalaj raqan neʼ kʼolik\n",
            "> Target:  #quc# En la montaña hay muchos pies de niños\n",
            "-\n",
            "> Input:     Man kʼo ta jun nukʼubʼal chak Amaqʼ\n",
            "> Target:  #quc# No tenemos una currícula nacional\n",
            "-\n",
            "> Input:     Sibʼalaj xinkʼaʼnarik\n",
            "> Target:  #quc# Me enoje mucho\n",
            "-\n",
            "> Input:     Kinwaj katinqʼaluj\n",
            "> Target:  #quc# Quisiera abrazarte\n",
            "-\n",
            "> Input:     Chsoloʼ rij taq saqwach\n",
            "> Target:  #quc# Hay que pelar las papas\n",
            "-\n",
            "> Input:     Ri kʼel kutij aj\n",
            "> Target:  #quc# El chocoyo come elotes\n",
            "-\n",
            "> Input:     Kinbʼan na jun tzʼaq chi riʼ\n",
            "> Target:  #quc# Tengo que hacer una construcción aquí\n",
            "-\n",
            "> Input:     Su xabʼij chi wech?\n",
            "> Target:  #quc# ¿ ¿Qué fue lo que me dijiste?\n",
            "-\n",
            "> Input:     Paqal rajil ri taq etzʼabʼaʼl\n",
            "> Target:  #quc# Los juguetes están muy caros\n",
            "-\n"
          ]
        }
      ]
    },
    {
      "cell_type": "markdown",
      "metadata": {
        "id": "tc2QH1HJcuKn"
      },
      "source": [
        "## Evaluación Comparativa de Experimentos"
      ]
    },
    {
      "cell_type": "markdown",
      "metadata": {
        "id": "U9jCIC05CCG_"
      },
      "source": [
        "### Métricas"
      ]
    },
    {
      "cell_type": "code",
      "execution_count": null,
      "metadata": {
        "id": "YEoaaYAZCDnX"
      },
      "outputs": [],
      "source": [
        "rouge = evaluate.load(\"rouge\")\n",
        "bleu = evaluate.load(\"bleu\")\n",
        "meteor = evaluate.load(\"meteor\")\n",
        "comet = evaluate.load(\"comet\")"
      ]
    },
    {
      "cell_type": "markdown",
      "metadata": {
        "id": "coKh9lECcw45"
      },
      "source": [
        "### Experimentos"
      ]
    },
    {
      "cell_type": "markdown",
      "metadata": {
        "id": "ljNvMeB3ezyA"
      },
      "source": [
        "#### 1. Zero-shot"
      ]
    },
    {
      "cell_type": "markdown",
      "metadata": {
        "id": "h97Ae05Ce4E0"
      },
      "source": [
        "Como NLLB tiene el idioma K’iche’, se coloca este como idioma objetivo para las traducciones directas."
      ]
    },
    {
      "cell_type": "code",
      "source": [
        "def generate_predictions(n_examples=1000):\n",
        "    predictions = []\n",
        "    references = []\n",
        "\n",
        "    for item in tqdm(english_kiche_dataset[\"test\"].select(range(n_examples))):\n",
        "      input_text = item[\"input\"]\n",
        "      reference = item[\"target\"]\n",
        "\n",
        "      inputs = zeroshot_tokenizer(input_text, return_tensors=\"pt\", truncation=True)\n",
        "      outputs = zeroshot_model.generate(**inputs, forced_bos_token_id=forced_bos_id)\n",
        "      pred = zeroshot_tokenizer.batch_decode(outputs, skip_special_tokens=True)[0]\n",
        "\n",
        "      predictions.append(pred)\n",
        "      references.append(reference)\n",
        "\n",
        "    return predictions, references\n",
        "\n"
      ],
      "metadata": {
        "id": "92YbEUdOLQy9"
      },
      "execution_count": 45,
      "outputs": []
    },
    {
      "cell_type": "code",
      "source": [
        "n_examples = 2\n",
        "predictions, references = generate_predictions(n_examples)"
      ],
      "metadata": {
        "colab": {
          "base_uri": "https://localhost:8080/"
        },
        "id": "hMeqWnOSM010",
        "outputId": "3849be59-8159-4f0a-a74b-24ca56b53c54"
      },
      "execution_count": 46,
      "outputs": [
        {
          "output_type": "stream",
          "name": "stderr",
          "text": [
            "100%|██████████| 2/2 [00:04<00:00,  2.46s/it]\n"
          ]
        }
      ]
    },
    {
      "cell_type": "code",
      "execution_count": 48,
      "metadata": {
        "id": "JNH6mQC-j-jf",
        "colab": {
          "base_uri": "https://localhost:8080/"
        },
        "outputId": "b7f1b4d4-e1c7-4d67-e301-e2679ca1f3b9"
      },
      "outputs": [
        {
          "output_type": "stream",
          "name": "stdout",
          "text": [
            "\n",
            "=== Ejemplos ===\n",
            "\n",
            "> Entrada:     Kq'ulq'ut ri apam\n",
            "> Referencia:  #quc# Tienes indigestión\n",
            "> Predicción:  Kq'ulq'ut ri apam\n",
            "\n",
            "> Entrada:     Xanimaj b'ik ri kuk and other\n",
            "> Referencia:  #quc# La ardilla se escapó\n",
            "> Predicción:  Xanimaj b'ik ri kuk i drugi\n",
            "\n"
          ]
        }
      ],
      "source": [
        "# Mostrar algunas predicciones\n",
        "print(\"\\n=== Ejemplos ===\\n\")\n",
        "for i in range(n_examples):\n",
        "    print(f\"> Entrada:     {english_kiche_dataset['test'][i]['input']}\")\n",
        "    print(f\"> Referencia:  {english_kiche_dataset['test'][i]['target']}\")\n",
        "    print(f\"> Predicción:  {predictions[i]}\\n\")"
      ]
    },
    {
      "cell_type": "code",
      "execution_count": null,
      "metadata": {
        "id": "8XR9Gk30mUYq",
        "colab": {
          "base_uri": "https://localhost:8080/"
        },
        "outputId": "446120e9-f3e5-4ab6-ee41-6f1bb1e1da82"
      },
      "outputs": [
        {
          "output_type": "stream",
          "name": "stdout",
          "text": [
            "\n",
            "=== Métricas BLEU ===\n",
            "BLEU-1: 1.03\n",
            "BLEU-2: 0.07\n",
            "BLEU-3: 0.00\n",
            "BLEU-4: 0.00\n",
            "BLEU total: 0.00\n",
            "\n",
            "=== Métricas ROUGE ===\n",
            "ROUGE-1:   0.74\n",
            "ROUGE-2:   0.08\n",
            "ROUGE-L:   0.72\n",
            "ROUGE-Lsum:0.73\n"
          ]
        }
      ],
      "source": [
        "bleu_score = bleu.compute(predictions=predictions, references=[[ref] for ref in references])\n",
        "\n",
        "print(\"\\n=== Métricas BLEU ===\")\n",
        "print(f\"BLEU-1: {bleu_score['precisions'][0]*100:.2f}\")\n",
        "print(f\"BLEU-2: {bleu_score['precisions'][1]*100:.2f}\")\n",
        "print(f\"BLEU-3: {bleu_score['precisions'][2]*100:.2f}\")\n",
        "print(f\"BLEU-4: {bleu_score['precisions'][3]*100:.2f}\")\n",
        "print(f\"BLEU total: {bleu_score['bleu']*100:.2f}\")\n",
        "\n",
        "rouge_score = rouge.compute(predictions=predictions, references=references)\n",
        "\n",
        "print(\"\\n=== Métricas ROUGE ===\")\n",
        "print(f\"ROUGE-1:   {rouge_score['rouge1']*100:.2f}\")\n",
        "print(f\"ROUGE-2:   {rouge_score['rouge2']*100:.2f}\")\n",
        "print(f\"ROUGE-L:   {rouge_score['rougeL']*100:.2f}\")\n",
        "print(f\"ROUGE-Lsum:{rouge_score['rougeLsum']*100:.2f}\")"
      ]
    },
    {
      "cell_type": "code",
      "execution_count": null,
      "metadata": {
        "id": "PJfs1A_sBkzy",
        "colab": {
          "base_uri": "https://localhost:8080/"
        },
        "outputId": "a16eb4c6-030d-4297-9ccc-1bd1da0a48f9"
      },
      "outputs": [
        {
          "output_type": "stream",
          "name": "stdout",
          "text": [
            "✅ Resultados guardados en 'results_es_quc.tsv'\n"
          ]
        }
      ],
      "source": [
        "with open(f\"{DRIVE_PATH}/results_es_quc.tsv\", \"w\", encoding=\"utf-8\", newline=\"\") as f:\n",
        "    writer = csv.writer(f, delimiter=\"\\t\")\n",
        "    writer.writerow([\"input\", \"reference\", \"prediction\"])\n",
        "\n",
        "    for example, pred, ref in zip(es_quc_dataset[\"test\"], predictions, references):\n",
        "        writer.writerow([example[\"input\"], ref, pred])\n",
        "\n",
        "print(\"✅ Resultados guardados en 'results_es_quc.tsv'\")"
      ]
    },
    {
      "cell_type": "markdown",
      "metadata": {
        "id": "rjB3SBkqn1JG"
      },
      "source": [
        "#### 2. Finetuning ES-QUC y Pipeline"
      ]
    },
    {
      "cell_type": "code",
      "execution_count": null,
      "metadata": {
        "id": "8uBCVbR3obZG",
        "colab": {
          "base_uri": "https://localhost:8080/",
          "height": 284
        },
        "outputId": "4347ec13-35a9-465c-d61b-9038de6b65c5"
      },
      "outputs": [
        {
          "output_type": "stream",
          "name": "stdout",
          "text": [
            "\n",
            "🔹 Traduciendo: inglés → español → K’iche’ (vía intermediaria)\n",
            "\n"
          ]
        },
        {
          "output_type": "stream",
          "name": "stderr",
          "text": [
            "  0%|          | 0/1000 [00:02<?, ?it/s]\n"
          ]
        },
        {
          "output_type": "error",
          "ename": "NameError",
          "evalue": "name 'finetune_model' is not defined",
          "traceback": [
            "\u001b[0;31m---------------------------------------------------------------------------\u001b[0m",
            "\u001b[0;31mNameError\u001b[0m                                 Traceback (most recent call last)",
            "\u001b[0;32m/tmp/ipython-input-69-1988446924.py\u001b[0m in \u001b[0;36m<cell line: 0>\u001b[0;34m()\u001b[0m\n\u001b[1;32m     12\u001b[0m \u001b[0;34m\u001b[0m\u001b[0m\n\u001b[1;32m     13\u001b[0m     \u001b[0;31m# Paso 2: español → K’iche’ (modelo fine-tuneado)\u001b[0m\u001b[0;34m\u001b[0m\u001b[0;34m\u001b[0m\u001b[0m\n\u001b[0;32m---> 14\u001b[0;31m     \u001b[0mpred\u001b[0m \u001b[0;34m=\u001b[0m \u001b[0mtranslate_text\u001b[0m\u001b[0;34m(\u001b[0m\u001b[0mfinetune_model\u001b[0m\u001b[0;34m,\u001b[0m \u001b[0mfinetune_tokenizer\u001b[0m\u001b[0;34m,\u001b[0m \u001b[0minter\u001b[0m\u001b[0;34m,\u001b[0m \u001b[0;34m\"spa_Latn\"\u001b[0m\u001b[0;34m,\u001b[0m \u001b[0;34m\"quc_Latn\"\u001b[0m\u001b[0;34m)\u001b[0m\u001b[0;34m\u001b[0m\u001b[0;34m\u001b[0m\u001b[0m\n\u001b[0m\u001b[1;32m     15\u001b[0m \u001b[0;34m\u001b[0m\u001b[0m\n\u001b[1;32m     16\u001b[0m     \u001b[0mpredictions_intermediate\u001b[0m\u001b[0;34m.\u001b[0m\u001b[0mappend\u001b[0m\u001b[0;34m(\u001b[0m\u001b[0mpred\u001b[0m\u001b[0;34m)\u001b[0m\u001b[0;34m\u001b[0m\u001b[0;34m\u001b[0m\u001b[0m\n",
            "\u001b[0;31mNameError\u001b[0m: name 'finetune_model' is not defined"
          ]
        }
      ],
      "source": [
        "predictions_intermediate = []\n",
        "references_intermediate = []\n",
        "\n",
        "print(\"\\n🔹 Traduciendo: inglés → español → K’iche’ (vía intermediaria)\\n\")\n",
        "\n",
        "for item in tqdm(es_quc_dataset[\"test\"]):\n",
        "    input_text = item[\"input\"]\n",
        "    reference = item[\"target\"]\n",
        "\n",
        "    # Paso 1: inglés → español (modelo base)\n",
        "    inter = translate_text(zeroshot_model, zeroshot_tokenizer, input_text, \"eng_Latn\", \"spa_Latn\")\n",
        "\n",
        "    # Paso 2: español → K’iche’ (modelo fine-tuneado)\n",
        "    pred = translate_text(finetune_model, finetune_tokenizer, inter, \"spa_Latn\", \"quc_Latn\")\n",
        "\n",
        "    predictions_intermediate.append(pred)\n",
        "    references_intermediate.append(reference)"
      ]
    },
    {
      "cell_type": "code",
      "execution_count": null,
      "metadata": {
        "id": "X2roPLoJoy2L"
      },
      "outputs": [],
      "source": [
        "print(\"\\n=== Ejemplos Fine-Tuned ===\\n\")\n",
        "for i in range(5):\n",
        "    print(f\"> Entrada:     {es_quc_dataset['test'][i]['input']}\")\n",
        "    print(f\"> Referencia:  {es_quc_dataset['test'][i]['target']}\")\n",
        "    print(f\"> Predicción:  {predictions_intermediate[i]}\\n\")"
      ]
    },
    {
      "cell_type": "code",
      "execution_count": null,
      "metadata": {
        "id": "DcM-8kilozFz"
      },
      "outputs": [],
      "source": [
        "bleu_score_ft = bleu.compute(predictions=predictions_intermediate, references=[[r] for r in references_intermediate])\n",
        "rouge_score_ft = rouge.compute(predictions=predictions_intermediate, references=references_intermediate)\n",
        "\n",
        "print(\"\\n=== Métricas Fine-Tuned ===\")\n",
        "print(f\"BLEU: {bleu_score_ft['bleu']:.2f}\")\n",
        "print(f\"ROUGE-L: {rouge_score_ft['rougeL']:.2f}\")"
      ]
    },
    {
      "cell_type": "code",
      "source": [
        "# prompt: Save the relevant results, predictions, etc\n",
        "\n",
        "# Assuming predictions_intermediate and references_intermediate are already computed from the previous cell\n",
        "\n",
        "output_filename_ft = f\"{DRIVE_PATH}/results_finetuned_es_quc_pipeline.tsv\"\n",
        "\n",
        "with open(output_filename_ft, \"w\", encoding=\"utf-8\", newline=\"\") as f:\n",
        "    writer = csv.writer(f, delimiter=\"\\t\")\n",
        "    # Write header\n",
        "    writer.writerow([\"input_english\", \"intermediate_spanish\", \"reference_kiche\", \"prediction_kiche\"])\n",
        "\n",
        "    # Write data\n",
        "    # Need to regenerate the intermediate Spanish translations to save them\n",
        "    # or store them during the generation process\n",
        "    intermediate_translations = []\n",
        "    print(\"\\n🔄 Regenerating intermediate Spanish translations for saving...\")\n",
        "    for item in tqdm(es_quc_dataset[\"test\"]):\n",
        "         input_text = item[\"input\"]\n",
        "         inter = translate_text(zeroshot_model, zeroshot_tokenizer, input_text, \"eng_Latn\", \"spa_Latn\")\n",
        "         intermediate_translations.append(inter)\n",
        "\n",
        "\n",
        "    for i in range(len(es_quc_dataset[\"test\"])):\n",
        "         writer.writerow([\n",
        "              es_quc_dataset[\"test\"][i][\"input\"], # Original English input from dataset\n",
        "              intermediate_translations[i], # Intermediate Spanish translation\n",
        "              references_intermediate[i], # Original K'iche' reference from dataset\n",
        "              predictions_intermediate[i] # Final K'iche' prediction from the fine-tuned model\n",
        "         ])\n",
        "\n",
        "print(f\"✅ Resultados del pipeline (inglés -> español -> K'iche') guardados en '{output_filename_ft}'\")\n"
      ],
      "metadata": {
        "id": "3ZFZ2rRmQbbH"
      },
      "execution_count": null,
      "outputs": []
    },
    {
      "cell_type": "markdown",
      "metadata": {
        "id": "y_UFY-dToFsb"
      },
      "source": [
        "#### 3. Finetuning ES-QUC y Traducción Directa"
      ]
    },
    {
      "cell_type": "code",
      "execution_count": null,
      "metadata": {
        "id": "c0UrnNGqobuo"
      },
      "outputs": [],
      "source": [
        "predictions_direct = []\n",
        "references_direct = []\n",
        "\n",
        "print(\"\\n🔹 Traduciendo: inglés → K’iche’ (directo)\\n\")\n",
        "\n",
        "for item in tqdm(es_quc_dataset[\"test\"]):\n",
        "    input_text = item[\"input\"]\n",
        "    reference = item[\"target\"]\n",
        "    pred = translate_text(finetune_model, finetune_tokenizer, input_text, \"eng_Latn\", \"quc_Latn\")\n",
        "\n",
        "    predictions_direct.append(pred)\n",
        "    references_direct.append(reference)"
      ]
    },
    {
      "cell_type": "code",
      "execution_count": null,
      "metadata": {
        "id": "WGGj_XKctmn9"
      },
      "outputs": [],
      "source": [
        "print(\"\\n=== Ejemplos Fine-Tuned ===\\n\")\n",
        "for i in range(5):\n",
        "    print(f\"> Entrada:     {es_quc_dataset['test'][i]['input']}\")\n",
        "    print(f\"> Referencia:  {es_quc_dataset['test'][i]['target']}\")\n",
        "    print(f\"> Predicción:  {predictions_direct[i]}\\n\")"
      ]
    },
    {
      "cell_type": "code",
      "execution_count": null,
      "metadata": {
        "id": "uNuiAUOytvUu"
      },
      "outputs": [],
      "source": [
        "bleu_score_ft = bleu.compute(predictions=predictions_direct, references=[[r] for r in references_direct])\n",
        "rouge_score_ft = rouge.compute(predictions=predictions_direct, references=references_direct)\n",
        "\n",
        "print(\"\\n=== Métricas Fine-Tuned ===\")\n",
        "print(f\"BLEU: {bleu_score_ft['bleu']:.2f}\")\n",
        "print(f\"ROUGE-L: {rouge_score_ft['rougeL']:.2f}\")"
      ]
    },
    {
      "cell_type": "code",
      "source": [
        "# prompt: Save the relevant results\n",
        "\n",
        "# Assuming predictions_direct and references_direct are already computed from the previous cell\n",
        "\n",
        "output_filename_direct = f\"{DRIVE_PATH}/results_finetuned_es_quc_direct.tsv\"\n",
        "\n",
        "with open(output_filename_direct, \"w\", encoding=\"utf-8\", newline=\"\") as f:\n",
        "    writer = csv.writer(f, delimiter=\"\\t\")\n",
        "    # Write header\n",
        "    writer.writerow([\"input_english\", \"reference_kiche\", \"prediction_kiche\"])\n",
        "\n",
        "    # Write data\n",
        "    for i in range(len(es_quc_dataset[\"test\"])):\n",
        "         writer.writerow([\n",
        "              es_quc_dataset[\"test\"][i][\"input\"], # Original English input from dataset\n",
        "              references_direct[i], # Original K'iche' reference from dataset\n",
        "              predictions_direct[i] # Final K'iche' prediction from the fine-tuned model\n",
        "         ])\n",
        "\n",
        "print(f\"✅ Resultados de traducción directa (inglés -> K'iche') guardados en '{output_filename_direct}'\")\n"
      ],
      "metadata": {
        "id": "fzS83gb5Qs3L"
      },
      "execution_count": null,
      "outputs": []
    },
    {
      "cell_type": "markdown",
      "metadata": {
        "id": "fCaQTajaoPyr"
      },
      "source": [
        "#### 4. Finetuning EN-QUC"
      ]
    },
    {
      "cell_type": "code",
      "execution_count": null,
      "metadata": {
        "id": "7u9Ij-k23zQB"
      },
      "outputs": [],
      "source": [
        "predictions_en_qum = []\n",
        "references_en_qum = []\n",
        "\n",
        "print(\"\\n🔹 Traduciendo: inglés → K’iche’ (dataset sintético directo)\\n\")\n",
        "\n",
        "for item in tqdm(en_qum_dataset[\"test\"]):\n",
        "    input_text = item[\"input\"]\n",
        "    reference = item[\"target\"]\n",
        "    pred = translate_text(en_qum_model, en_qum_tokenizer, input_text, \"eng_Latn\", \"quc_Latn\")\n",
        "\n",
        "    predictions_en_qum.append(pred)\n",
        "    references_en_qum.append(reference)"
      ]
    },
    {
      "cell_type": "code",
      "source": [
        "\n",
        "\n",
        "print(\"\\n=== Ejemplos Fine-Tuned ===\\n\")\n",
        "for i in range(5):\n",
        "    print(f\"> Entrada:     {en_qum_dataset['test'][i]['input']}\")\n",
        "    print(f\"> Referencia:  {en_qum_dataset['test'][i]['target']}\")\n",
        "    print(f\"> Predicción:  {predictions_en_qum[i]}\\n\")\n",
        "\n"
      ],
      "metadata": {
        "id": "AxPIevp3I6Fh"
      },
      "execution_count": null,
      "outputs": []
    },
    {
      "cell_type": "code",
      "source": [
        "\n",
        "\n",
        "bleu_score = bleu.compute(predictions=predictions_en_qum, references=[[ref] for ref in references_en_qum])\n",
        "\n",
        "print(\"\\n=== Métricas BLEU ===\")\n",
        "print(f\"BLEU-1: {bleu_score['precisions'][0]*100:.2f}\")\n",
        "print(f\"BLEU-2: {bleu_score['precisions'][1]*100:.2f}\")\n",
        "print(f\"BLEU-3: {bleu_score['precisions'][2]*100:.2f}\")\n",
        "print(f\"BLEU-4: {bleu_score['precisions'][3]*100:.2f}\")\n",
        "print(f\"BLEU total: {bleu_score['bleu']*100:.2f}\")\n",
        "\n",
        "rouge_score = rouge.compute(predictions=predictions_en_qum, references=references_en_qum)\n",
        "\n",
        "print(\"\\n=== Métricas ROUGE ===\")\n",
        "print(f\"ROUGE-1:   {rouge_score['rouge1']*100:.2f}\")\n",
        "print(f\"ROUGE-2:   {rouge_score['rouge2']*100:.2f}\")\n",
        "print(f\"ROUGE-L:   {rouge_score['rougeL']*100:.2f}\")\n",
        "print(f\"ROUGE-Lsum:{rouge_score['rougeLsum']*100:.2f}\")\n",
        "\n",
        "# meteor_score = meteor.compute(predictions=predictions_en_qum, references=references_en_qum)\n",
        "\n",
        "# print(\"\\n=== Otras Métricas ===\")\n",
        "# print(f\"METEOR:     {meteor_score['meteor']*100:.2f}\")\n",
        "\n"
      ],
      "metadata": {
        "id": "_lQz-aATI84x"
      },
      "execution_count": null,
      "outputs": []
    },
    {
      "cell_type": "code",
      "source": [
        "\n",
        "\n",
        "filename = \"results_en_qum_directo.tsv\"\n",
        "with open(filename, \"w\", encoding=\"utf-8\", newline=\"\") as f:\n",
        "    writer = csv.writer(f, delimiter=\"\\t\")\n",
        "    writer.writerow([\"input\", \"reference\", \"prediction\"])\n",
        "\n",
        "    for example, pred, ref in zip(es_qum_dataset[\"test\"], predictions_en_qum, references_en_qum):\n",
        "        writer.writerow([example[\"input\"], ref, pred])\n",
        "\n",
        "print(f\"✅ Resultados guardados en '{filename}'\")\n",
        "\n"
      ],
      "metadata": {
        "id": "pSYwohlPJCO9"
      },
      "execution_count": null,
      "outputs": []
    }
  ],
  "metadata": {
    "colab": {
      "collapsed_sections": [
        "p4wIXbXgpoxg",
        "dazLUZlhKKHk",
        "5Vo2n7RAnJaw",
        "E9-dx3UIWx3u",
        "yPnxwjokkB9M",
        "nF6_ifRr8mbI",
        "Zb65tkAyW6fK"
      ],
      "gpuType": "T4",
      "provenance": [],
      "include_colab_link": true
    },
    "kernelspec": {
      "display_name": "Python 3",
      "name": "python3"
    },
    "language_info": {
      "name": "python"
    },
    "widgets": {
      "application/vnd.jupyter.widget-state+json": {
        "5b11e24b33754ddb89cff003dfa5d23c": {
          "model_module": "@jupyter-widgets/controls",
          "model_name": "HBoxModel",
          "model_module_version": "1.5.0",
          "state": {
            "_dom_classes": [],
            "_model_module": "@jupyter-widgets/controls",
            "_model_module_version": "1.5.0",
            "_model_name": "HBoxModel",
            "_view_count": null,
            "_view_module": "@jupyter-widgets/controls",
            "_view_module_version": "1.5.0",
            "_view_name": "HBoxView",
            "box_style": "",
            "children": [
              "IPY_MODEL_f5eb711c2ad34a50a1d63682bdf20051",
              "IPY_MODEL_b2b7f58b3bc44c2baca94d6bcda707cf",
              "IPY_MODEL_5be66624e20c409c85273da7763fef04"
            ],
            "layout": "IPY_MODEL_257f4514c7094d69b62a456117d6e378"
          }
        },
        "f5eb711c2ad34a50a1d63682bdf20051": {
          "model_module": "@jupyter-widgets/controls",
          "model_name": "HTMLModel",
          "model_module_version": "1.5.0",
          "state": {
            "_dom_classes": [],
            "_model_module": "@jupyter-widgets/controls",
            "_model_module_version": "1.5.0",
            "_model_name": "HTMLModel",
            "_view_count": null,
            "_view_module": "@jupyter-widgets/controls",
            "_view_module_version": "1.5.0",
            "_view_name": "HTMLView",
            "description": "",
            "description_tooltip": null,
            "layout": "IPY_MODEL_28f3b357be0f418fa508e5fd27dd0082",
            "placeholder": "​",
            "style": "IPY_MODEL_5622c68731114911b1d6fa57e33b650a",
            "value": "Map: 100%"
          }
        },
        "b2b7f58b3bc44c2baca94d6bcda707cf": {
          "model_module": "@jupyter-widgets/controls",
          "model_name": "FloatProgressModel",
          "model_module_version": "1.5.0",
          "state": {
            "_dom_classes": [],
            "_model_module": "@jupyter-widgets/controls",
            "_model_module_version": "1.5.0",
            "_model_name": "FloatProgressModel",
            "_view_count": null,
            "_view_module": "@jupyter-widgets/controls",
            "_view_module_version": "1.5.0",
            "_view_name": "ProgressView",
            "bar_style": "success",
            "description": "",
            "description_tooltip": null,
            "layout": "IPY_MODEL_ec26f9173e3b4d1292c036a8de692bc5",
            "max": 624,
            "min": 0,
            "orientation": "horizontal",
            "style": "IPY_MODEL_e97b68b8090b4f78b6b0c123167673f6",
            "value": 624
          }
        },
        "5be66624e20c409c85273da7763fef04": {
          "model_module": "@jupyter-widgets/controls",
          "model_name": "HTMLModel",
          "model_module_version": "1.5.0",
          "state": {
            "_dom_classes": [],
            "_model_module": "@jupyter-widgets/controls",
            "_model_module_version": "1.5.0",
            "_model_name": "HTMLModel",
            "_view_count": null,
            "_view_module": "@jupyter-widgets/controls",
            "_view_module_version": "1.5.0",
            "_view_name": "HTMLView",
            "description": "",
            "description_tooltip": null,
            "layout": "IPY_MODEL_b954b8add00d41dda762359f913193be",
            "placeholder": "​",
            "style": "IPY_MODEL_e64ec2993e274a2b8e1f2cb35fa7f9a7",
            "value": " 624/624 [00:03&lt;00:00, 174.32 examples/s]"
          }
        },
        "257f4514c7094d69b62a456117d6e378": {
          "model_module": "@jupyter-widgets/base",
          "model_name": "LayoutModel",
          "model_module_version": "1.2.0",
          "state": {
            "_model_module": "@jupyter-widgets/base",
            "_model_module_version": "1.2.0",
            "_model_name": "LayoutModel",
            "_view_count": null,
            "_view_module": "@jupyter-widgets/base",
            "_view_module_version": "1.2.0",
            "_view_name": "LayoutView",
            "align_content": null,
            "align_items": null,
            "align_self": null,
            "border": null,
            "bottom": null,
            "display": null,
            "flex": null,
            "flex_flow": null,
            "grid_area": null,
            "grid_auto_columns": null,
            "grid_auto_flow": null,
            "grid_auto_rows": null,
            "grid_column": null,
            "grid_gap": null,
            "grid_row": null,
            "grid_template_areas": null,
            "grid_template_columns": null,
            "grid_template_rows": null,
            "height": null,
            "justify_content": null,
            "justify_items": null,
            "left": null,
            "margin": null,
            "max_height": null,
            "max_width": null,
            "min_height": null,
            "min_width": null,
            "object_fit": null,
            "object_position": null,
            "order": null,
            "overflow": null,
            "overflow_x": null,
            "overflow_y": null,
            "padding": null,
            "right": null,
            "top": null,
            "visibility": null,
            "width": null
          }
        },
        "28f3b357be0f418fa508e5fd27dd0082": {
          "model_module": "@jupyter-widgets/base",
          "model_name": "LayoutModel",
          "model_module_version": "1.2.0",
          "state": {
            "_model_module": "@jupyter-widgets/base",
            "_model_module_version": "1.2.0",
            "_model_name": "LayoutModel",
            "_view_count": null,
            "_view_module": "@jupyter-widgets/base",
            "_view_module_version": "1.2.0",
            "_view_name": "LayoutView",
            "align_content": null,
            "align_items": null,
            "align_self": null,
            "border": null,
            "bottom": null,
            "display": null,
            "flex": null,
            "flex_flow": null,
            "grid_area": null,
            "grid_auto_columns": null,
            "grid_auto_flow": null,
            "grid_auto_rows": null,
            "grid_column": null,
            "grid_gap": null,
            "grid_row": null,
            "grid_template_areas": null,
            "grid_template_columns": null,
            "grid_template_rows": null,
            "height": null,
            "justify_content": null,
            "justify_items": null,
            "left": null,
            "margin": null,
            "max_height": null,
            "max_width": null,
            "min_height": null,
            "min_width": null,
            "object_fit": null,
            "object_position": null,
            "order": null,
            "overflow": null,
            "overflow_x": null,
            "overflow_y": null,
            "padding": null,
            "right": null,
            "top": null,
            "visibility": null,
            "width": null
          }
        },
        "5622c68731114911b1d6fa57e33b650a": {
          "model_module": "@jupyter-widgets/controls",
          "model_name": "DescriptionStyleModel",
          "model_module_version": "1.5.0",
          "state": {
            "_model_module": "@jupyter-widgets/controls",
            "_model_module_version": "1.5.0",
            "_model_name": "DescriptionStyleModel",
            "_view_count": null,
            "_view_module": "@jupyter-widgets/base",
            "_view_module_version": "1.2.0",
            "_view_name": "StyleView",
            "description_width": ""
          }
        },
        "ec26f9173e3b4d1292c036a8de692bc5": {
          "model_module": "@jupyter-widgets/base",
          "model_name": "LayoutModel",
          "model_module_version": "1.2.0",
          "state": {
            "_model_module": "@jupyter-widgets/base",
            "_model_module_version": "1.2.0",
            "_model_name": "LayoutModel",
            "_view_count": null,
            "_view_module": "@jupyter-widgets/base",
            "_view_module_version": "1.2.0",
            "_view_name": "LayoutView",
            "align_content": null,
            "align_items": null,
            "align_self": null,
            "border": null,
            "bottom": null,
            "display": null,
            "flex": null,
            "flex_flow": null,
            "grid_area": null,
            "grid_auto_columns": null,
            "grid_auto_flow": null,
            "grid_auto_rows": null,
            "grid_column": null,
            "grid_gap": null,
            "grid_row": null,
            "grid_template_areas": null,
            "grid_template_columns": null,
            "grid_template_rows": null,
            "height": null,
            "justify_content": null,
            "justify_items": null,
            "left": null,
            "margin": null,
            "max_height": null,
            "max_width": null,
            "min_height": null,
            "min_width": null,
            "object_fit": null,
            "object_position": null,
            "order": null,
            "overflow": null,
            "overflow_x": null,
            "overflow_y": null,
            "padding": null,
            "right": null,
            "top": null,
            "visibility": null,
            "width": null
          }
        },
        "e97b68b8090b4f78b6b0c123167673f6": {
          "model_module": "@jupyter-widgets/controls",
          "model_name": "ProgressStyleModel",
          "model_module_version": "1.5.0",
          "state": {
            "_model_module": "@jupyter-widgets/controls",
            "_model_module_version": "1.5.0",
            "_model_name": "ProgressStyleModel",
            "_view_count": null,
            "_view_module": "@jupyter-widgets/base",
            "_view_module_version": "1.2.0",
            "_view_name": "StyleView",
            "bar_color": null,
            "description_width": ""
          }
        },
        "b954b8add00d41dda762359f913193be": {
          "model_module": "@jupyter-widgets/base",
          "model_name": "LayoutModel",
          "model_module_version": "1.2.0",
          "state": {
            "_model_module": "@jupyter-widgets/base",
            "_model_module_version": "1.2.0",
            "_model_name": "LayoutModel",
            "_view_count": null,
            "_view_module": "@jupyter-widgets/base",
            "_view_module_version": "1.2.0",
            "_view_name": "LayoutView",
            "align_content": null,
            "align_items": null,
            "align_self": null,
            "border": null,
            "bottom": null,
            "display": null,
            "flex": null,
            "flex_flow": null,
            "grid_area": null,
            "grid_auto_columns": null,
            "grid_auto_flow": null,
            "grid_auto_rows": null,
            "grid_column": null,
            "grid_gap": null,
            "grid_row": null,
            "grid_template_areas": null,
            "grid_template_columns": null,
            "grid_template_rows": null,
            "height": null,
            "justify_content": null,
            "justify_items": null,
            "left": null,
            "margin": null,
            "max_height": null,
            "max_width": null,
            "min_height": null,
            "min_width": null,
            "object_fit": null,
            "object_position": null,
            "order": null,
            "overflow": null,
            "overflow_x": null,
            "overflow_y": null,
            "padding": null,
            "right": null,
            "top": null,
            "visibility": null,
            "width": null
          }
        },
        "e64ec2993e274a2b8e1f2cb35fa7f9a7": {
          "model_module": "@jupyter-widgets/controls",
          "model_name": "DescriptionStyleModel",
          "model_module_version": "1.5.0",
          "state": {
            "_model_module": "@jupyter-widgets/controls",
            "_model_module_version": "1.5.0",
            "_model_name": "DescriptionStyleModel",
            "_view_count": null,
            "_view_module": "@jupyter-widgets/base",
            "_view_module_version": "1.2.0",
            "_view_name": "StyleView",
            "description_width": ""
          }
        },
        "88c70ce7cbe6402da3788bd0e050e7c4": {
          "model_module": "@jupyter-widgets/controls",
          "model_name": "HBoxModel",
          "model_module_version": "1.5.0",
          "state": {
            "_dom_classes": [],
            "_model_module": "@jupyter-widgets/controls",
            "_model_module_version": "1.5.0",
            "_model_name": "HBoxModel",
            "_view_count": null,
            "_view_module": "@jupyter-widgets/controls",
            "_view_module_version": "1.5.0",
            "_view_name": "HBoxView",
            "box_style": "",
            "children": [
              "IPY_MODEL_36748491798a42fbb2c205d52277f5c5",
              "IPY_MODEL_dab10650ef1249f181f7f4872cd6351d",
              "IPY_MODEL_3c9f37617a1349b28ade3eb002c0f906"
            ],
            "layout": "IPY_MODEL_32e8a306451748b6877aec0134e3493f"
          }
        },
        "36748491798a42fbb2c205d52277f5c5": {
          "model_module": "@jupyter-widgets/controls",
          "model_name": "HTMLModel",
          "model_module_version": "1.5.0",
          "state": {
            "_dom_classes": [],
            "_model_module": "@jupyter-widgets/controls",
            "_model_module_version": "1.5.0",
            "_model_name": "HTMLModel",
            "_view_count": null,
            "_view_module": "@jupyter-widgets/controls",
            "_view_module_version": "1.5.0",
            "_view_name": "HTMLView",
            "description": "",
            "description_tooltip": null,
            "layout": "IPY_MODEL_60ebfc44bbe846b0aa5905d067d63f4c",
            "placeholder": "​",
            "style": "IPY_MODEL_4687d30deac54cfaa0947401696d596d",
            "value": "Map: 100%"
          }
        },
        "dab10650ef1249f181f7f4872cd6351d": {
          "model_module": "@jupyter-widgets/controls",
          "model_name": "FloatProgressModel",
          "model_module_version": "1.5.0",
          "state": {
            "_dom_classes": [],
            "_model_module": "@jupyter-widgets/controls",
            "_model_module_version": "1.5.0",
            "_model_name": "FloatProgressModel",
            "_view_count": null,
            "_view_module": "@jupyter-widgets/controls",
            "_view_module_version": "1.5.0",
            "_view_name": "ProgressView",
            "bar_style": "success",
            "description": "",
            "description_tooltip": null,
            "layout": "IPY_MODEL_c2ecf6351b6c42378465824c31cc21f1",
            "max": 1000,
            "min": 0,
            "orientation": "horizontal",
            "style": "IPY_MODEL_a1cb6539520b4606b70f680ef774e84d",
            "value": 1000
          }
        },
        "3c9f37617a1349b28ade3eb002c0f906": {
          "model_module": "@jupyter-widgets/controls",
          "model_name": "HTMLModel",
          "model_module_version": "1.5.0",
          "state": {
            "_dom_classes": [],
            "_model_module": "@jupyter-widgets/controls",
            "_model_module_version": "1.5.0",
            "_model_name": "HTMLModel",
            "_view_count": null,
            "_view_module": "@jupyter-widgets/controls",
            "_view_module_version": "1.5.0",
            "_view_name": "HTMLView",
            "description": "",
            "description_tooltip": null,
            "layout": "IPY_MODEL_8f197be2e39a4a628d32bbd2f65e219e",
            "placeholder": "​",
            "style": "IPY_MODEL_634b110e7e254da99f619bfa6e4ebbbf",
            "value": " 1000/1000 [00:00&lt;00:00, 7799.02 examples/s]"
          }
        },
        "32e8a306451748b6877aec0134e3493f": {
          "model_module": "@jupyter-widgets/base",
          "model_name": "LayoutModel",
          "model_module_version": "1.2.0",
          "state": {
            "_model_module": "@jupyter-widgets/base",
            "_model_module_version": "1.2.0",
            "_model_name": "LayoutModel",
            "_view_count": null,
            "_view_module": "@jupyter-widgets/base",
            "_view_module_version": "1.2.0",
            "_view_name": "LayoutView",
            "align_content": null,
            "align_items": null,
            "align_self": null,
            "border": null,
            "bottom": null,
            "display": null,
            "flex": null,
            "flex_flow": null,
            "grid_area": null,
            "grid_auto_columns": null,
            "grid_auto_flow": null,
            "grid_auto_rows": null,
            "grid_column": null,
            "grid_gap": null,
            "grid_row": null,
            "grid_template_areas": null,
            "grid_template_columns": null,
            "grid_template_rows": null,
            "height": null,
            "justify_content": null,
            "justify_items": null,
            "left": null,
            "margin": null,
            "max_height": null,
            "max_width": null,
            "min_height": null,
            "min_width": null,
            "object_fit": null,
            "object_position": null,
            "order": null,
            "overflow": null,
            "overflow_x": null,
            "overflow_y": null,
            "padding": null,
            "right": null,
            "top": null,
            "visibility": null,
            "width": null
          }
        },
        "60ebfc44bbe846b0aa5905d067d63f4c": {
          "model_module": "@jupyter-widgets/base",
          "model_name": "LayoutModel",
          "model_module_version": "1.2.0",
          "state": {
            "_model_module": "@jupyter-widgets/base",
            "_model_module_version": "1.2.0",
            "_model_name": "LayoutModel",
            "_view_count": null,
            "_view_module": "@jupyter-widgets/base",
            "_view_module_version": "1.2.0",
            "_view_name": "LayoutView",
            "align_content": null,
            "align_items": null,
            "align_self": null,
            "border": null,
            "bottom": null,
            "display": null,
            "flex": null,
            "flex_flow": null,
            "grid_area": null,
            "grid_auto_columns": null,
            "grid_auto_flow": null,
            "grid_auto_rows": null,
            "grid_column": null,
            "grid_gap": null,
            "grid_row": null,
            "grid_template_areas": null,
            "grid_template_columns": null,
            "grid_template_rows": null,
            "height": null,
            "justify_content": null,
            "justify_items": null,
            "left": null,
            "margin": null,
            "max_height": null,
            "max_width": null,
            "min_height": null,
            "min_width": null,
            "object_fit": null,
            "object_position": null,
            "order": null,
            "overflow": null,
            "overflow_x": null,
            "overflow_y": null,
            "padding": null,
            "right": null,
            "top": null,
            "visibility": null,
            "width": null
          }
        },
        "4687d30deac54cfaa0947401696d596d": {
          "model_module": "@jupyter-widgets/controls",
          "model_name": "DescriptionStyleModel",
          "model_module_version": "1.5.0",
          "state": {
            "_model_module": "@jupyter-widgets/controls",
            "_model_module_version": "1.5.0",
            "_model_name": "DescriptionStyleModel",
            "_view_count": null,
            "_view_module": "@jupyter-widgets/base",
            "_view_module_version": "1.2.0",
            "_view_name": "StyleView",
            "description_width": ""
          }
        },
        "c2ecf6351b6c42378465824c31cc21f1": {
          "model_module": "@jupyter-widgets/base",
          "model_name": "LayoutModel",
          "model_module_version": "1.2.0",
          "state": {
            "_model_module": "@jupyter-widgets/base",
            "_model_module_version": "1.2.0",
            "_model_name": "LayoutModel",
            "_view_count": null,
            "_view_module": "@jupyter-widgets/base",
            "_view_module_version": "1.2.0",
            "_view_name": "LayoutView",
            "align_content": null,
            "align_items": null,
            "align_self": null,
            "border": null,
            "bottom": null,
            "display": null,
            "flex": null,
            "flex_flow": null,
            "grid_area": null,
            "grid_auto_columns": null,
            "grid_auto_flow": null,
            "grid_auto_rows": null,
            "grid_column": null,
            "grid_gap": null,
            "grid_row": null,
            "grid_template_areas": null,
            "grid_template_columns": null,
            "grid_template_rows": null,
            "height": null,
            "justify_content": null,
            "justify_items": null,
            "left": null,
            "margin": null,
            "max_height": null,
            "max_width": null,
            "min_height": null,
            "min_width": null,
            "object_fit": null,
            "object_position": null,
            "order": null,
            "overflow": null,
            "overflow_x": null,
            "overflow_y": null,
            "padding": null,
            "right": null,
            "top": null,
            "visibility": null,
            "width": null
          }
        },
        "a1cb6539520b4606b70f680ef774e84d": {
          "model_module": "@jupyter-widgets/controls",
          "model_name": "ProgressStyleModel",
          "model_module_version": "1.5.0",
          "state": {
            "_model_module": "@jupyter-widgets/controls",
            "_model_module_version": "1.5.0",
            "_model_name": "ProgressStyleModel",
            "_view_count": null,
            "_view_module": "@jupyter-widgets/base",
            "_view_module_version": "1.2.0",
            "_view_name": "StyleView",
            "bar_color": null,
            "description_width": ""
          }
        },
        "8f197be2e39a4a628d32bbd2f65e219e": {
          "model_module": "@jupyter-widgets/base",
          "model_name": "LayoutModel",
          "model_module_version": "1.2.0",
          "state": {
            "_model_module": "@jupyter-widgets/base",
            "_model_module_version": "1.2.0",
            "_model_name": "LayoutModel",
            "_view_count": null,
            "_view_module": "@jupyter-widgets/base",
            "_view_module_version": "1.2.0",
            "_view_name": "LayoutView",
            "align_content": null,
            "align_items": null,
            "align_self": null,
            "border": null,
            "bottom": null,
            "display": null,
            "flex": null,
            "flex_flow": null,
            "grid_area": null,
            "grid_auto_columns": null,
            "grid_auto_flow": null,
            "grid_auto_rows": null,
            "grid_column": null,
            "grid_gap": null,
            "grid_row": null,
            "grid_template_areas": null,
            "grid_template_columns": null,
            "grid_template_rows": null,
            "height": null,
            "justify_content": null,
            "justify_items": null,
            "left": null,
            "margin": null,
            "max_height": null,
            "max_width": null,
            "min_height": null,
            "min_width": null,
            "object_fit": null,
            "object_position": null,
            "order": null,
            "overflow": null,
            "overflow_x": null,
            "overflow_y": null,
            "padding": null,
            "right": null,
            "top": null,
            "visibility": null,
            "width": null
          }
        },
        "634b110e7e254da99f619bfa6e4ebbbf": {
          "model_module": "@jupyter-widgets/controls",
          "model_name": "DescriptionStyleModel",
          "model_module_version": "1.5.0",
          "state": {
            "_model_module": "@jupyter-widgets/controls",
            "_model_module_version": "1.5.0",
            "_model_name": "DescriptionStyleModel",
            "_view_count": null,
            "_view_module": "@jupyter-widgets/base",
            "_view_module_version": "1.2.0",
            "_view_name": "StyleView",
            "description_width": ""
          }
        },
        "8561f2c510594f798cf174618d08e7bd": {
          "model_module": "@jupyter-widgets/controls",
          "model_name": "HBoxModel",
          "model_module_version": "1.5.0",
          "state": {
            "_dom_classes": [],
            "_model_module": "@jupyter-widgets/controls",
            "_model_module_version": "1.5.0",
            "_model_name": "HBoxModel",
            "_view_count": null,
            "_view_module": "@jupyter-widgets/controls",
            "_view_module_version": "1.5.0",
            "_view_name": "HBoxView",
            "box_style": "",
            "children": [
              "IPY_MODEL_e4ba6777cc044e8984e01f2b2c1ee6d4",
              "IPY_MODEL_82e92e7bd2e14b8095af123d2935ad04",
              "IPY_MODEL_51b0d478ec91455ca435acdac1dde793"
            ],
            "layout": "IPY_MODEL_c89bd2102a954274b7f320decf15e3f2"
          }
        },
        "e4ba6777cc044e8984e01f2b2c1ee6d4": {
          "model_module": "@jupyter-widgets/controls",
          "model_name": "HTMLModel",
          "model_module_version": "1.5.0",
          "state": {
            "_dom_classes": [],
            "_model_module": "@jupyter-widgets/controls",
            "_model_module_version": "1.5.0",
            "_model_name": "HTMLModel",
            "_view_count": null,
            "_view_module": "@jupyter-widgets/controls",
            "_view_module_version": "1.5.0",
            "_view_name": "HTMLView",
            "description": "",
            "description_tooltip": null,
            "layout": "IPY_MODEL_1a23cfc439924534b6fe8e918a7bed64",
            "placeholder": "​",
            "style": "IPY_MODEL_8838189d1cf04b51bd2fc07abe479b4f",
            "value": "Map: 100%"
          }
        },
        "82e92e7bd2e14b8095af123d2935ad04": {
          "model_module": "@jupyter-widgets/controls",
          "model_name": "FloatProgressModel",
          "model_module_version": "1.5.0",
          "state": {
            "_dom_classes": [],
            "_model_module": "@jupyter-widgets/controls",
            "_model_module_version": "1.5.0",
            "_model_name": "FloatProgressModel",
            "_view_count": null,
            "_view_module": "@jupyter-widgets/controls",
            "_view_module_version": "1.5.0",
            "_view_name": "ProgressView",
            "bar_style": "success",
            "description": "",
            "description_tooltip": null,
            "layout": "IPY_MODEL_b08eb2095bd447639ad4337527f73b1f",
            "max": 624,
            "min": 0,
            "orientation": "horizontal",
            "style": "IPY_MODEL_8e5b13fa32f74d49934322caed2fd3c4",
            "value": 624
          }
        },
        "51b0d478ec91455ca435acdac1dde793": {
          "model_module": "@jupyter-widgets/controls",
          "model_name": "HTMLModel",
          "model_module_version": "1.5.0",
          "state": {
            "_dom_classes": [],
            "_model_module": "@jupyter-widgets/controls",
            "_model_module_version": "1.5.0",
            "_model_name": "HTMLModel",
            "_view_count": null,
            "_view_module": "@jupyter-widgets/controls",
            "_view_module_version": "1.5.0",
            "_view_name": "HTMLView",
            "description": "",
            "description_tooltip": null,
            "layout": "IPY_MODEL_85b1bb89725d4222bb447be23e2bbe0c",
            "placeholder": "​",
            "style": "IPY_MODEL_d3c77a5c2b4b4b41b86f0ca86fe349b8",
            "value": " 624/624 [00:00&lt;00:00, 3764.91 examples/s]"
          }
        },
        "c89bd2102a954274b7f320decf15e3f2": {
          "model_module": "@jupyter-widgets/base",
          "model_name": "LayoutModel",
          "model_module_version": "1.2.0",
          "state": {
            "_model_module": "@jupyter-widgets/base",
            "_model_module_version": "1.2.0",
            "_model_name": "LayoutModel",
            "_view_count": null,
            "_view_module": "@jupyter-widgets/base",
            "_view_module_version": "1.2.0",
            "_view_name": "LayoutView",
            "align_content": null,
            "align_items": null,
            "align_self": null,
            "border": null,
            "bottom": null,
            "display": null,
            "flex": null,
            "flex_flow": null,
            "grid_area": null,
            "grid_auto_columns": null,
            "grid_auto_flow": null,
            "grid_auto_rows": null,
            "grid_column": null,
            "grid_gap": null,
            "grid_row": null,
            "grid_template_areas": null,
            "grid_template_columns": null,
            "grid_template_rows": null,
            "height": null,
            "justify_content": null,
            "justify_items": null,
            "left": null,
            "margin": null,
            "max_height": null,
            "max_width": null,
            "min_height": null,
            "min_width": null,
            "object_fit": null,
            "object_position": null,
            "order": null,
            "overflow": null,
            "overflow_x": null,
            "overflow_y": null,
            "padding": null,
            "right": null,
            "top": null,
            "visibility": null,
            "width": null
          }
        },
        "1a23cfc439924534b6fe8e918a7bed64": {
          "model_module": "@jupyter-widgets/base",
          "model_name": "LayoutModel",
          "model_module_version": "1.2.0",
          "state": {
            "_model_module": "@jupyter-widgets/base",
            "_model_module_version": "1.2.0",
            "_model_name": "LayoutModel",
            "_view_count": null,
            "_view_module": "@jupyter-widgets/base",
            "_view_module_version": "1.2.0",
            "_view_name": "LayoutView",
            "align_content": null,
            "align_items": null,
            "align_self": null,
            "border": null,
            "bottom": null,
            "display": null,
            "flex": null,
            "flex_flow": null,
            "grid_area": null,
            "grid_auto_columns": null,
            "grid_auto_flow": null,
            "grid_auto_rows": null,
            "grid_column": null,
            "grid_gap": null,
            "grid_row": null,
            "grid_template_areas": null,
            "grid_template_columns": null,
            "grid_template_rows": null,
            "height": null,
            "justify_content": null,
            "justify_items": null,
            "left": null,
            "margin": null,
            "max_height": null,
            "max_width": null,
            "min_height": null,
            "min_width": null,
            "object_fit": null,
            "object_position": null,
            "order": null,
            "overflow": null,
            "overflow_x": null,
            "overflow_y": null,
            "padding": null,
            "right": null,
            "top": null,
            "visibility": null,
            "width": null
          }
        },
        "8838189d1cf04b51bd2fc07abe479b4f": {
          "model_module": "@jupyter-widgets/controls",
          "model_name": "DescriptionStyleModel",
          "model_module_version": "1.5.0",
          "state": {
            "_model_module": "@jupyter-widgets/controls",
            "_model_module_version": "1.5.0",
            "_model_name": "DescriptionStyleModel",
            "_view_count": null,
            "_view_module": "@jupyter-widgets/base",
            "_view_module_version": "1.2.0",
            "_view_name": "StyleView",
            "description_width": ""
          }
        },
        "b08eb2095bd447639ad4337527f73b1f": {
          "model_module": "@jupyter-widgets/base",
          "model_name": "LayoutModel",
          "model_module_version": "1.2.0",
          "state": {
            "_model_module": "@jupyter-widgets/base",
            "_model_module_version": "1.2.0",
            "_model_name": "LayoutModel",
            "_view_count": null,
            "_view_module": "@jupyter-widgets/base",
            "_view_module_version": "1.2.0",
            "_view_name": "LayoutView",
            "align_content": null,
            "align_items": null,
            "align_self": null,
            "border": null,
            "bottom": null,
            "display": null,
            "flex": null,
            "flex_flow": null,
            "grid_area": null,
            "grid_auto_columns": null,
            "grid_auto_flow": null,
            "grid_auto_rows": null,
            "grid_column": null,
            "grid_gap": null,
            "grid_row": null,
            "grid_template_areas": null,
            "grid_template_columns": null,
            "grid_template_rows": null,
            "height": null,
            "justify_content": null,
            "justify_items": null,
            "left": null,
            "margin": null,
            "max_height": null,
            "max_width": null,
            "min_height": null,
            "min_width": null,
            "object_fit": null,
            "object_position": null,
            "order": null,
            "overflow": null,
            "overflow_x": null,
            "overflow_y": null,
            "padding": null,
            "right": null,
            "top": null,
            "visibility": null,
            "width": null
          }
        },
        "8e5b13fa32f74d49934322caed2fd3c4": {
          "model_module": "@jupyter-widgets/controls",
          "model_name": "ProgressStyleModel",
          "model_module_version": "1.5.0",
          "state": {
            "_model_module": "@jupyter-widgets/controls",
            "_model_module_version": "1.5.0",
            "_model_name": "ProgressStyleModel",
            "_view_count": null,
            "_view_module": "@jupyter-widgets/base",
            "_view_module_version": "1.2.0",
            "_view_name": "StyleView",
            "bar_color": null,
            "description_width": ""
          }
        },
        "85b1bb89725d4222bb447be23e2bbe0c": {
          "model_module": "@jupyter-widgets/base",
          "model_name": "LayoutModel",
          "model_module_version": "1.2.0",
          "state": {
            "_model_module": "@jupyter-widgets/base",
            "_model_module_version": "1.2.0",
            "_model_name": "LayoutModel",
            "_view_count": null,
            "_view_module": "@jupyter-widgets/base",
            "_view_module_version": "1.2.0",
            "_view_name": "LayoutView",
            "align_content": null,
            "align_items": null,
            "align_self": null,
            "border": null,
            "bottom": null,
            "display": null,
            "flex": null,
            "flex_flow": null,
            "grid_area": null,
            "grid_auto_columns": null,
            "grid_auto_flow": null,
            "grid_auto_rows": null,
            "grid_column": null,
            "grid_gap": null,
            "grid_row": null,
            "grid_template_areas": null,
            "grid_template_columns": null,
            "grid_template_rows": null,
            "height": null,
            "justify_content": null,
            "justify_items": null,
            "left": null,
            "margin": null,
            "max_height": null,
            "max_width": null,
            "min_height": null,
            "min_width": null,
            "object_fit": null,
            "object_position": null,
            "order": null,
            "overflow": null,
            "overflow_x": null,
            "overflow_y": null,
            "padding": null,
            "right": null,
            "top": null,
            "visibility": null,
            "width": null
          }
        },
        "d3c77a5c2b4b4b41b86f0ca86fe349b8": {
          "model_module": "@jupyter-widgets/controls",
          "model_name": "DescriptionStyleModel",
          "model_module_version": "1.5.0",
          "state": {
            "_model_module": "@jupyter-widgets/controls",
            "_model_module_version": "1.5.0",
            "_model_name": "DescriptionStyleModel",
            "_view_count": null,
            "_view_module": "@jupyter-widgets/base",
            "_view_module_version": "1.2.0",
            "_view_name": "StyleView",
            "description_width": ""
          }
        },
        "d7276770fe354d1a860de8ad6649dc6e": {
          "model_module": "@jupyter-widgets/controls",
          "model_name": "HBoxModel",
          "model_module_version": "1.5.0",
          "state": {
            "_dom_classes": [],
            "_model_module": "@jupyter-widgets/controls",
            "_model_module_version": "1.5.0",
            "_model_name": "HBoxModel",
            "_view_count": null,
            "_view_module": "@jupyter-widgets/controls",
            "_view_module_version": "1.5.0",
            "_view_name": "HBoxView",
            "box_style": "",
            "children": [
              "IPY_MODEL_3c44bbe816e646cfac261c763ae778c4",
              "IPY_MODEL_2389604a119a4357a1d2ceff334ffc3f",
              "IPY_MODEL_c7cc4ef8827140ad80f10c0641b9dba9"
            ],
            "layout": "IPY_MODEL_f2ab5ad7f52f45ffa0d4eb85c793d1a5"
          }
        },
        "3c44bbe816e646cfac261c763ae778c4": {
          "model_module": "@jupyter-widgets/controls",
          "model_name": "HTMLModel",
          "model_module_version": "1.5.0",
          "state": {
            "_dom_classes": [],
            "_model_module": "@jupyter-widgets/controls",
            "_model_module_version": "1.5.0",
            "_model_name": "HTMLModel",
            "_view_count": null,
            "_view_module": "@jupyter-widgets/controls",
            "_view_module_version": "1.5.0",
            "_view_name": "HTMLView",
            "description": "",
            "description_tooltip": null,
            "layout": "IPY_MODEL_0ed9089e935f4715b469b105da6abb39",
            "placeholder": "​",
            "style": "IPY_MODEL_c3cc9ceee34e4c2183bc23861bb429fb",
            "value": "Map: 100%"
          }
        },
        "2389604a119a4357a1d2ceff334ffc3f": {
          "model_module": "@jupyter-widgets/controls",
          "model_name": "FloatProgressModel",
          "model_module_version": "1.5.0",
          "state": {
            "_dom_classes": [],
            "_model_module": "@jupyter-widgets/controls",
            "_model_module_version": "1.5.0",
            "_model_name": "FloatProgressModel",
            "_view_count": null,
            "_view_module": "@jupyter-widgets/controls",
            "_view_module_version": "1.5.0",
            "_view_name": "ProgressView",
            "bar_style": "success",
            "description": "",
            "description_tooltip": null,
            "layout": "IPY_MODEL_046dabf5488c44eb802b27c3a982ff1f",
            "max": 1000,
            "min": 0,
            "orientation": "horizontal",
            "style": "IPY_MODEL_e1b788d46e35432c93360b89ca8af3e3",
            "value": 1000
          }
        },
        "c7cc4ef8827140ad80f10c0641b9dba9": {
          "model_module": "@jupyter-widgets/controls",
          "model_name": "HTMLModel",
          "model_module_version": "1.5.0",
          "state": {
            "_dom_classes": [],
            "_model_module": "@jupyter-widgets/controls",
            "_model_module_version": "1.5.0",
            "_model_name": "HTMLModel",
            "_view_count": null,
            "_view_module": "@jupyter-widgets/controls",
            "_view_module_version": "1.5.0",
            "_view_name": "HTMLView",
            "description": "",
            "description_tooltip": null,
            "layout": "IPY_MODEL_e8be288bf58d46c5a385470fb886b350",
            "placeholder": "​",
            "style": "IPY_MODEL_49625d28bb7f41cca31e3a70d291717c",
            "value": " 1000/1000 [00:00&lt;00:00, 5955.58 examples/s]"
          }
        },
        "f2ab5ad7f52f45ffa0d4eb85c793d1a5": {
          "model_module": "@jupyter-widgets/base",
          "model_name": "LayoutModel",
          "model_module_version": "1.2.0",
          "state": {
            "_model_module": "@jupyter-widgets/base",
            "_model_module_version": "1.2.0",
            "_model_name": "LayoutModel",
            "_view_count": null,
            "_view_module": "@jupyter-widgets/base",
            "_view_module_version": "1.2.0",
            "_view_name": "LayoutView",
            "align_content": null,
            "align_items": null,
            "align_self": null,
            "border": null,
            "bottom": null,
            "display": null,
            "flex": null,
            "flex_flow": null,
            "grid_area": null,
            "grid_auto_columns": null,
            "grid_auto_flow": null,
            "grid_auto_rows": null,
            "grid_column": null,
            "grid_gap": null,
            "grid_row": null,
            "grid_template_areas": null,
            "grid_template_columns": null,
            "grid_template_rows": null,
            "height": null,
            "justify_content": null,
            "justify_items": null,
            "left": null,
            "margin": null,
            "max_height": null,
            "max_width": null,
            "min_height": null,
            "min_width": null,
            "object_fit": null,
            "object_position": null,
            "order": null,
            "overflow": null,
            "overflow_x": null,
            "overflow_y": null,
            "padding": null,
            "right": null,
            "top": null,
            "visibility": null,
            "width": null
          }
        },
        "0ed9089e935f4715b469b105da6abb39": {
          "model_module": "@jupyter-widgets/base",
          "model_name": "LayoutModel",
          "model_module_version": "1.2.0",
          "state": {
            "_model_module": "@jupyter-widgets/base",
            "_model_module_version": "1.2.0",
            "_model_name": "LayoutModel",
            "_view_count": null,
            "_view_module": "@jupyter-widgets/base",
            "_view_module_version": "1.2.0",
            "_view_name": "LayoutView",
            "align_content": null,
            "align_items": null,
            "align_self": null,
            "border": null,
            "bottom": null,
            "display": null,
            "flex": null,
            "flex_flow": null,
            "grid_area": null,
            "grid_auto_columns": null,
            "grid_auto_flow": null,
            "grid_auto_rows": null,
            "grid_column": null,
            "grid_gap": null,
            "grid_row": null,
            "grid_template_areas": null,
            "grid_template_columns": null,
            "grid_template_rows": null,
            "height": null,
            "justify_content": null,
            "justify_items": null,
            "left": null,
            "margin": null,
            "max_height": null,
            "max_width": null,
            "min_height": null,
            "min_width": null,
            "object_fit": null,
            "object_position": null,
            "order": null,
            "overflow": null,
            "overflow_x": null,
            "overflow_y": null,
            "padding": null,
            "right": null,
            "top": null,
            "visibility": null,
            "width": null
          }
        },
        "c3cc9ceee34e4c2183bc23861bb429fb": {
          "model_module": "@jupyter-widgets/controls",
          "model_name": "DescriptionStyleModel",
          "model_module_version": "1.5.0",
          "state": {
            "_model_module": "@jupyter-widgets/controls",
            "_model_module_version": "1.5.0",
            "_model_name": "DescriptionStyleModel",
            "_view_count": null,
            "_view_module": "@jupyter-widgets/base",
            "_view_module_version": "1.2.0",
            "_view_name": "StyleView",
            "description_width": ""
          }
        },
        "046dabf5488c44eb802b27c3a982ff1f": {
          "model_module": "@jupyter-widgets/base",
          "model_name": "LayoutModel",
          "model_module_version": "1.2.0",
          "state": {
            "_model_module": "@jupyter-widgets/base",
            "_model_module_version": "1.2.0",
            "_model_name": "LayoutModel",
            "_view_count": null,
            "_view_module": "@jupyter-widgets/base",
            "_view_module_version": "1.2.0",
            "_view_name": "LayoutView",
            "align_content": null,
            "align_items": null,
            "align_self": null,
            "border": null,
            "bottom": null,
            "display": null,
            "flex": null,
            "flex_flow": null,
            "grid_area": null,
            "grid_auto_columns": null,
            "grid_auto_flow": null,
            "grid_auto_rows": null,
            "grid_column": null,
            "grid_gap": null,
            "grid_row": null,
            "grid_template_areas": null,
            "grid_template_columns": null,
            "grid_template_rows": null,
            "height": null,
            "justify_content": null,
            "justify_items": null,
            "left": null,
            "margin": null,
            "max_height": null,
            "max_width": null,
            "min_height": null,
            "min_width": null,
            "object_fit": null,
            "object_position": null,
            "order": null,
            "overflow": null,
            "overflow_x": null,
            "overflow_y": null,
            "padding": null,
            "right": null,
            "top": null,
            "visibility": null,
            "width": null
          }
        },
        "e1b788d46e35432c93360b89ca8af3e3": {
          "model_module": "@jupyter-widgets/controls",
          "model_name": "ProgressStyleModel",
          "model_module_version": "1.5.0",
          "state": {
            "_model_module": "@jupyter-widgets/controls",
            "_model_module_version": "1.5.0",
            "_model_name": "ProgressStyleModel",
            "_view_count": null,
            "_view_module": "@jupyter-widgets/base",
            "_view_module_version": "1.2.0",
            "_view_name": "StyleView",
            "bar_color": null,
            "description_width": ""
          }
        },
        "e8be288bf58d46c5a385470fb886b350": {
          "model_module": "@jupyter-widgets/base",
          "model_name": "LayoutModel",
          "model_module_version": "1.2.0",
          "state": {
            "_model_module": "@jupyter-widgets/base",
            "_model_module_version": "1.2.0",
            "_model_name": "LayoutModel",
            "_view_count": null,
            "_view_module": "@jupyter-widgets/base",
            "_view_module_version": "1.2.0",
            "_view_name": "LayoutView",
            "align_content": null,
            "align_items": null,
            "align_self": null,
            "border": null,
            "bottom": null,
            "display": null,
            "flex": null,
            "flex_flow": null,
            "grid_area": null,
            "grid_auto_columns": null,
            "grid_auto_flow": null,
            "grid_auto_rows": null,
            "grid_column": null,
            "grid_gap": null,
            "grid_row": null,
            "grid_template_areas": null,
            "grid_template_columns": null,
            "grid_template_rows": null,
            "height": null,
            "justify_content": null,
            "justify_items": null,
            "left": null,
            "margin": null,
            "max_height": null,
            "max_width": null,
            "min_height": null,
            "min_width": null,
            "object_fit": null,
            "object_position": null,
            "order": null,
            "overflow": null,
            "overflow_x": null,
            "overflow_y": null,
            "padding": null,
            "right": null,
            "top": null,
            "visibility": null,
            "width": null
          }
        },
        "49625d28bb7f41cca31e3a70d291717c": {
          "model_module": "@jupyter-widgets/controls",
          "model_name": "DescriptionStyleModel",
          "model_module_version": "1.5.0",
          "state": {
            "_model_module": "@jupyter-widgets/controls",
            "_model_module_version": "1.5.0",
            "_model_name": "DescriptionStyleModel",
            "_view_count": null,
            "_view_module": "@jupyter-widgets/base",
            "_view_module_version": "1.2.0",
            "_view_name": "StyleView",
            "description_width": ""
          }
        },
        "0e84bed1996e43a0a20961329b662689": {
          "model_module": "@jupyter-widgets/controls",
          "model_name": "HBoxModel",
          "model_module_version": "1.5.0",
          "state": {
            "_dom_classes": [],
            "_model_module": "@jupyter-widgets/controls",
            "_model_module_version": "1.5.0",
            "_model_name": "HBoxModel",
            "_view_count": null,
            "_view_module": "@jupyter-widgets/controls",
            "_view_module_version": "1.5.0",
            "_view_name": "HBoxView",
            "box_style": "",
            "children": [
              "IPY_MODEL_6a2a642ea75a44a49d817ad35d6fc6c0",
              "IPY_MODEL_cbcb65f80a6a40269f0415231bec47f1",
              "IPY_MODEL_02d0324226d3445aa5623d8d1ceba9ba"
            ],
            "layout": "IPY_MODEL_9e86931550ec4f5baa0e1fad98cbc176"
          }
        },
        "6a2a642ea75a44a49d817ad35d6fc6c0": {
          "model_module": "@jupyter-widgets/controls",
          "model_name": "HTMLModel",
          "model_module_version": "1.5.0",
          "state": {
            "_dom_classes": [],
            "_model_module": "@jupyter-widgets/controls",
            "_model_module_version": "1.5.0",
            "_model_name": "HTMLModel",
            "_view_count": null,
            "_view_module": "@jupyter-widgets/controls",
            "_view_module_version": "1.5.0",
            "_view_name": "HTMLView",
            "description": "",
            "description_tooltip": null,
            "layout": "IPY_MODEL_44456341f212486abe4242d55debbc6d",
            "placeholder": "​",
            "style": "IPY_MODEL_c870f72ecb454e49836ad516bf9817c3",
            "value": "Saving the dataset (1/1 shards): 100%"
          }
        },
        "cbcb65f80a6a40269f0415231bec47f1": {
          "model_module": "@jupyter-widgets/controls",
          "model_name": "FloatProgressModel",
          "model_module_version": "1.5.0",
          "state": {
            "_dom_classes": [],
            "_model_module": "@jupyter-widgets/controls",
            "_model_module_version": "1.5.0",
            "_model_name": "FloatProgressModel",
            "_view_count": null,
            "_view_module": "@jupyter-widgets/controls",
            "_view_module_version": "1.5.0",
            "_view_name": "ProgressView",
            "bar_style": "success",
            "description": "",
            "description_tooltip": null,
            "layout": "IPY_MODEL_c4e3d38080df448b844156ed66cfb591",
            "max": 624,
            "min": 0,
            "orientation": "horizontal",
            "style": "IPY_MODEL_9b495d7786d94bbe8b77a0d730499d83",
            "value": 624
          }
        },
        "02d0324226d3445aa5623d8d1ceba9ba": {
          "model_module": "@jupyter-widgets/controls",
          "model_name": "HTMLModel",
          "model_module_version": "1.5.0",
          "state": {
            "_dom_classes": [],
            "_model_module": "@jupyter-widgets/controls",
            "_model_module_version": "1.5.0",
            "_model_name": "HTMLModel",
            "_view_count": null,
            "_view_module": "@jupyter-widgets/controls",
            "_view_module_version": "1.5.0",
            "_view_name": "HTMLView",
            "description": "",
            "description_tooltip": null,
            "layout": "IPY_MODEL_e686c95aefb74cf9bdf7141970382e0d",
            "placeholder": "​",
            "style": "IPY_MODEL_29912816b3e9480e9fd64715f598d5fc",
            "value": " 624/624 [00:00&lt;00:00, 1327.91 examples/s]"
          }
        },
        "9e86931550ec4f5baa0e1fad98cbc176": {
          "model_module": "@jupyter-widgets/base",
          "model_name": "LayoutModel",
          "model_module_version": "1.2.0",
          "state": {
            "_model_module": "@jupyter-widgets/base",
            "_model_module_version": "1.2.0",
            "_model_name": "LayoutModel",
            "_view_count": null,
            "_view_module": "@jupyter-widgets/base",
            "_view_module_version": "1.2.0",
            "_view_name": "LayoutView",
            "align_content": null,
            "align_items": null,
            "align_self": null,
            "border": null,
            "bottom": null,
            "display": null,
            "flex": null,
            "flex_flow": null,
            "grid_area": null,
            "grid_auto_columns": null,
            "grid_auto_flow": null,
            "grid_auto_rows": null,
            "grid_column": null,
            "grid_gap": null,
            "grid_row": null,
            "grid_template_areas": null,
            "grid_template_columns": null,
            "grid_template_rows": null,
            "height": null,
            "justify_content": null,
            "justify_items": null,
            "left": null,
            "margin": null,
            "max_height": null,
            "max_width": null,
            "min_height": null,
            "min_width": null,
            "object_fit": null,
            "object_position": null,
            "order": null,
            "overflow": null,
            "overflow_x": null,
            "overflow_y": null,
            "padding": null,
            "right": null,
            "top": null,
            "visibility": null,
            "width": null
          }
        },
        "44456341f212486abe4242d55debbc6d": {
          "model_module": "@jupyter-widgets/base",
          "model_name": "LayoutModel",
          "model_module_version": "1.2.0",
          "state": {
            "_model_module": "@jupyter-widgets/base",
            "_model_module_version": "1.2.0",
            "_model_name": "LayoutModel",
            "_view_count": null,
            "_view_module": "@jupyter-widgets/base",
            "_view_module_version": "1.2.0",
            "_view_name": "LayoutView",
            "align_content": null,
            "align_items": null,
            "align_self": null,
            "border": null,
            "bottom": null,
            "display": null,
            "flex": null,
            "flex_flow": null,
            "grid_area": null,
            "grid_auto_columns": null,
            "grid_auto_flow": null,
            "grid_auto_rows": null,
            "grid_column": null,
            "grid_gap": null,
            "grid_row": null,
            "grid_template_areas": null,
            "grid_template_columns": null,
            "grid_template_rows": null,
            "height": null,
            "justify_content": null,
            "justify_items": null,
            "left": null,
            "margin": null,
            "max_height": null,
            "max_width": null,
            "min_height": null,
            "min_width": null,
            "object_fit": null,
            "object_position": null,
            "order": null,
            "overflow": null,
            "overflow_x": null,
            "overflow_y": null,
            "padding": null,
            "right": null,
            "top": null,
            "visibility": null,
            "width": null
          }
        },
        "c870f72ecb454e49836ad516bf9817c3": {
          "model_module": "@jupyter-widgets/controls",
          "model_name": "DescriptionStyleModel",
          "model_module_version": "1.5.0",
          "state": {
            "_model_module": "@jupyter-widgets/controls",
            "_model_module_version": "1.5.0",
            "_model_name": "DescriptionStyleModel",
            "_view_count": null,
            "_view_module": "@jupyter-widgets/base",
            "_view_module_version": "1.2.0",
            "_view_name": "StyleView",
            "description_width": ""
          }
        },
        "c4e3d38080df448b844156ed66cfb591": {
          "model_module": "@jupyter-widgets/base",
          "model_name": "LayoutModel",
          "model_module_version": "1.2.0",
          "state": {
            "_model_module": "@jupyter-widgets/base",
            "_model_module_version": "1.2.0",
            "_model_name": "LayoutModel",
            "_view_count": null,
            "_view_module": "@jupyter-widgets/base",
            "_view_module_version": "1.2.0",
            "_view_name": "LayoutView",
            "align_content": null,
            "align_items": null,
            "align_self": null,
            "border": null,
            "bottom": null,
            "display": null,
            "flex": null,
            "flex_flow": null,
            "grid_area": null,
            "grid_auto_columns": null,
            "grid_auto_flow": null,
            "grid_auto_rows": null,
            "grid_column": null,
            "grid_gap": null,
            "grid_row": null,
            "grid_template_areas": null,
            "grid_template_columns": null,
            "grid_template_rows": null,
            "height": null,
            "justify_content": null,
            "justify_items": null,
            "left": null,
            "margin": null,
            "max_height": null,
            "max_width": null,
            "min_height": null,
            "min_width": null,
            "object_fit": null,
            "object_position": null,
            "order": null,
            "overflow": null,
            "overflow_x": null,
            "overflow_y": null,
            "padding": null,
            "right": null,
            "top": null,
            "visibility": null,
            "width": null
          }
        },
        "9b495d7786d94bbe8b77a0d730499d83": {
          "model_module": "@jupyter-widgets/controls",
          "model_name": "ProgressStyleModel",
          "model_module_version": "1.5.0",
          "state": {
            "_model_module": "@jupyter-widgets/controls",
            "_model_module_version": "1.5.0",
            "_model_name": "ProgressStyleModel",
            "_view_count": null,
            "_view_module": "@jupyter-widgets/base",
            "_view_module_version": "1.2.0",
            "_view_name": "StyleView",
            "bar_color": null,
            "description_width": ""
          }
        },
        "e686c95aefb74cf9bdf7141970382e0d": {
          "model_module": "@jupyter-widgets/base",
          "model_name": "LayoutModel",
          "model_module_version": "1.2.0",
          "state": {
            "_model_module": "@jupyter-widgets/base",
            "_model_module_version": "1.2.0",
            "_model_name": "LayoutModel",
            "_view_count": null,
            "_view_module": "@jupyter-widgets/base",
            "_view_module_version": "1.2.0",
            "_view_name": "LayoutView",
            "align_content": null,
            "align_items": null,
            "align_self": null,
            "border": null,
            "bottom": null,
            "display": null,
            "flex": null,
            "flex_flow": null,
            "grid_area": null,
            "grid_auto_columns": null,
            "grid_auto_flow": null,
            "grid_auto_rows": null,
            "grid_column": null,
            "grid_gap": null,
            "grid_row": null,
            "grid_template_areas": null,
            "grid_template_columns": null,
            "grid_template_rows": null,
            "height": null,
            "justify_content": null,
            "justify_items": null,
            "left": null,
            "margin": null,
            "max_height": null,
            "max_width": null,
            "min_height": null,
            "min_width": null,
            "object_fit": null,
            "object_position": null,
            "order": null,
            "overflow": null,
            "overflow_x": null,
            "overflow_y": null,
            "padding": null,
            "right": null,
            "top": null,
            "visibility": null,
            "width": null
          }
        },
        "29912816b3e9480e9fd64715f598d5fc": {
          "model_module": "@jupyter-widgets/controls",
          "model_name": "DescriptionStyleModel",
          "model_module_version": "1.5.0",
          "state": {
            "_model_module": "@jupyter-widgets/controls",
            "_model_module_version": "1.5.0",
            "_model_name": "DescriptionStyleModel",
            "_view_count": null,
            "_view_module": "@jupyter-widgets/base",
            "_view_module_version": "1.2.0",
            "_view_name": "StyleView",
            "description_width": ""
          }
        },
        "f662f713573243168150d2cbfbc64e40": {
          "model_module": "@jupyter-widgets/controls",
          "model_name": "HBoxModel",
          "model_module_version": "1.5.0",
          "state": {
            "_dom_classes": [],
            "_model_module": "@jupyter-widgets/controls",
            "_model_module_version": "1.5.0",
            "_model_name": "HBoxModel",
            "_view_count": null,
            "_view_module": "@jupyter-widgets/controls",
            "_view_module_version": "1.5.0",
            "_view_name": "HBoxView",
            "box_style": "",
            "children": [
              "IPY_MODEL_471920f9b9634b369da8c82ace0706e7",
              "IPY_MODEL_36d72b7758f444ef90664e84da546edc",
              "IPY_MODEL_e4ef53794406424c90c14423d636b068"
            ],
            "layout": "IPY_MODEL_849909c96ab34b3e870f5f466f486b2b"
          }
        },
        "471920f9b9634b369da8c82ace0706e7": {
          "model_module": "@jupyter-widgets/controls",
          "model_name": "HTMLModel",
          "model_module_version": "1.5.0",
          "state": {
            "_dom_classes": [],
            "_model_module": "@jupyter-widgets/controls",
            "_model_module_version": "1.5.0",
            "_model_name": "HTMLModel",
            "_view_count": null,
            "_view_module": "@jupyter-widgets/controls",
            "_view_module_version": "1.5.0",
            "_view_name": "HTMLView",
            "description": "",
            "description_tooltip": null,
            "layout": "IPY_MODEL_43bcefd6e5334edeb93496cf07ba588c",
            "placeholder": "​",
            "style": "IPY_MODEL_6677677fb6a249a3b0db09fb558443c3",
            "value": "Saving the dataset (1/1 shards): 100%"
          }
        },
        "36d72b7758f444ef90664e84da546edc": {
          "model_module": "@jupyter-widgets/controls",
          "model_name": "FloatProgressModel",
          "model_module_version": "1.5.0",
          "state": {
            "_dom_classes": [],
            "_model_module": "@jupyter-widgets/controls",
            "_model_module_version": "1.5.0",
            "_model_name": "FloatProgressModel",
            "_view_count": null,
            "_view_module": "@jupyter-widgets/controls",
            "_view_module_version": "1.5.0",
            "_view_name": "ProgressView",
            "bar_style": "success",
            "description": "",
            "description_tooltip": null,
            "layout": "IPY_MODEL_f6b7ecfc3ed94418a2a105acde1c88cf",
            "max": 1000,
            "min": 0,
            "orientation": "horizontal",
            "style": "IPY_MODEL_3bbfc01d9b904703989660fb0209590a",
            "value": 1000
          }
        },
        "e4ef53794406424c90c14423d636b068": {
          "model_module": "@jupyter-widgets/controls",
          "model_name": "HTMLModel",
          "model_module_version": "1.5.0",
          "state": {
            "_dom_classes": [],
            "_model_module": "@jupyter-widgets/controls",
            "_model_module_version": "1.5.0",
            "_model_name": "HTMLModel",
            "_view_count": null,
            "_view_module": "@jupyter-widgets/controls",
            "_view_module_version": "1.5.0",
            "_view_name": "HTMLView",
            "description": "",
            "description_tooltip": null,
            "layout": "IPY_MODEL_e0541d363e1a43c3b8e00432e422c876",
            "placeholder": "​",
            "style": "IPY_MODEL_f88dfdf62d9c426984173c0d79fda533",
            "value": " 1000/1000 [00:00&lt;00:00, 2054.56 examples/s]"
          }
        },
        "849909c96ab34b3e870f5f466f486b2b": {
          "model_module": "@jupyter-widgets/base",
          "model_name": "LayoutModel",
          "model_module_version": "1.2.0",
          "state": {
            "_model_module": "@jupyter-widgets/base",
            "_model_module_version": "1.2.0",
            "_model_name": "LayoutModel",
            "_view_count": null,
            "_view_module": "@jupyter-widgets/base",
            "_view_module_version": "1.2.0",
            "_view_name": "LayoutView",
            "align_content": null,
            "align_items": null,
            "align_self": null,
            "border": null,
            "bottom": null,
            "display": null,
            "flex": null,
            "flex_flow": null,
            "grid_area": null,
            "grid_auto_columns": null,
            "grid_auto_flow": null,
            "grid_auto_rows": null,
            "grid_column": null,
            "grid_gap": null,
            "grid_row": null,
            "grid_template_areas": null,
            "grid_template_columns": null,
            "grid_template_rows": null,
            "height": null,
            "justify_content": null,
            "justify_items": null,
            "left": null,
            "margin": null,
            "max_height": null,
            "max_width": null,
            "min_height": null,
            "min_width": null,
            "object_fit": null,
            "object_position": null,
            "order": null,
            "overflow": null,
            "overflow_x": null,
            "overflow_y": null,
            "padding": null,
            "right": null,
            "top": null,
            "visibility": null,
            "width": null
          }
        },
        "43bcefd6e5334edeb93496cf07ba588c": {
          "model_module": "@jupyter-widgets/base",
          "model_name": "LayoutModel",
          "model_module_version": "1.2.0",
          "state": {
            "_model_module": "@jupyter-widgets/base",
            "_model_module_version": "1.2.0",
            "_model_name": "LayoutModel",
            "_view_count": null,
            "_view_module": "@jupyter-widgets/base",
            "_view_module_version": "1.2.0",
            "_view_name": "LayoutView",
            "align_content": null,
            "align_items": null,
            "align_self": null,
            "border": null,
            "bottom": null,
            "display": null,
            "flex": null,
            "flex_flow": null,
            "grid_area": null,
            "grid_auto_columns": null,
            "grid_auto_flow": null,
            "grid_auto_rows": null,
            "grid_column": null,
            "grid_gap": null,
            "grid_row": null,
            "grid_template_areas": null,
            "grid_template_columns": null,
            "grid_template_rows": null,
            "height": null,
            "justify_content": null,
            "justify_items": null,
            "left": null,
            "margin": null,
            "max_height": null,
            "max_width": null,
            "min_height": null,
            "min_width": null,
            "object_fit": null,
            "object_position": null,
            "order": null,
            "overflow": null,
            "overflow_x": null,
            "overflow_y": null,
            "padding": null,
            "right": null,
            "top": null,
            "visibility": null,
            "width": null
          }
        },
        "6677677fb6a249a3b0db09fb558443c3": {
          "model_module": "@jupyter-widgets/controls",
          "model_name": "DescriptionStyleModel",
          "model_module_version": "1.5.0",
          "state": {
            "_model_module": "@jupyter-widgets/controls",
            "_model_module_version": "1.5.0",
            "_model_name": "DescriptionStyleModel",
            "_view_count": null,
            "_view_module": "@jupyter-widgets/base",
            "_view_module_version": "1.2.0",
            "_view_name": "StyleView",
            "description_width": ""
          }
        },
        "f6b7ecfc3ed94418a2a105acde1c88cf": {
          "model_module": "@jupyter-widgets/base",
          "model_name": "LayoutModel",
          "model_module_version": "1.2.0",
          "state": {
            "_model_module": "@jupyter-widgets/base",
            "_model_module_version": "1.2.0",
            "_model_name": "LayoutModel",
            "_view_count": null,
            "_view_module": "@jupyter-widgets/base",
            "_view_module_version": "1.2.0",
            "_view_name": "LayoutView",
            "align_content": null,
            "align_items": null,
            "align_self": null,
            "border": null,
            "bottom": null,
            "display": null,
            "flex": null,
            "flex_flow": null,
            "grid_area": null,
            "grid_auto_columns": null,
            "grid_auto_flow": null,
            "grid_auto_rows": null,
            "grid_column": null,
            "grid_gap": null,
            "grid_row": null,
            "grid_template_areas": null,
            "grid_template_columns": null,
            "grid_template_rows": null,
            "height": null,
            "justify_content": null,
            "justify_items": null,
            "left": null,
            "margin": null,
            "max_height": null,
            "max_width": null,
            "min_height": null,
            "min_width": null,
            "object_fit": null,
            "object_position": null,
            "order": null,
            "overflow": null,
            "overflow_x": null,
            "overflow_y": null,
            "padding": null,
            "right": null,
            "top": null,
            "visibility": null,
            "width": null
          }
        },
        "3bbfc01d9b904703989660fb0209590a": {
          "model_module": "@jupyter-widgets/controls",
          "model_name": "ProgressStyleModel",
          "model_module_version": "1.5.0",
          "state": {
            "_model_module": "@jupyter-widgets/controls",
            "_model_module_version": "1.5.0",
            "_model_name": "ProgressStyleModel",
            "_view_count": null,
            "_view_module": "@jupyter-widgets/base",
            "_view_module_version": "1.2.0",
            "_view_name": "StyleView",
            "bar_color": null,
            "description_width": ""
          }
        },
        "e0541d363e1a43c3b8e00432e422c876": {
          "model_module": "@jupyter-widgets/base",
          "model_name": "LayoutModel",
          "model_module_version": "1.2.0",
          "state": {
            "_model_module": "@jupyter-widgets/base",
            "_model_module_version": "1.2.0",
            "_model_name": "LayoutModel",
            "_view_count": null,
            "_view_module": "@jupyter-widgets/base",
            "_view_module_version": "1.2.0",
            "_view_name": "LayoutView",
            "align_content": null,
            "align_items": null,
            "align_self": null,
            "border": null,
            "bottom": null,
            "display": null,
            "flex": null,
            "flex_flow": null,
            "grid_area": null,
            "grid_auto_columns": null,
            "grid_auto_flow": null,
            "grid_auto_rows": null,
            "grid_column": null,
            "grid_gap": null,
            "grid_row": null,
            "grid_template_areas": null,
            "grid_template_columns": null,
            "grid_template_rows": null,
            "height": null,
            "justify_content": null,
            "justify_items": null,
            "left": null,
            "margin": null,
            "max_height": null,
            "max_width": null,
            "min_height": null,
            "min_width": null,
            "object_fit": null,
            "object_position": null,
            "order": null,
            "overflow": null,
            "overflow_x": null,
            "overflow_y": null,
            "padding": null,
            "right": null,
            "top": null,
            "visibility": null,
            "width": null
          }
        },
        "f88dfdf62d9c426984173c0d79fda533": {
          "model_module": "@jupyter-widgets/controls",
          "model_name": "DescriptionStyleModel",
          "model_module_version": "1.5.0",
          "state": {
            "_model_module": "@jupyter-widgets/controls",
            "_model_module_version": "1.5.0",
            "_model_name": "DescriptionStyleModel",
            "_view_count": null,
            "_view_module": "@jupyter-widgets/base",
            "_view_module_version": "1.2.0",
            "_view_name": "StyleView",
            "description_width": ""
          }
        },
        "505810cfbbff4d1e9376981f3b325117": {
          "model_module": "@jupyter-widgets/controls",
          "model_name": "HBoxModel",
          "model_module_version": "1.5.0",
          "state": {
            "_dom_classes": [],
            "_model_module": "@jupyter-widgets/controls",
            "_model_module_version": "1.5.0",
            "_model_name": "HBoxModel",
            "_view_count": null,
            "_view_module": "@jupyter-widgets/controls",
            "_view_module_version": "1.5.0",
            "_view_name": "HBoxView",
            "box_style": "",
            "children": [
              "IPY_MODEL_1e387be77f9044f8a7359fdefd2691bf",
              "IPY_MODEL_d1c70303f07946d6ac87648b3120e708",
              "IPY_MODEL_d8518f70a4044c6e952858de19ab65cb"
            ],
            "layout": "IPY_MODEL_a84b9135164d41d38e770449d8f18ce6"
          }
        },
        "1e387be77f9044f8a7359fdefd2691bf": {
          "model_module": "@jupyter-widgets/controls",
          "model_name": "HTMLModel",
          "model_module_version": "1.5.0",
          "state": {
            "_dom_classes": [],
            "_model_module": "@jupyter-widgets/controls",
            "_model_module_version": "1.5.0",
            "_model_name": "HTMLModel",
            "_view_count": null,
            "_view_module": "@jupyter-widgets/controls",
            "_view_module_version": "1.5.0",
            "_view_name": "HTMLView",
            "description": "",
            "description_tooltip": null,
            "layout": "IPY_MODEL_87893f1e6a3e4cab92031d89ddef4409",
            "placeholder": "​",
            "style": "IPY_MODEL_095c75876c5349a399ed271217d674c3",
            "value": "tokenizer_config.json: 100%"
          }
        },
        "d1c70303f07946d6ac87648b3120e708": {
          "model_module": "@jupyter-widgets/controls",
          "model_name": "FloatProgressModel",
          "model_module_version": "1.5.0",
          "state": {
            "_dom_classes": [],
            "_model_module": "@jupyter-widgets/controls",
            "_model_module_version": "1.5.0",
            "_model_name": "FloatProgressModel",
            "_view_count": null,
            "_view_module": "@jupyter-widgets/controls",
            "_view_module_version": "1.5.0",
            "_view_name": "ProgressView",
            "bar_style": "success",
            "description": "",
            "description_tooltip": null,
            "layout": "IPY_MODEL_fc422988196e41df9b2ed4e666246e0e",
            "max": 564,
            "min": 0,
            "orientation": "horizontal",
            "style": "IPY_MODEL_43bbead699ce4f72becd75681b690351",
            "value": 564
          }
        },
        "d8518f70a4044c6e952858de19ab65cb": {
          "model_module": "@jupyter-widgets/controls",
          "model_name": "HTMLModel",
          "model_module_version": "1.5.0",
          "state": {
            "_dom_classes": [],
            "_model_module": "@jupyter-widgets/controls",
            "_model_module_version": "1.5.0",
            "_model_name": "HTMLModel",
            "_view_count": null,
            "_view_module": "@jupyter-widgets/controls",
            "_view_module_version": "1.5.0",
            "_view_name": "HTMLView",
            "description": "",
            "description_tooltip": null,
            "layout": "IPY_MODEL_d9a52343f7df49f497c35dd59e05c752",
            "placeholder": "​",
            "style": "IPY_MODEL_05a666dc6878494190386039715411e3",
            "value": " 564/564 [00:00&lt;00:00, 22.6kB/s]"
          }
        },
        "a84b9135164d41d38e770449d8f18ce6": {
          "model_module": "@jupyter-widgets/base",
          "model_name": "LayoutModel",
          "model_module_version": "1.2.0",
          "state": {
            "_model_module": "@jupyter-widgets/base",
            "_model_module_version": "1.2.0",
            "_model_name": "LayoutModel",
            "_view_count": null,
            "_view_module": "@jupyter-widgets/base",
            "_view_module_version": "1.2.0",
            "_view_name": "LayoutView",
            "align_content": null,
            "align_items": null,
            "align_self": null,
            "border": null,
            "bottom": null,
            "display": null,
            "flex": null,
            "flex_flow": null,
            "grid_area": null,
            "grid_auto_columns": null,
            "grid_auto_flow": null,
            "grid_auto_rows": null,
            "grid_column": null,
            "grid_gap": null,
            "grid_row": null,
            "grid_template_areas": null,
            "grid_template_columns": null,
            "grid_template_rows": null,
            "height": null,
            "justify_content": null,
            "justify_items": null,
            "left": null,
            "margin": null,
            "max_height": null,
            "max_width": null,
            "min_height": null,
            "min_width": null,
            "object_fit": null,
            "object_position": null,
            "order": null,
            "overflow": null,
            "overflow_x": null,
            "overflow_y": null,
            "padding": null,
            "right": null,
            "top": null,
            "visibility": null,
            "width": null
          }
        },
        "87893f1e6a3e4cab92031d89ddef4409": {
          "model_module": "@jupyter-widgets/base",
          "model_name": "LayoutModel",
          "model_module_version": "1.2.0",
          "state": {
            "_model_module": "@jupyter-widgets/base",
            "_model_module_version": "1.2.0",
            "_model_name": "LayoutModel",
            "_view_count": null,
            "_view_module": "@jupyter-widgets/base",
            "_view_module_version": "1.2.0",
            "_view_name": "LayoutView",
            "align_content": null,
            "align_items": null,
            "align_self": null,
            "border": null,
            "bottom": null,
            "display": null,
            "flex": null,
            "flex_flow": null,
            "grid_area": null,
            "grid_auto_columns": null,
            "grid_auto_flow": null,
            "grid_auto_rows": null,
            "grid_column": null,
            "grid_gap": null,
            "grid_row": null,
            "grid_template_areas": null,
            "grid_template_columns": null,
            "grid_template_rows": null,
            "height": null,
            "justify_content": null,
            "justify_items": null,
            "left": null,
            "margin": null,
            "max_height": null,
            "max_width": null,
            "min_height": null,
            "min_width": null,
            "object_fit": null,
            "object_position": null,
            "order": null,
            "overflow": null,
            "overflow_x": null,
            "overflow_y": null,
            "padding": null,
            "right": null,
            "top": null,
            "visibility": null,
            "width": null
          }
        },
        "095c75876c5349a399ed271217d674c3": {
          "model_module": "@jupyter-widgets/controls",
          "model_name": "DescriptionStyleModel",
          "model_module_version": "1.5.0",
          "state": {
            "_model_module": "@jupyter-widgets/controls",
            "_model_module_version": "1.5.0",
            "_model_name": "DescriptionStyleModel",
            "_view_count": null,
            "_view_module": "@jupyter-widgets/base",
            "_view_module_version": "1.2.0",
            "_view_name": "StyleView",
            "description_width": ""
          }
        },
        "fc422988196e41df9b2ed4e666246e0e": {
          "model_module": "@jupyter-widgets/base",
          "model_name": "LayoutModel",
          "model_module_version": "1.2.0",
          "state": {
            "_model_module": "@jupyter-widgets/base",
            "_model_module_version": "1.2.0",
            "_model_name": "LayoutModel",
            "_view_count": null,
            "_view_module": "@jupyter-widgets/base",
            "_view_module_version": "1.2.0",
            "_view_name": "LayoutView",
            "align_content": null,
            "align_items": null,
            "align_self": null,
            "border": null,
            "bottom": null,
            "display": null,
            "flex": null,
            "flex_flow": null,
            "grid_area": null,
            "grid_auto_columns": null,
            "grid_auto_flow": null,
            "grid_auto_rows": null,
            "grid_column": null,
            "grid_gap": null,
            "grid_row": null,
            "grid_template_areas": null,
            "grid_template_columns": null,
            "grid_template_rows": null,
            "height": null,
            "justify_content": null,
            "justify_items": null,
            "left": null,
            "margin": null,
            "max_height": null,
            "max_width": null,
            "min_height": null,
            "min_width": null,
            "object_fit": null,
            "object_position": null,
            "order": null,
            "overflow": null,
            "overflow_x": null,
            "overflow_y": null,
            "padding": null,
            "right": null,
            "top": null,
            "visibility": null,
            "width": null
          }
        },
        "43bbead699ce4f72becd75681b690351": {
          "model_module": "@jupyter-widgets/controls",
          "model_name": "ProgressStyleModel",
          "model_module_version": "1.5.0",
          "state": {
            "_model_module": "@jupyter-widgets/controls",
            "_model_module_version": "1.5.0",
            "_model_name": "ProgressStyleModel",
            "_view_count": null,
            "_view_module": "@jupyter-widgets/base",
            "_view_module_version": "1.2.0",
            "_view_name": "StyleView",
            "bar_color": null,
            "description_width": ""
          }
        },
        "d9a52343f7df49f497c35dd59e05c752": {
          "model_module": "@jupyter-widgets/base",
          "model_name": "LayoutModel",
          "model_module_version": "1.2.0",
          "state": {
            "_model_module": "@jupyter-widgets/base",
            "_model_module_version": "1.2.0",
            "_model_name": "LayoutModel",
            "_view_count": null,
            "_view_module": "@jupyter-widgets/base",
            "_view_module_version": "1.2.0",
            "_view_name": "LayoutView",
            "align_content": null,
            "align_items": null,
            "align_self": null,
            "border": null,
            "bottom": null,
            "display": null,
            "flex": null,
            "flex_flow": null,
            "grid_area": null,
            "grid_auto_columns": null,
            "grid_auto_flow": null,
            "grid_auto_rows": null,
            "grid_column": null,
            "grid_gap": null,
            "grid_row": null,
            "grid_template_areas": null,
            "grid_template_columns": null,
            "grid_template_rows": null,
            "height": null,
            "justify_content": null,
            "justify_items": null,
            "left": null,
            "margin": null,
            "max_height": null,
            "max_width": null,
            "min_height": null,
            "min_width": null,
            "object_fit": null,
            "object_position": null,
            "order": null,
            "overflow": null,
            "overflow_x": null,
            "overflow_y": null,
            "padding": null,
            "right": null,
            "top": null,
            "visibility": null,
            "width": null
          }
        },
        "05a666dc6878494190386039715411e3": {
          "model_module": "@jupyter-widgets/controls",
          "model_name": "DescriptionStyleModel",
          "model_module_version": "1.5.0",
          "state": {
            "_model_module": "@jupyter-widgets/controls",
            "_model_module_version": "1.5.0",
            "_model_name": "DescriptionStyleModel",
            "_view_count": null,
            "_view_module": "@jupyter-widgets/base",
            "_view_module_version": "1.2.0",
            "_view_name": "StyleView",
            "description_width": ""
          }
        },
        "3eb31e98299a437c9a2a93d2055b5ec9": {
          "model_module": "@jupyter-widgets/controls",
          "model_name": "HBoxModel",
          "model_module_version": "1.5.0",
          "state": {
            "_dom_classes": [],
            "_model_module": "@jupyter-widgets/controls",
            "_model_module_version": "1.5.0",
            "_model_name": "HBoxModel",
            "_view_count": null,
            "_view_module": "@jupyter-widgets/controls",
            "_view_module_version": "1.5.0",
            "_view_name": "HBoxView",
            "box_style": "",
            "children": [
              "IPY_MODEL_6988007998d2403babbd9f9705bde7df",
              "IPY_MODEL_fc3b9c126d014ae6bdf40818c44fa8e3",
              "IPY_MODEL_201a88b7c75f40aa8328a1746744033b"
            ],
            "layout": "IPY_MODEL_a0dc1716caff49e0b3c23502043cb04e"
          }
        },
        "6988007998d2403babbd9f9705bde7df": {
          "model_module": "@jupyter-widgets/controls",
          "model_name": "HTMLModel",
          "model_module_version": "1.5.0",
          "state": {
            "_dom_classes": [],
            "_model_module": "@jupyter-widgets/controls",
            "_model_module_version": "1.5.0",
            "_model_name": "HTMLModel",
            "_view_count": null,
            "_view_module": "@jupyter-widgets/controls",
            "_view_module_version": "1.5.0",
            "_view_name": "HTMLView",
            "description": "",
            "description_tooltip": null,
            "layout": "IPY_MODEL_a13e34c8ed724f89820134bc37db2e49",
            "placeholder": "​",
            "style": "IPY_MODEL_a76785f320f948d18e2d94cbe8c23ee1",
            "value": "sentencepiece.bpe.model: 100%"
          }
        },
        "fc3b9c126d014ae6bdf40818c44fa8e3": {
          "model_module": "@jupyter-widgets/controls",
          "model_name": "FloatProgressModel",
          "model_module_version": "1.5.0",
          "state": {
            "_dom_classes": [],
            "_model_module": "@jupyter-widgets/controls",
            "_model_module_version": "1.5.0",
            "_model_name": "FloatProgressModel",
            "_view_count": null,
            "_view_module": "@jupyter-widgets/controls",
            "_view_module_version": "1.5.0",
            "_view_name": "ProgressView",
            "bar_style": "success",
            "description": "",
            "description_tooltip": null,
            "layout": "IPY_MODEL_c6db57406e4a4a409526a07fc4cebff4",
            "max": 4852054,
            "min": 0,
            "orientation": "horizontal",
            "style": "IPY_MODEL_e0dc861f3d8846e39f966e0d68927eab",
            "value": 4852054
          }
        },
        "201a88b7c75f40aa8328a1746744033b": {
          "model_module": "@jupyter-widgets/controls",
          "model_name": "HTMLModel",
          "model_module_version": "1.5.0",
          "state": {
            "_dom_classes": [],
            "_model_module": "@jupyter-widgets/controls",
            "_model_module_version": "1.5.0",
            "_model_name": "HTMLModel",
            "_view_count": null,
            "_view_module": "@jupyter-widgets/controls",
            "_view_module_version": "1.5.0",
            "_view_name": "HTMLView",
            "description": "",
            "description_tooltip": null,
            "layout": "IPY_MODEL_a0cc467cd1a94f1ea5b4bb4254e7daee",
            "placeholder": "​",
            "style": "IPY_MODEL_7d2fe9333307412789d886a05a772bec",
            "value": " 4.85M/4.85M [00:00&lt;00:00, 9.21MB/s]"
          }
        },
        "a0dc1716caff49e0b3c23502043cb04e": {
          "model_module": "@jupyter-widgets/base",
          "model_name": "LayoutModel",
          "model_module_version": "1.2.0",
          "state": {
            "_model_module": "@jupyter-widgets/base",
            "_model_module_version": "1.2.0",
            "_model_name": "LayoutModel",
            "_view_count": null,
            "_view_module": "@jupyter-widgets/base",
            "_view_module_version": "1.2.0",
            "_view_name": "LayoutView",
            "align_content": null,
            "align_items": null,
            "align_self": null,
            "border": null,
            "bottom": null,
            "display": null,
            "flex": null,
            "flex_flow": null,
            "grid_area": null,
            "grid_auto_columns": null,
            "grid_auto_flow": null,
            "grid_auto_rows": null,
            "grid_column": null,
            "grid_gap": null,
            "grid_row": null,
            "grid_template_areas": null,
            "grid_template_columns": null,
            "grid_template_rows": null,
            "height": null,
            "justify_content": null,
            "justify_items": null,
            "left": null,
            "margin": null,
            "max_height": null,
            "max_width": null,
            "min_height": null,
            "min_width": null,
            "object_fit": null,
            "object_position": null,
            "order": null,
            "overflow": null,
            "overflow_x": null,
            "overflow_y": null,
            "padding": null,
            "right": null,
            "top": null,
            "visibility": null,
            "width": null
          }
        },
        "a13e34c8ed724f89820134bc37db2e49": {
          "model_module": "@jupyter-widgets/base",
          "model_name": "LayoutModel",
          "model_module_version": "1.2.0",
          "state": {
            "_model_module": "@jupyter-widgets/base",
            "_model_module_version": "1.2.0",
            "_model_name": "LayoutModel",
            "_view_count": null,
            "_view_module": "@jupyter-widgets/base",
            "_view_module_version": "1.2.0",
            "_view_name": "LayoutView",
            "align_content": null,
            "align_items": null,
            "align_self": null,
            "border": null,
            "bottom": null,
            "display": null,
            "flex": null,
            "flex_flow": null,
            "grid_area": null,
            "grid_auto_columns": null,
            "grid_auto_flow": null,
            "grid_auto_rows": null,
            "grid_column": null,
            "grid_gap": null,
            "grid_row": null,
            "grid_template_areas": null,
            "grid_template_columns": null,
            "grid_template_rows": null,
            "height": null,
            "justify_content": null,
            "justify_items": null,
            "left": null,
            "margin": null,
            "max_height": null,
            "max_width": null,
            "min_height": null,
            "min_width": null,
            "object_fit": null,
            "object_position": null,
            "order": null,
            "overflow": null,
            "overflow_x": null,
            "overflow_y": null,
            "padding": null,
            "right": null,
            "top": null,
            "visibility": null,
            "width": null
          }
        },
        "a76785f320f948d18e2d94cbe8c23ee1": {
          "model_module": "@jupyter-widgets/controls",
          "model_name": "DescriptionStyleModel",
          "model_module_version": "1.5.0",
          "state": {
            "_model_module": "@jupyter-widgets/controls",
            "_model_module_version": "1.5.0",
            "_model_name": "DescriptionStyleModel",
            "_view_count": null,
            "_view_module": "@jupyter-widgets/base",
            "_view_module_version": "1.2.0",
            "_view_name": "StyleView",
            "description_width": ""
          }
        },
        "c6db57406e4a4a409526a07fc4cebff4": {
          "model_module": "@jupyter-widgets/base",
          "model_name": "LayoutModel",
          "model_module_version": "1.2.0",
          "state": {
            "_model_module": "@jupyter-widgets/base",
            "_model_module_version": "1.2.0",
            "_model_name": "LayoutModel",
            "_view_count": null,
            "_view_module": "@jupyter-widgets/base",
            "_view_module_version": "1.2.0",
            "_view_name": "LayoutView",
            "align_content": null,
            "align_items": null,
            "align_self": null,
            "border": null,
            "bottom": null,
            "display": null,
            "flex": null,
            "flex_flow": null,
            "grid_area": null,
            "grid_auto_columns": null,
            "grid_auto_flow": null,
            "grid_auto_rows": null,
            "grid_column": null,
            "grid_gap": null,
            "grid_row": null,
            "grid_template_areas": null,
            "grid_template_columns": null,
            "grid_template_rows": null,
            "height": null,
            "justify_content": null,
            "justify_items": null,
            "left": null,
            "margin": null,
            "max_height": null,
            "max_width": null,
            "min_height": null,
            "min_width": null,
            "object_fit": null,
            "object_position": null,
            "order": null,
            "overflow": null,
            "overflow_x": null,
            "overflow_y": null,
            "padding": null,
            "right": null,
            "top": null,
            "visibility": null,
            "width": null
          }
        },
        "e0dc861f3d8846e39f966e0d68927eab": {
          "model_module": "@jupyter-widgets/controls",
          "model_name": "ProgressStyleModel",
          "model_module_version": "1.5.0",
          "state": {
            "_model_module": "@jupyter-widgets/controls",
            "_model_module_version": "1.5.0",
            "_model_name": "ProgressStyleModel",
            "_view_count": null,
            "_view_module": "@jupyter-widgets/base",
            "_view_module_version": "1.2.0",
            "_view_name": "StyleView",
            "bar_color": null,
            "description_width": ""
          }
        },
        "a0cc467cd1a94f1ea5b4bb4254e7daee": {
          "model_module": "@jupyter-widgets/base",
          "model_name": "LayoutModel",
          "model_module_version": "1.2.0",
          "state": {
            "_model_module": "@jupyter-widgets/base",
            "_model_module_version": "1.2.0",
            "_model_name": "LayoutModel",
            "_view_count": null,
            "_view_module": "@jupyter-widgets/base",
            "_view_module_version": "1.2.0",
            "_view_name": "LayoutView",
            "align_content": null,
            "align_items": null,
            "align_self": null,
            "border": null,
            "bottom": null,
            "display": null,
            "flex": null,
            "flex_flow": null,
            "grid_area": null,
            "grid_auto_columns": null,
            "grid_auto_flow": null,
            "grid_auto_rows": null,
            "grid_column": null,
            "grid_gap": null,
            "grid_row": null,
            "grid_template_areas": null,
            "grid_template_columns": null,
            "grid_template_rows": null,
            "height": null,
            "justify_content": null,
            "justify_items": null,
            "left": null,
            "margin": null,
            "max_height": null,
            "max_width": null,
            "min_height": null,
            "min_width": null,
            "object_fit": null,
            "object_position": null,
            "order": null,
            "overflow": null,
            "overflow_x": null,
            "overflow_y": null,
            "padding": null,
            "right": null,
            "top": null,
            "visibility": null,
            "width": null
          }
        },
        "7d2fe9333307412789d886a05a772bec": {
          "model_module": "@jupyter-widgets/controls",
          "model_name": "DescriptionStyleModel",
          "model_module_version": "1.5.0",
          "state": {
            "_model_module": "@jupyter-widgets/controls",
            "_model_module_version": "1.5.0",
            "_model_name": "DescriptionStyleModel",
            "_view_count": null,
            "_view_module": "@jupyter-widgets/base",
            "_view_module_version": "1.2.0",
            "_view_name": "StyleView",
            "description_width": ""
          }
        },
        "50209fcd91374928a63de1e412b61ecc": {
          "model_module": "@jupyter-widgets/controls",
          "model_name": "HBoxModel",
          "model_module_version": "1.5.0",
          "state": {
            "_dom_classes": [],
            "_model_module": "@jupyter-widgets/controls",
            "_model_module_version": "1.5.0",
            "_model_name": "HBoxModel",
            "_view_count": null,
            "_view_module": "@jupyter-widgets/controls",
            "_view_module_version": "1.5.0",
            "_view_name": "HBoxView",
            "box_style": "",
            "children": [
              "IPY_MODEL_5b1096e1331d4ad583d15f3e27d6be64",
              "IPY_MODEL_5eb8f9c536c64f73a69ca55f1798e08d",
              "IPY_MODEL_187b9186fb154c3b9a85203127d99182"
            ],
            "layout": "IPY_MODEL_cdbaa37540cc4113aafd04b6ef173759"
          }
        },
        "5b1096e1331d4ad583d15f3e27d6be64": {
          "model_module": "@jupyter-widgets/controls",
          "model_name": "HTMLModel",
          "model_module_version": "1.5.0",
          "state": {
            "_dom_classes": [],
            "_model_module": "@jupyter-widgets/controls",
            "_model_module_version": "1.5.0",
            "_model_name": "HTMLModel",
            "_view_count": null,
            "_view_module": "@jupyter-widgets/controls",
            "_view_module_version": "1.5.0",
            "_view_name": "HTMLView",
            "description": "",
            "description_tooltip": null,
            "layout": "IPY_MODEL_36ecd326479b4900a9308ffa1b57873b",
            "placeholder": "​",
            "style": "IPY_MODEL_4960cad7489940da9a7fd598e15b0333",
            "value": "tokenizer.json: 100%"
          }
        },
        "5eb8f9c536c64f73a69ca55f1798e08d": {
          "model_module": "@jupyter-widgets/controls",
          "model_name": "FloatProgressModel",
          "model_module_version": "1.5.0",
          "state": {
            "_dom_classes": [],
            "_model_module": "@jupyter-widgets/controls",
            "_model_module_version": "1.5.0",
            "_model_name": "FloatProgressModel",
            "_view_count": null,
            "_view_module": "@jupyter-widgets/controls",
            "_view_module_version": "1.5.0",
            "_view_name": "ProgressView",
            "bar_style": "success",
            "description": "",
            "description_tooltip": null,
            "layout": "IPY_MODEL_bc58ac0cb9a14490b472ff4833f33915",
            "max": 17331176,
            "min": 0,
            "orientation": "horizontal",
            "style": "IPY_MODEL_ca52e9245aae4f67a277b35934f18718",
            "value": 17331176
          }
        },
        "187b9186fb154c3b9a85203127d99182": {
          "model_module": "@jupyter-widgets/controls",
          "model_name": "HTMLModel",
          "model_module_version": "1.5.0",
          "state": {
            "_dom_classes": [],
            "_model_module": "@jupyter-widgets/controls",
            "_model_module_version": "1.5.0",
            "_model_name": "HTMLModel",
            "_view_count": null,
            "_view_module": "@jupyter-widgets/controls",
            "_view_module_version": "1.5.0",
            "_view_name": "HTMLView",
            "description": "",
            "description_tooltip": null,
            "layout": "IPY_MODEL_6af5c183493a490e888e6ce95603703c",
            "placeholder": "​",
            "style": "IPY_MODEL_0237f8c1ec2d4df78e56ab64842b345f",
            "value": " 17.3M/17.3M [00:00&lt;00:00, 27.7MB/s]"
          }
        },
        "cdbaa37540cc4113aafd04b6ef173759": {
          "model_module": "@jupyter-widgets/base",
          "model_name": "LayoutModel",
          "model_module_version": "1.2.0",
          "state": {
            "_model_module": "@jupyter-widgets/base",
            "_model_module_version": "1.2.0",
            "_model_name": "LayoutModel",
            "_view_count": null,
            "_view_module": "@jupyter-widgets/base",
            "_view_module_version": "1.2.0",
            "_view_name": "LayoutView",
            "align_content": null,
            "align_items": null,
            "align_self": null,
            "border": null,
            "bottom": null,
            "display": null,
            "flex": null,
            "flex_flow": null,
            "grid_area": null,
            "grid_auto_columns": null,
            "grid_auto_flow": null,
            "grid_auto_rows": null,
            "grid_column": null,
            "grid_gap": null,
            "grid_row": null,
            "grid_template_areas": null,
            "grid_template_columns": null,
            "grid_template_rows": null,
            "height": null,
            "justify_content": null,
            "justify_items": null,
            "left": null,
            "margin": null,
            "max_height": null,
            "max_width": null,
            "min_height": null,
            "min_width": null,
            "object_fit": null,
            "object_position": null,
            "order": null,
            "overflow": null,
            "overflow_x": null,
            "overflow_y": null,
            "padding": null,
            "right": null,
            "top": null,
            "visibility": null,
            "width": null
          }
        },
        "36ecd326479b4900a9308ffa1b57873b": {
          "model_module": "@jupyter-widgets/base",
          "model_name": "LayoutModel",
          "model_module_version": "1.2.0",
          "state": {
            "_model_module": "@jupyter-widgets/base",
            "_model_module_version": "1.2.0",
            "_model_name": "LayoutModel",
            "_view_count": null,
            "_view_module": "@jupyter-widgets/base",
            "_view_module_version": "1.2.0",
            "_view_name": "LayoutView",
            "align_content": null,
            "align_items": null,
            "align_self": null,
            "border": null,
            "bottom": null,
            "display": null,
            "flex": null,
            "flex_flow": null,
            "grid_area": null,
            "grid_auto_columns": null,
            "grid_auto_flow": null,
            "grid_auto_rows": null,
            "grid_column": null,
            "grid_gap": null,
            "grid_row": null,
            "grid_template_areas": null,
            "grid_template_columns": null,
            "grid_template_rows": null,
            "height": null,
            "justify_content": null,
            "justify_items": null,
            "left": null,
            "margin": null,
            "max_height": null,
            "max_width": null,
            "min_height": null,
            "min_width": null,
            "object_fit": null,
            "object_position": null,
            "order": null,
            "overflow": null,
            "overflow_x": null,
            "overflow_y": null,
            "padding": null,
            "right": null,
            "top": null,
            "visibility": null,
            "width": null
          }
        },
        "4960cad7489940da9a7fd598e15b0333": {
          "model_module": "@jupyter-widgets/controls",
          "model_name": "DescriptionStyleModel",
          "model_module_version": "1.5.0",
          "state": {
            "_model_module": "@jupyter-widgets/controls",
            "_model_module_version": "1.5.0",
            "_model_name": "DescriptionStyleModel",
            "_view_count": null,
            "_view_module": "@jupyter-widgets/base",
            "_view_module_version": "1.2.0",
            "_view_name": "StyleView",
            "description_width": ""
          }
        },
        "bc58ac0cb9a14490b472ff4833f33915": {
          "model_module": "@jupyter-widgets/base",
          "model_name": "LayoutModel",
          "model_module_version": "1.2.0",
          "state": {
            "_model_module": "@jupyter-widgets/base",
            "_model_module_version": "1.2.0",
            "_model_name": "LayoutModel",
            "_view_count": null,
            "_view_module": "@jupyter-widgets/base",
            "_view_module_version": "1.2.0",
            "_view_name": "LayoutView",
            "align_content": null,
            "align_items": null,
            "align_self": null,
            "border": null,
            "bottom": null,
            "display": null,
            "flex": null,
            "flex_flow": null,
            "grid_area": null,
            "grid_auto_columns": null,
            "grid_auto_flow": null,
            "grid_auto_rows": null,
            "grid_column": null,
            "grid_gap": null,
            "grid_row": null,
            "grid_template_areas": null,
            "grid_template_columns": null,
            "grid_template_rows": null,
            "height": null,
            "justify_content": null,
            "justify_items": null,
            "left": null,
            "margin": null,
            "max_height": null,
            "max_width": null,
            "min_height": null,
            "min_width": null,
            "object_fit": null,
            "object_position": null,
            "order": null,
            "overflow": null,
            "overflow_x": null,
            "overflow_y": null,
            "padding": null,
            "right": null,
            "top": null,
            "visibility": null,
            "width": null
          }
        },
        "ca52e9245aae4f67a277b35934f18718": {
          "model_module": "@jupyter-widgets/controls",
          "model_name": "ProgressStyleModel",
          "model_module_version": "1.5.0",
          "state": {
            "_model_module": "@jupyter-widgets/controls",
            "_model_module_version": "1.5.0",
            "_model_name": "ProgressStyleModel",
            "_view_count": null,
            "_view_module": "@jupyter-widgets/base",
            "_view_module_version": "1.2.0",
            "_view_name": "StyleView",
            "bar_color": null,
            "description_width": ""
          }
        },
        "6af5c183493a490e888e6ce95603703c": {
          "model_module": "@jupyter-widgets/base",
          "model_name": "LayoutModel",
          "model_module_version": "1.2.0",
          "state": {
            "_model_module": "@jupyter-widgets/base",
            "_model_module_version": "1.2.0",
            "_model_name": "LayoutModel",
            "_view_count": null,
            "_view_module": "@jupyter-widgets/base",
            "_view_module_version": "1.2.0",
            "_view_name": "LayoutView",
            "align_content": null,
            "align_items": null,
            "align_self": null,
            "border": null,
            "bottom": null,
            "display": null,
            "flex": null,
            "flex_flow": null,
            "grid_area": null,
            "grid_auto_columns": null,
            "grid_auto_flow": null,
            "grid_auto_rows": null,
            "grid_column": null,
            "grid_gap": null,
            "grid_row": null,
            "grid_template_areas": null,
            "grid_template_columns": null,
            "grid_template_rows": null,
            "height": null,
            "justify_content": null,
            "justify_items": null,
            "left": null,
            "margin": null,
            "max_height": null,
            "max_width": null,
            "min_height": null,
            "min_width": null,
            "object_fit": null,
            "object_position": null,
            "order": null,
            "overflow": null,
            "overflow_x": null,
            "overflow_y": null,
            "padding": null,
            "right": null,
            "top": null,
            "visibility": null,
            "width": null
          }
        },
        "0237f8c1ec2d4df78e56ab64842b345f": {
          "model_module": "@jupyter-widgets/controls",
          "model_name": "DescriptionStyleModel",
          "model_module_version": "1.5.0",
          "state": {
            "_model_module": "@jupyter-widgets/controls",
            "_model_module_version": "1.5.0",
            "_model_name": "DescriptionStyleModel",
            "_view_count": null,
            "_view_module": "@jupyter-widgets/base",
            "_view_module_version": "1.2.0",
            "_view_name": "StyleView",
            "description_width": ""
          }
        },
        "092008a1f4e64657a687661d71c048fe": {
          "model_module": "@jupyter-widgets/controls",
          "model_name": "HBoxModel",
          "model_module_version": "1.5.0",
          "state": {
            "_dom_classes": [],
            "_model_module": "@jupyter-widgets/controls",
            "_model_module_version": "1.5.0",
            "_model_name": "HBoxModel",
            "_view_count": null,
            "_view_module": "@jupyter-widgets/controls",
            "_view_module_version": "1.5.0",
            "_view_name": "HBoxView",
            "box_style": "",
            "children": [
              "IPY_MODEL_073bc32684a94f48a2883f0fb88fce77",
              "IPY_MODEL_58d93dd234374bdcae3fc7b250a736ad",
              "IPY_MODEL_5f131b88b07940ec96eb8a94b8bff3c5"
            ],
            "layout": "IPY_MODEL_d043bbd5bff440cc8c83937fa1eff130"
          }
        },
        "073bc32684a94f48a2883f0fb88fce77": {
          "model_module": "@jupyter-widgets/controls",
          "model_name": "HTMLModel",
          "model_module_version": "1.5.0",
          "state": {
            "_dom_classes": [],
            "_model_module": "@jupyter-widgets/controls",
            "_model_module_version": "1.5.0",
            "_model_name": "HTMLModel",
            "_view_count": null,
            "_view_module": "@jupyter-widgets/controls",
            "_view_module_version": "1.5.0",
            "_view_name": "HTMLView",
            "description": "",
            "description_tooltip": null,
            "layout": "IPY_MODEL_8f751c2c00214500b4110e95d1e053be",
            "placeholder": "​",
            "style": "IPY_MODEL_da6e9a55851f4a8a9a2fb691f497e001",
            "value": "special_tokens_map.json: "
          }
        },
        "58d93dd234374bdcae3fc7b250a736ad": {
          "model_module": "@jupyter-widgets/controls",
          "model_name": "FloatProgressModel",
          "model_module_version": "1.5.0",
          "state": {
            "_dom_classes": [],
            "_model_module": "@jupyter-widgets/controls",
            "_model_module_version": "1.5.0",
            "_model_name": "FloatProgressModel",
            "_view_count": null,
            "_view_module": "@jupyter-widgets/controls",
            "_view_module_version": "1.5.0",
            "_view_name": "ProgressView",
            "bar_style": "success",
            "description": "",
            "description_tooltip": null,
            "layout": "IPY_MODEL_f0d3dddfbc9c400cb59a652db4a8e03d",
            "max": 1,
            "min": 0,
            "orientation": "horizontal",
            "style": "IPY_MODEL_22302c7a295c41088294bcb4bbac421f",
            "value": 1
          }
        },
        "5f131b88b07940ec96eb8a94b8bff3c5": {
          "model_module": "@jupyter-widgets/controls",
          "model_name": "HTMLModel",
          "model_module_version": "1.5.0",
          "state": {
            "_dom_classes": [],
            "_model_module": "@jupyter-widgets/controls",
            "_model_module_version": "1.5.0",
            "_model_name": "HTMLModel",
            "_view_count": null,
            "_view_module": "@jupyter-widgets/controls",
            "_view_module_version": "1.5.0",
            "_view_name": "HTMLView",
            "description": "",
            "description_tooltip": null,
            "layout": "IPY_MODEL_22eada79daf545318d105fc6485f7b29",
            "placeholder": "​",
            "style": "IPY_MODEL_46870abbf0724a7288f200caf3b1ce16",
            "value": " 3.55k/? [00:00&lt;00:00, 139kB/s]"
          }
        },
        "d043bbd5bff440cc8c83937fa1eff130": {
          "model_module": "@jupyter-widgets/base",
          "model_name": "LayoutModel",
          "model_module_version": "1.2.0",
          "state": {
            "_model_module": "@jupyter-widgets/base",
            "_model_module_version": "1.2.0",
            "_model_name": "LayoutModel",
            "_view_count": null,
            "_view_module": "@jupyter-widgets/base",
            "_view_module_version": "1.2.0",
            "_view_name": "LayoutView",
            "align_content": null,
            "align_items": null,
            "align_self": null,
            "border": null,
            "bottom": null,
            "display": null,
            "flex": null,
            "flex_flow": null,
            "grid_area": null,
            "grid_auto_columns": null,
            "grid_auto_flow": null,
            "grid_auto_rows": null,
            "grid_column": null,
            "grid_gap": null,
            "grid_row": null,
            "grid_template_areas": null,
            "grid_template_columns": null,
            "grid_template_rows": null,
            "height": null,
            "justify_content": null,
            "justify_items": null,
            "left": null,
            "margin": null,
            "max_height": null,
            "max_width": null,
            "min_height": null,
            "min_width": null,
            "object_fit": null,
            "object_position": null,
            "order": null,
            "overflow": null,
            "overflow_x": null,
            "overflow_y": null,
            "padding": null,
            "right": null,
            "top": null,
            "visibility": null,
            "width": null
          }
        },
        "8f751c2c00214500b4110e95d1e053be": {
          "model_module": "@jupyter-widgets/base",
          "model_name": "LayoutModel",
          "model_module_version": "1.2.0",
          "state": {
            "_model_module": "@jupyter-widgets/base",
            "_model_module_version": "1.2.0",
            "_model_name": "LayoutModel",
            "_view_count": null,
            "_view_module": "@jupyter-widgets/base",
            "_view_module_version": "1.2.0",
            "_view_name": "LayoutView",
            "align_content": null,
            "align_items": null,
            "align_self": null,
            "border": null,
            "bottom": null,
            "display": null,
            "flex": null,
            "flex_flow": null,
            "grid_area": null,
            "grid_auto_columns": null,
            "grid_auto_flow": null,
            "grid_auto_rows": null,
            "grid_column": null,
            "grid_gap": null,
            "grid_row": null,
            "grid_template_areas": null,
            "grid_template_columns": null,
            "grid_template_rows": null,
            "height": null,
            "justify_content": null,
            "justify_items": null,
            "left": null,
            "margin": null,
            "max_height": null,
            "max_width": null,
            "min_height": null,
            "min_width": null,
            "object_fit": null,
            "object_position": null,
            "order": null,
            "overflow": null,
            "overflow_x": null,
            "overflow_y": null,
            "padding": null,
            "right": null,
            "top": null,
            "visibility": null,
            "width": null
          }
        },
        "da6e9a55851f4a8a9a2fb691f497e001": {
          "model_module": "@jupyter-widgets/controls",
          "model_name": "DescriptionStyleModel",
          "model_module_version": "1.5.0",
          "state": {
            "_model_module": "@jupyter-widgets/controls",
            "_model_module_version": "1.5.0",
            "_model_name": "DescriptionStyleModel",
            "_view_count": null,
            "_view_module": "@jupyter-widgets/base",
            "_view_module_version": "1.2.0",
            "_view_name": "StyleView",
            "description_width": ""
          }
        },
        "f0d3dddfbc9c400cb59a652db4a8e03d": {
          "model_module": "@jupyter-widgets/base",
          "model_name": "LayoutModel",
          "model_module_version": "1.2.0",
          "state": {
            "_model_module": "@jupyter-widgets/base",
            "_model_module_version": "1.2.0",
            "_model_name": "LayoutModel",
            "_view_count": null,
            "_view_module": "@jupyter-widgets/base",
            "_view_module_version": "1.2.0",
            "_view_name": "LayoutView",
            "align_content": null,
            "align_items": null,
            "align_self": null,
            "border": null,
            "bottom": null,
            "display": null,
            "flex": null,
            "flex_flow": null,
            "grid_area": null,
            "grid_auto_columns": null,
            "grid_auto_flow": null,
            "grid_auto_rows": null,
            "grid_column": null,
            "grid_gap": null,
            "grid_row": null,
            "grid_template_areas": null,
            "grid_template_columns": null,
            "grid_template_rows": null,
            "height": null,
            "justify_content": null,
            "justify_items": null,
            "left": null,
            "margin": null,
            "max_height": null,
            "max_width": null,
            "min_height": null,
            "min_width": null,
            "object_fit": null,
            "object_position": null,
            "order": null,
            "overflow": null,
            "overflow_x": null,
            "overflow_y": null,
            "padding": null,
            "right": null,
            "top": null,
            "visibility": null,
            "width": "20px"
          }
        },
        "22302c7a295c41088294bcb4bbac421f": {
          "model_module": "@jupyter-widgets/controls",
          "model_name": "ProgressStyleModel",
          "model_module_version": "1.5.0",
          "state": {
            "_model_module": "@jupyter-widgets/controls",
            "_model_module_version": "1.5.0",
            "_model_name": "ProgressStyleModel",
            "_view_count": null,
            "_view_module": "@jupyter-widgets/base",
            "_view_module_version": "1.2.0",
            "_view_name": "StyleView",
            "bar_color": null,
            "description_width": ""
          }
        },
        "22eada79daf545318d105fc6485f7b29": {
          "model_module": "@jupyter-widgets/base",
          "model_name": "LayoutModel",
          "model_module_version": "1.2.0",
          "state": {
            "_model_module": "@jupyter-widgets/base",
            "_model_module_version": "1.2.0",
            "_model_name": "LayoutModel",
            "_view_count": null,
            "_view_module": "@jupyter-widgets/base",
            "_view_module_version": "1.2.0",
            "_view_name": "LayoutView",
            "align_content": null,
            "align_items": null,
            "align_self": null,
            "border": null,
            "bottom": null,
            "display": null,
            "flex": null,
            "flex_flow": null,
            "grid_area": null,
            "grid_auto_columns": null,
            "grid_auto_flow": null,
            "grid_auto_rows": null,
            "grid_column": null,
            "grid_gap": null,
            "grid_row": null,
            "grid_template_areas": null,
            "grid_template_columns": null,
            "grid_template_rows": null,
            "height": null,
            "justify_content": null,
            "justify_items": null,
            "left": null,
            "margin": null,
            "max_height": null,
            "max_width": null,
            "min_height": null,
            "min_width": null,
            "object_fit": null,
            "object_position": null,
            "order": null,
            "overflow": null,
            "overflow_x": null,
            "overflow_y": null,
            "padding": null,
            "right": null,
            "top": null,
            "visibility": null,
            "width": null
          }
        },
        "46870abbf0724a7288f200caf3b1ce16": {
          "model_module": "@jupyter-widgets/controls",
          "model_name": "DescriptionStyleModel",
          "model_module_version": "1.5.0",
          "state": {
            "_model_module": "@jupyter-widgets/controls",
            "_model_module_version": "1.5.0",
            "_model_name": "DescriptionStyleModel",
            "_view_count": null,
            "_view_module": "@jupyter-widgets/base",
            "_view_module_version": "1.2.0",
            "_view_name": "StyleView",
            "description_width": ""
          }
        },
        "c0f650df3156462ea343d2ef3bd6662d": {
          "model_module": "@jupyter-widgets/controls",
          "model_name": "HBoxModel",
          "model_module_version": "1.5.0",
          "state": {
            "_dom_classes": [],
            "_model_module": "@jupyter-widgets/controls",
            "_model_module_version": "1.5.0",
            "_model_name": "HBoxModel",
            "_view_count": null,
            "_view_module": "@jupyter-widgets/controls",
            "_view_module_version": "1.5.0",
            "_view_name": "HBoxView",
            "box_style": "",
            "children": [
              "IPY_MODEL_1cbd2a687fc74b74aaa554118724c548",
              "IPY_MODEL_9b99b80b75f547878358c7509c55e20c",
              "IPY_MODEL_b79328a9a7e44102bb679bbb2d0b5cf8"
            ],
            "layout": "IPY_MODEL_4067b2ae081f4cc39d9814308bbb6849"
          }
        },
        "1cbd2a687fc74b74aaa554118724c548": {
          "model_module": "@jupyter-widgets/controls",
          "model_name": "HTMLModel",
          "model_module_version": "1.5.0",
          "state": {
            "_dom_classes": [],
            "_model_module": "@jupyter-widgets/controls",
            "_model_module_version": "1.5.0",
            "_model_name": "HTMLModel",
            "_view_count": null,
            "_view_module": "@jupyter-widgets/controls",
            "_view_module_version": "1.5.0",
            "_view_name": "HTMLView",
            "description": "",
            "description_tooltip": null,
            "layout": "IPY_MODEL_abca600e13b34602864522cba7e32a7d",
            "placeholder": "​",
            "style": "IPY_MODEL_da2651191d3b4965b784e97bff8972db",
            "value": "config.json: 100%"
          }
        },
        "9b99b80b75f547878358c7509c55e20c": {
          "model_module": "@jupyter-widgets/controls",
          "model_name": "FloatProgressModel",
          "model_module_version": "1.5.0",
          "state": {
            "_dom_classes": [],
            "_model_module": "@jupyter-widgets/controls",
            "_model_module_version": "1.5.0",
            "_model_name": "FloatProgressModel",
            "_view_count": null,
            "_view_module": "@jupyter-widgets/controls",
            "_view_module_version": "1.5.0",
            "_view_name": "ProgressView",
            "bar_style": "success",
            "description": "",
            "description_tooltip": null,
            "layout": "IPY_MODEL_d4e45fdaf1d645238c22ed7e45b4edad",
            "max": 846,
            "min": 0,
            "orientation": "horizontal",
            "style": "IPY_MODEL_db67791c326c4c3ba21c1d8ad6ffc6dd",
            "value": 846
          }
        },
        "b79328a9a7e44102bb679bbb2d0b5cf8": {
          "model_module": "@jupyter-widgets/controls",
          "model_name": "HTMLModel",
          "model_module_version": "1.5.0",
          "state": {
            "_dom_classes": [],
            "_model_module": "@jupyter-widgets/controls",
            "_model_module_version": "1.5.0",
            "_model_name": "HTMLModel",
            "_view_count": null,
            "_view_module": "@jupyter-widgets/controls",
            "_view_module_version": "1.5.0",
            "_view_name": "HTMLView",
            "description": "",
            "description_tooltip": null,
            "layout": "IPY_MODEL_70b79b45d86f443d9b23395c2b68dc53",
            "placeholder": "​",
            "style": "IPY_MODEL_623cc736a8914510bebfd9b67697d89a",
            "value": " 846/846 [00:00&lt;00:00, 24.2kB/s]"
          }
        },
        "4067b2ae081f4cc39d9814308bbb6849": {
          "model_module": "@jupyter-widgets/base",
          "model_name": "LayoutModel",
          "model_module_version": "1.2.0",
          "state": {
            "_model_module": "@jupyter-widgets/base",
            "_model_module_version": "1.2.0",
            "_model_name": "LayoutModel",
            "_view_count": null,
            "_view_module": "@jupyter-widgets/base",
            "_view_module_version": "1.2.0",
            "_view_name": "LayoutView",
            "align_content": null,
            "align_items": null,
            "align_self": null,
            "border": null,
            "bottom": null,
            "display": null,
            "flex": null,
            "flex_flow": null,
            "grid_area": null,
            "grid_auto_columns": null,
            "grid_auto_flow": null,
            "grid_auto_rows": null,
            "grid_column": null,
            "grid_gap": null,
            "grid_row": null,
            "grid_template_areas": null,
            "grid_template_columns": null,
            "grid_template_rows": null,
            "height": null,
            "justify_content": null,
            "justify_items": null,
            "left": null,
            "margin": null,
            "max_height": null,
            "max_width": null,
            "min_height": null,
            "min_width": null,
            "object_fit": null,
            "object_position": null,
            "order": null,
            "overflow": null,
            "overflow_x": null,
            "overflow_y": null,
            "padding": null,
            "right": null,
            "top": null,
            "visibility": null,
            "width": null
          }
        },
        "abca600e13b34602864522cba7e32a7d": {
          "model_module": "@jupyter-widgets/base",
          "model_name": "LayoutModel",
          "model_module_version": "1.2.0",
          "state": {
            "_model_module": "@jupyter-widgets/base",
            "_model_module_version": "1.2.0",
            "_model_name": "LayoutModel",
            "_view_count": null,
            "_view_module": "@jupyter-widgets/base",
            "_view_module_version": "1.2.0",
            "_view_name": "LayoutView",
            "align_content": null,
            "align_items": null,
            "align_self": null,
            "border": null,
            "bottom": null,
            "display": null,
            "flex": null,
            "flex_flow": null,
            "grid_area": null,
            "grid_auto_columns": null,
            "grid_auto_flow": null,
            "grid_auto_rows": null,
            "grid_column": null,
            "grid_gap": null,
            "grid_row": null,
            "grid_template_areas": null,
            "grid_template_columns": null,
            "grid_template_rows": null,
            "height": null,
            "justify_content": null,
            "justify_items": null,
            "left": null,
            "margin": null,
            "max_height": null,
            "max_width": null,
            "min_height": null,
            "min_width": null,
            "object_fit": null,
            "object_position": null,
            "order": null,
            "overflow": null,
            "overflow_x": null,
            "overflow_y": null,
            "padding": null,
            "right": null,
            "top": null,
            "visibility": null,
            "width": null
          }
        },
        "da2651191d3b4965b784e97bff8972db": {
          "model_module": "@jupyter-widgets/controls",
          "model_name": "DescriptionStyleModel",
          "model_module_version": "1.5.0",
          "state": {
            "_model_module": "@jupyter-widgets/controls",
            "_model_module_version": "1.5.0",
            "_model_name": "DescriptionStyleModel",
            "_view_count": null,
            "_view_module": "@jupyter-widgets/base",
            "_view_module_version": "1.2.0",
            "_view_name": "StyleView",
            "description_width": ""
          }
        },
        "d4e45fdaf1d645238c22ed7e45b4edad": {
          "model_module": "@jupyter-widgets/base",
          "model_name": "LayoutModel",
          "model_module_version": "1.2.0",
          "state": {
            "_model_module": "@jupyter-widgets/base",
            "_model_module_version": "1.2.0",
            "_model_name": "LayoutModel",
            "_view_count": null,
            "_view_module": "@jupyter-widgets/base",
            "_view_module_version": "1.2.0",
            "_view_name": "LayoutView",
            "align_content": null,
            "align_items": null,
            "align_self": null,
            "border": null,
            "bottom": null,
            "display": null,
            "flex": null,
            "flex_flow": null,
            "grid_area": null,
            "grid_auto_columns": null,
            "grid_auto_flow": null,
            "grid_auto_rows": null,
            "grid_column": null,
            "grid_gap": null,
            "grid_row": null,
            "grid_template_areas": null,
            "grid_template_columns": null,
            "grid_template_rows": null,
            "height": null,
            "justify_content": null,
            "justify_items": null,
            "left": null,
            "margin": null,
            "max_height": null,
            "max_width": null,
            "min_height": null,
            "min_width": null,
            "object_fit": null,
            "object_position": null,
            "order": null,
            "overflow": null,
            "overflow_x": null,
            "overflow_y": null,
            "padding": null,
            "right": null,
            "top": null,
            "visibility": null,
            "width": null
          }
        },
        "db67791c326c4c3ba21c1d8ad6ffc6dd": {
          "model_module": "@jupyter-widgets/controls",
          "model_name": "ProgressStyleModel",
          "model_module_version": "1.5.0",
          "state": {
            "_model_module": "@jupyter-widgets/controls",
            "_model_module_version": "1.5.0",
            "_model_name": "ProgressStyleModel",
            "_view_count": null,
            "_view_module": "@jupyter-widgets/base",
            "_view_module_version": "1.2.0",
            "_view_name": "StyleView",
            "bar_color": null,
            "description_width": ""
          }
        },
        "70b79b45d86f443d9b23395c2b68dc53": {
          "model_module": "@jupyter-widgets/base",
          "model_name": "LayoutModel",
          "model_module_version": "1.2.0",
          "state": {
            "_model_module": "@jupyter-widgets/base",
            "_model_module_version": "1.2.0",
            "_model_name": "LayoutModel",
            "_view_count": null,
            "_view_module": "@jupyter-widgets/base",
            "_view_module_version": "1.2.0",
            "_view_name": "LayoutView",
            "align_content": null,
            "align_items": null,
            "align_self": null,
            "border": null,
            "bottom": null,
            "display": null,
            "flex": null,
            "flex_flow": null,
            "grid_area": null,
            "grid_auto_columns": null,
            "grid_auto_flow": null,
            "grid_auto_rows": null,
            "grid_column": null,
            "grid_gap": null,
            "grid_row": null,
            "grid_template_areas": null,
            "grid_template_columns": null,
            "grid_template_rows": null,
            "height": null,
            "justify_content": null,
            "justify_items": null,
            "left": null,
            "margin": null,
            "max_height": null,
            "max_width": null,
            "min_height": null,
            "min_width": null,
            "object_fit": null,
            "object_position": null,
            "order": null,
            "overflow": null,
            "overflow_x": null,
            "overflow_y": null,
            "padding": null,
            "right": null,
            "top": null,
            "visibility": null,
            "width": null
          }
        },
        "623cc736a8914510bebfd9b67697d89a": {
          "model_module": "@jupyter-widgets/controls",
          "model_name": "DescriptionStyleModel",
          "model_module_version": "1.5.0",
          "state": {
            "_model_module": "@jupyter-widgets/controls",
            "_model_module_version": "1.5.0",
            "_model_name": "DescriptionStyleModel",
            "_view_count": null,
            "_view_module": "@jupyter-widgets/base",
            "_view_module_version": "1.2.0",
            "_view_name": "StyleView",
            "description_width": ""
          }
        },
        "fd2a153bb26a43c9964f0c8fbf9c60ce": {
          "model_module": "@jupyter-widgets/controls",
          "model_name": "HBoxModel",
          "model_module_version": "1.5.0",
          "state": {
            "_dom_classes": [],
            "_model_module": "@jupyter-widgets/controls",
            "_model_module_version": "1.5.0",
            "_model_name": "HBoxModel",
            "_view_count": null,
            "_view_module": "@jupyter-widgets/controls",
            "_view_module_version": "1.5.0",
            "_view_name": "HBoxView",
            "box_style": "",
            "children": [
              "IPY_MODEL_803bd1f9cf654b9891f4144b6094cc82",
              "IPY_MODEL_23f57d76cbf046bfad80b092eea01554",
              "IPY_MODEL_535c75318e4a4eb1841b9c9905a43301"
            ],
            "layout": "IPY_MODEL_78d89a03b389441c9e9f8eb45ec8f847"
          }
        },
        "803bd1f9cf654b9891f4144b6094cc82": {
          "model_module": "@jupyter-widgets/controls",
          "model_name": "HTMLModel",
          "model_module_version": "1.5.0",
          "state": {
            "_dom_classes": [],
            "_model_module": "@jupyter-widgets/controls",
            "_model_module_version": "1.5.0",
            "_model_name": "HTMLModel",
            "_view_count": null,
            "_view_module": "@jupyter-widgets/controls",
            "_view_module_version": "1.5.0",
            "_view_name": "HTMLView",
            "description": "",
            "description_tooltip": null,
            "layout": "IPY_MODEL_209ab1b96946488b993b09dcf0475244",
            "placeholder": "​",
            "style": "IPY_MODEL_5d9d09d14cfd4233a84245cdeeb708c1",
            "value": "pytorch_model.bin: 100%"
          }
        },
        "23f57d76cbf046bfad80b092eea01554": {
          "model_module": "@jupyter-widgets/controls",
          "model_name": "FloatProgressModel",
          "model_module_version": "1.5.0",
          "state": {
            "_dom_classes": [],
            "_model_module": "@jupyter-widgets/controls",
            "_model_module_version": "1.5.0",
            "_model_name": "FloatProgressModel",
            "_view_count": null,
            "_view_module": "@jupyter-widgets/controls",
            "_view_module_version": "1.5.0",
            "_view_name": "ProgressView",
            "bar_style": "success",
            "description": "",
            "description_tooltip": null,
            "layout": "IPY_MODEL_dca914a4649940a0a42ee202f30be5cf",
            "max": 2460457927,
            "min": 0,
            "orientation": "horizontal",
            "style": "IPY_MODEL_075b06f3bafd47d9b40a5e59f6b86996",
            "value": 2460457927
          }
        },
        "535c75318e4a4eb1841b9c9905a43301": {
          "model_module": "@jupyter-widgets/controls",
          "model_name": "HTMLModel",
          "model_module_version": "1.5.0",
          "state": {
            "_dom_classes": [],
            "_model_module": "@jupyter-widgets/controls",
            "_model_module_version": "1.5.0",
            "_model_name": "HTMLModel",
            "_view_count": null,
            "_view_module": "@jupyter-widgets/controls",
            "_view_module_version": "1.5.0",
            "_view_name": "HTMLView",
            "description": "",
            "description_tooltip": null,
            "layout": "IPY_MODEL_395f6f329fc3401ebd2dd5d09ab9201b",
            "placeholder": "​",
            "style": "IPY_MODEL_18711c7ceb514d1c9cb30cfe0fe5b020",
            "value": " 2.46G/2.46G [00:59&lt;00:00, 133MB/s]"
          }
        },
        "78d89a03b389441c9e9f8eb45ec8f847": {
          "model_module": "@jupyter-widgets/base",
          "model_name": "LayoutModel",
          "model_module_version": "1.2.0",
          "state": {
            "_model_module": "@jupyter-widgets/base",
            "_model_module_version": "1.2.0",
            "_model_name": "LayoutModel",
            "_view_count": null,
            "_view_module": "@jupyter-widgets/base",
            "_view_module_version": "1.2.0",
            "_view_name": "LayoutView",
            "align_content": null,
            "align_items": null,
            "align_self": null,
            "border": null,
            "bottom": null,
            "display": null,
            "flex": null,
            "flex_flow": null,
            "grid_area": null,
            "grid_auto_columns": null,
            "grid_auto_flow": null,
            "grid_auto_rows": null,
            "grid_column": null,
            "grid_gap": null,
            "grid_row": null,
            "grid_template_areas": null,
            "grid_template_columns": null,
            "grid_template_rows": null,
            "height": null,
            "justify_content": null,
            "justify_items": null,
            "left": null,
            "margin": null,
            "max_height": null,
            "max_width": null,
            "min_height": null,
            "min_width": null,
            "object_fit": null,
            "object_position": null,
            "order": null,
            "overflow": null,
            "overflow_x": null,
            "overflow_y": null,
            "padding": null,
            "right": null,
            "top": null,
            "visibility": null,
            "width": null
          }
        },
        "209ab1b96946488b993b09dcf0475244": {
          "model_module": "@jupyter-widgets/base",
          "model_name": "LayoutModel",
          "model_module_version": "1.2.0",
          "state": {
            "_model_module": "@jupyter-widgets/base",
            "_model_module_version": "1.2.0",
            "_model_name": "LayoutModel",
            "_view_count": null,
            "_view_module": "@jupyter-widgets/base",
            "_view_module_version": "1.2.0",
            "_view_name": "LayoutView",
            "align_content": null,
            "align_items": null,
            "align_self": null,
            "border": null,
            "bottom": null,
            "display": null,
            "flex": null,
            "flex_flow": null,
            "grid_area": null,
            "grid_auto_columns": null,
            "grid_auto_flow": null,
            "grid_auto_rows": null,
            "grid_column": null,
            "grid_gap": null,
            "grid_row": null,
            "grid_template_areas": null,
            "grid_template_columns": null,
            "grid_template_rows": null,
            "height": null,
            "justify_content": null,
            "justify_items": null,
            "left": null,
            "margin": null,
            "max_height": null,
            "max_width": null,
            "min_height": null,
            "min_width": null,
            "object_fit": null,
            "object_position": null,
            "order": null,
            "overflow": null,
            "overflow_x": null,
            "overflow_y": null,
            "padding": null,
            "right": null,
            "top": null,
            "visibility": null,
            "width": null
          }
        },
        "5d9d09d14cfd4233a84245cdeeb708c1": {
          "model_module": "@jupyter-widgets/controls",
          "model_name": "DescriptionStyleModel",
          "model_module_version": "1.5.0",
          "state": {
            "_model_module": "@jupyter-widgets/controls",
            "_model_module_version": "1.5.0",
            "_model_name": "DescriptionStyleModel",
            "_view_count": null,
            "_view_module": "@jupyter-widgets/base",
            "_view_module_version": "1.2.0",
            "_view_name": "StyleView",
            "description_width": ""
          }
        },
        "dca914a4649940a0a42ee202f30be5cf": {
          "model_module": "@jupyter-widgets/base",
          "model_name": "LayoutModel",
          "model_module_version": "1.2.0",
          "state": {
            "_model_module": "@jupyter-widgets/base",
            "_model_module_version": "1.2.0",
            "_model_name": "LayoutModel",
            "_view_count": null,
            "_view_module": "@jupyter-widgets/base",
            "_view_module_version": "1.2.0",
            "_view_name": "LayoutView",
            "align_content": null,
            "align_items": null,
            "align_self": null,
            "border": null,
            "bottom": null,
            "display": null,
            "flex": null,
            "flex_flow": null,
            "grid_area": null,
            "grid_auto_columns": null,
            "grid_auto_flow": null,
            "grid_auto_rows": null,
            "grid_column": null,
            "grid_gap": null,
            "grid_row": null,
            "grid_template_areas": null,
            "grid_template_columns": null,
            "grid_template_rows": null,
            "height": null,
            "justify_content": null,
            "justify_items": null,
            "left": null,
            "margin": null,
            "max_height": null,
            "max_width": null,
            "min_height": null,
            "min_width": null,
            "object_fit": null,
            "object_position": null,
            "order": null,
            "overflow": null,
            "overflow_x": null,
            "overflow_y": null,
            "padding": null,
            "right": null,
            "top": null,
            "visibility": null,
            "width": null
          }
        },
        "075b06f3bafd47d9b40a5e59f6b86996": {
          "model_module": "@jupyter-widgets/controls",
          "model_name": "ProgressStyleModel",
          "model_module_version": "1.5.0",
          "state": {
            "_model_module": "@jupyter-widgets/controls",
            "_model_module_version": "1.5.0",
            "_model_name": "ProgressStyleModel",
            "_view_count": null,
            "_view_module": "@jupyter-widgets/base",
            "_view_module_version": "1.2.0",
            "_view_name": "StyleView",
            "bar_color": null,
            "description_width": ""
          }
        },
        "395f6f329fc3401ebd2dd5d09ab9201b": {
          "model_module": "@jupyter-widgets/base",
          "model_name": "LayoutModel",
          "model_module_version": "1.2.0",
          "state": {
            "_model_module": "@jupyter-widgets/base",
            "_model_module_version": "1.2.0",
            "_model_name": "LayoutModel",
            "_view_count": null,
            "_view_module": "@jupyter-widgets/base",
            "_view_module_version": "1.2.0",
            "_view_name": "LayoutView",
            "align_content": null,
            "align_items": null,
            "align_self": null,
            "border": null,
            "bottom": null,
            "display": null,
            "flex": null,
            "flex_flow": null,
            "grid_area": null,
            "grid_auto_columns": null,
            "grid_auto_flow": null,
            "grid_auto_rows": null,
            "grid_column": null,
            "grid_gap": null,
            "grid_row": null,
            "grid_template_areas": null,
            "grid_template_columns": null,
            "grid_template_rows": null,
            "height": null,
            "justify_content": null,
            "justify_items": null,
            "left": null,
            "margin": null,
            "max_height": null,
            "max_width": null,
            "min_height": null,
            "min_width": null,
            "object_fit": null,
            "object_position": null,
            "order": null,
            "overflow": null,
            "overflow_x": null,
            "overflow_y": null,
            "padding": null,
            "right": null,
            "top": null,
            "visibility": null,
            "width": null
          }
        },
        "18711c7ceb514d1c9cb30cfe0fe5b020": {
          "model_module": "@jupyter-widgets/controls",
          "model_name": "DescriptionStyleModel",
          "model_module_version": "1.5.0",
          "state": {
            "_model_module": "@jupyter-widgets/controls",
            "_model_module_version": "1.5.0",
            "_model_name": "DescriptionStyleModel",
            "_view_count": null,
            "_view_module": "@jupyter-widgets/base",
            "_view_module_version": "1.2.0",
            "_view_name": "StyleView",
            "description_width": ""
          }
        },
        "6c0f9efc3fbb4cb08ba24f3a955af2cd": {
          "model_module": "@jupyter-widgets/controls",
          "model_name": "HBoxModel",
          "model_module_version": "1.5.0",
          "state": {
            "_dom_classes": [],
            "_model_module": "@jupyter-widgets/controls",
            "_model_module_version": "1.5.0",
            "_model_name": "HBoxModel",
            "_view_count": null,
            "_view_module": "@jupyter-widgets/controls",
            "_view_module_version": "1.5.0",
            "_view_name": "HBoxView",
            "box_style": "",
            "children": [
              "IPY_MODEL_a5c48f7e88684629a931c51615f638b6",
              "IPY_MODEL_8924963aa7574ca0b0b2951d73e17e45",
              "IPY_MODEL_8770c01e94f44aeb823c19aa3eef4fac"
            ],
            "layout": "IPY_MODEL_4e5c4ff9c88844fa9ac318057e558f22"
          }
        },
        "a5c48f7e88684629a931c51615f638b6": {
          "model_module": "@jupyter-widgets/controls",
          "model_name": "HTMLModel",
          "model_module_version": "1.5.0",
          "state": {
            "_dom_classes": [],
            "_model_module": "@jupyter-widgets/controls",
            "_model_module_version": "1.5.0",
            "_model_name": "HTMLModel",
            "_view_count": null,
            "_view_module": "@jupyter-widgets/controls",
            "_view_module_version": "1.5.0",
            "_view_name": "HTMLView",
            "description": "",
            "description_tooltip": null,
            "layout": "IPY_MODEL_df93f935dbee47029f72751c310616b5",
            "placeholder": "​",
            "style": "IPY_MODEL_a392be92829c4f4f83ff07265b4e214a",
            "value": "model.safetensors: 100%"
          }
        },
        "8924963aa7574ca0b0b2951d73e17e45": {
          "model_module": "@jupyter-widgets/controls",
          "model_name": "FloatProgressModel",
          "model_module_version": "1.5.0",
          "state": {
            "_dom_classes": [],
            "_model_module": "@jupyter-widgets/controls",
            "_model_module_version": "1.5.0",
            "_model_name": "FloatProgressModel",
            "_view_count": null,
            "_view_module": "@jupyter-widgets/controls",
            "_view_module_version": "1.5.0",
            "_view_name": "ProgressView",
            "bar_style": "success",
            "description": "",
            "description_tooltip": null,
            "layout": "IPY_MODEL_02c53f2759a24caf810bd28d7bc85383",
            "max": 2460355968,
            "min": 0,
            "orientation": "horizontal",
            "style": "IPY_MODEL_f666a918f1fc42f0b2cc28118d10f683",
            "value": 2460355968
          }
        },
        "8770c01e94f44aeb823c19aa3eef4fac": {
          "model_module": "@jupyter-widgets/controls",
          "model_name": "HTMLModel",
          "model_module_version": "1.5.0",
          "state": {
            "_dom_classes": [],
            "_model_module": "@jupyter-widgets/controls",
            "_model_module_version": "1.5.0",
            "_model_name": "HTMLModel",
            "_view_count": null,
            "_view_module": "@jupyter-widgets/controls",
            "_view_module_version": "1.5.0",
            "_view_name": "HTMLView",
            "description": "",
            "description_tooltip": null,
            "layout": "IPY_MODEL_183af5873c814bfd9e972da49319ea4d",
            "placeholder": "​",
            "style": "IPY_MODEL_c217ff796fe9446fbbbfb89a952275be",
            "value": " 2.46G/2.46G [01:16&lt;00:00, 105MB/s]"
          }
        },
        "4e5c4ff9c88844fa9ac318057e558f22": {
          "model_module": "@jupyter-widgets/base",
          "model_name": "LayoutModel",
          "model_module_version": "1.2.0",
          "state": {
            "_model_module": "@jupyter-widgets/base",
            "_model_module_version": "1.2.0",
            "_model_name": "LayoutModel",
            "_view_count": null,
            "_view_module": "@jupyter-widgets/base",
            "_view_module_version": "1.2.0",
            "_view_name": "LayoutView",
            "align_content": null,
            "align_items": null,
            "align_self": null,
            "border": null,
            "bottom": null,
            "display": null,
            "flex": null,
            "flex_flow": null,
            "grid_area": null,
            "grid_auto_columns": null,
            "grid_auto_flow": null,
            "grid_auto_rows": null,
            "grid_column": null,
            "grid_gap": null,
            "grid_row": null,
            "grid_template_areas": null,
            "grid_template_columns": null,
            "grid_template_rows": null,
            "height": null,
            "justify_content": null,
            "justify_items": null,
            "left": null,
            "margin": null,
            "max_height": null,
            "max_width": null,
            "min_height": null,
            "min_width": null,
            "object_fit": null,
            "object_position": null,
            "order": null,
            "overflow": null,
            "overflow_x": null,
            "overflow_y": null,
            "padding": null,
            "right": null,
            "top": null,
            "visibility": null,
            "width": null
          }
        },
        "df93f935dbee47029f72751c310616b5": {
          "model_module": "@jupyter-widgets/base",
          "model_name": "LayoutModel",
          "model_module_version": "1.2.0",
          "state": {
            "_model_module": "@jupyter-widgets/base",
            "_model_module_version": "1.2.0",
            "_model_name": "LayoutModel",
            "_view_count": null,
            "_view_module": "@jupyter-widgets/base",
            "_view_module_version": "1.2.0",
            "_view_name": "LayoutView",
            "align_content": null,
            "align_items": null,
            "align_self": null,
            "border": null,
            "bottom": null,
            "display": null,
            "flex": null,
            "flex_flow": null,
            "grid_area": null,
            "grid_auto_columns": null,
            "grid_auto_flow": null,
            "grid_auto_rows": null,
            "grid_column": null,
            "grid_gap": null,
            "grid_row": null,
            "grid_template_areas": null,
            "grid_template_columns": null,
            "grid_template_rows": null,
            "height": null,
            "justify_content": null,
            "justify_items": null,
            "left": null,
            "margin": null,
            "max_height": null,
            "max_width": null,
            "min_height": null,
            "min_width": null,
            "object_fit": null,
            "object_position": null,
            "order": null,
            "overflow": null,
            "overflow_x": null,
            "overflow_y": null,
            "padding": null,
            "right": null,
            "top": null,
            "visibility": null,
            "width": null
          }
        },
        "a392be92829c4f4f83ff07265b4e214a": {
          "model_module": "@jupyter-widgets/controls",
          "model_name": "DescriptionStyleModel",
          "model_module_version": "1.5.0",
          "state": {
            "_model_module": "@jupyter-widgets/controls",
            "_model_module_version": "1.5.0",
            "_model_name": "DescriptionStyleModel",
            "_view_count": null,
            "_view_module": "@jupyter-widgets/base",
            "_view_module_version": "1.2.0",
            "_view_name": "StyleView",
            "description_width": ""
          }
        },
        "02c53f2759a24caf810bd28d7bc85383": {
          "model_module": "@jupyter-widgets/base",
          "model_name": "LayoutModel",
          "model_module_version": "1.2.0",
          "state": {
            "_model_module": "@jupyter-widgets/base",
            "_model_module_version": "1.2.0",
            "_model_name": "LayoutModel",
            "_view_count": null,
            "_view_module": "@jupyter-widgets/base",
            "_view_module_version": "1.2.0",
            "_view_name": "LayoutView",
            "align_content": null,
            "align_items": null,
            "align_self": null,
            "border": null,
            "bottom": null,
            "display": null,
            "flex": null,
            "flex_flow": null,
            "grid_area": null,
            "grid_auto_columns": null,
            "grid_auto_flow": null,
            "grid_auto_rows": null,
            "grid_column": null,
            "grid_gap": null,
            "grid_row": null,
            "grid_template_areas": null,
            "grid_template_columns": null,
            "grid_template_rows": null,
            "height": null,
            "justify_content": null,
            "justify_items": null,
            "left": null,
            "margin": null,
            "max_height": null,
            "max_width": null,
            "min_height": null,
            "min_width": null,
            "object_fit": null,
            "object_position": null,
            "order": null,
            "overflow": null,
            "overflow_x": null,
            "overflow_y": null,
            "padding": null,
            "right": null,
            "top": null,
            "visibility": null,
            "width": null
          }
        },
        "f666a918f1fc42f0b2cc28118d10f683": {
          "model_module": "@jupyter-widgets/controls",
          "model_name": "ProgressStyleModel",
          "model_module_version": "1.5.0",
          "state": {
            "_model_module": "@jupyter-widgets/controls",
            "_model_module_version": "1.5.0",
            "_model_name": "ProgressStyleModel",
            "_view_count": null,
            "_view_module": "@jupyter-widgets/base",
            "_view_module_version": "1.2.0",
            "_view_name": "StyleView",
            "bar_color": null,
            "description_width": ""
          }
        },
        "183af5873c814bfd9e972da49319ea4d": {
          "model_module": "@jupyter-widgets/base",
          "model_name": "LayoutModel",
          "model_module_version": "1.2.0",
          "state": {
            "_model_module": "@jupyter-widgets/base",
            "_model_module_version": "1.2.0",
            "_model_name": "LayoutModel",
            "_view_count": null,
            "_view_module": "@jupyter-widgets/base",
            "_view_module_version": "1.2.0",
            "_view_name": "LayoutView",
            "align_content": null,
            "align_items": null,
            "align_self": null,
            "border": null,
            "bottom": null,
            "display": null,
            "flex": null,
            "flex_flow": null,
            "grid_area": null,
            "grid_auto_columns": null,
            "grid_auto_flow": null,
            "grid_auto_rows": null,
            "grid_column": null,
            "grid_gap": null,
            "grid_row": null,
            "grid_template_areas": null,
            "grid_template_columns": null,
            "grid_template_rows": null,
            "height": null,
            "justify_content": null,
            "justify_items": null,
            "left": null,
            "margin": null,
            "max_height": null,
            "max_width": null,
            "min_height": null,
            "min_width": null,
            "object_fit": null,
            "object_position": null,
            "order": null,
            "overflow": null,
            "overflow_x": null,
            "overflow_y": null,
            "padding": null,
            "right": null,
            "top": null,
            "visibility": null,
            "width": null
          }
        },
        "c217ff796fe9446fbbbfb89a952275be": {
          "model_module": "@jupyter-widgets/controls",
          "model_name": "DescriptionStyleModel",
          "model_module_version": "1.5.0",
          "state": {
            "_model_module": "@jupyter-widgets/controls",
            "_model_module_version": "1.5.0",
            "_model_name": "DescriptionStyleModel",
            "_view_count": null,
            "_view_module": "@jupyter-widgets/base",
            "_view_module_version": "1.2.0",
            "_view_name": "StyleView",
            "description_width": ""
          }
        },
        "fbb198d1a29844b988896f13adb65879": {
          "model_module": "@jupyter-widgets/controls",
          "model_name": "HBoxModel",
          "model_module_version": "1.5.0",
          "state": {
            "_dom_classes": [],
            "_model_module": "@jupyter-widgets/controls",
            "_model_module_version": "1.5.0",
            "_model_name": "HBoxModel",
            "_view_count": null,
            "_view_module": "@jupyter-widgets/controls",
            "_view_module_version": "1.5.0",
            "_view_name": "HBoxView",
            "box_style": "",
            "children": [
              "IPY_MODEL_069e3d9761f44be9a3439fa75f4bad01",
              "IPY_MODEL_4986c9578fab47ddbf7ee9917a9046b4",
              "IPY_MODEL_5fc01a43c3a24073a1c4df316650e690"
            ],
            "layout": "IPY_MODEL_13504e752c3c44379fb813742ddd31d9"
          }
        },
        "069e3d9761f44be9a3439fa75f4bad01": {
          "model_module": "@jupyter-widgets/controls",
          "model_name": "HTMLModel",
          "model_module_version": "1.5.0",
          "state": {
            "_dom_classes": [],
            "_model_module": "@jupyter-widgets/controls",
            "_model_module_version": "1.5.0",
            "_model_name": "HTMLModel",
            "_view_count": null,
            "_view_module": "@jupyter-widgets/controls",
            "_view_module_version": "1.5.0",
            "_view_name": "HTMLView",
            "description": "",
            "description_tooltip": null,
            "layout": "IPY_MODEL_376e421e603a482987e46fcd3d976ccb",
            "placeholder": "​",
            "style": "IPY_MODEL_8e5acdd7f7394432a5d70ca61652a2fd",
            "value": "generation_config.json: 100%"
          }
        },
        "4986c9578fab47ddbf7ee9917a9046b4": {
          "model_module": "@jupyter-widgets/controls",
          "model_name": "FloatProgressModel",
          "model_module_version": "1.5.0",
          "state": {
            "_dom_classes": [],
            "_model_module": "@jupyter-widgets/controls",
            "_model_module_version": "1.5.0",
            "_model_name": "FloatProgressModel",
            "_view_count": null,
            "_view_module": "@jupyter-widgets/controls",
            "_view_module_version": "1.5.0",
            "_view_name": "ProgressView",
            "bar_style": "success",
            "description": "",
            "description_tooltip": null,
            "layout": "IPY_MODEL_172255e4ed7f436992c8e8c8695dcf41",
            "max": 189,
            "min": 0,
            "orientation": "horizontal",
            "style": "IPY_MODEL_32f8919ac7c1411aa7a7d618ec7ae614",
            "value": 189
          }
        },
        "5fc01a43c3a24073a1c4df316650e690": {
          "model_module": "@jupyter-widgets/controls",
          "model_name": "HTMLModel",
          "model_module_version": "1.5.0",
          "state": {
            "_dom_classes": [],
            "_model_module": "@jupyter-widgets/controls",
            "_model_module_version": "1.5.0",
            "_model_name": "HTMLModel",
            "_view_count": null,
            "_view_module": "@jupyter-widgets/controls",
            "_view_module_version": "1.5.0",
            "_view_name": "HTMLView",
            "description": "",
            "description_tooltip": null,
            "layout": "IPY_MODEL_fee929c617cb48e093ac3994f19ea2c6",
            "placeholder": "​",
            "style": "IPY_MODEL_beb7e33f31554e1da06cdcdfbfd8110e",
            "value": " 189/189 [00:00&lt;00:00, 17.1kB/s]"
          }
        },
        "13504e752c3c44379fb813742ddd31d9": {
          "model_module": "@jupyter-widgets/base",
          "model_name": "LayoutModel",
          "model_module_version": "1.2.0",
          "state": {
            "_model_module": "@jupyter-widgets/base",
            "_model_module_version": "1.2.0",
            "_model_name": "LayoutModel",
            "_view_count": null,
            "_view_module": "@jupyter-widgets/base",
            "_view_module_version": "1.2.0",
            "_view_name": "LayoutView",
            "align_content": null,
            "align_items": null,
            "align_self": null,
            "border": null,
            "bottom": null,
            "display": null,
            "flex": null,
            "flex_flow": null,
            "grid_area": null,
            "grid_auto_columns": null,
            "grid_auto_flow": null,
            "grid_auto_rows": null,
            "grid_column": null,
            "grid_gap": null,
            "grid_row": null,
            "grid_template_areas": null,
            "grid_template_columns": null,
            "grid_template_rows": null,
            "height": null,
            "justify_content": null,
            "justify_items": null,
            "left": null,
            "margin": null,
            "max_height": null,
            "max_width": null,
            "min_height": null,
            "min_width": null,
            "object_fit": null,
            "object_position": null,
            "order": null,
            "overflow": null,
            "overflow_x": null,
            "overflow_y": null,
            "padding": null,
            "right": null,
            "top": null,
            "visibility": null,
            "width": null
          }
        },
        "376e421e603a482987e46fcd3d976ccb": {
          "model_module": "@jupyter-widgets/base",
          "model_name": "LayoutModel",
          "model_module_version": "1.2.0",
          "state": {
            "_model_module": "@jupyter-widgets/base",
            "_model_module_version": "1.2.0",
            "_model_name": "LayoutModel",
            "_view_count": null,
            "_view_module": "@jupyter-widgets/base",
            "_view_module_version": "1.2.0",
            "_view_name": "LayoutView",
            "align_content": null,
            "align_items": null,
            "align_self": null,
            "border": null,
            "bottom": null,
            "display": null,
            "flex": null,
            "flex_flow": null,
            "grid_area": null,
            "grid_auto_columns": null,
            "grid_auto_flow": null,
            "grid_auto_rows": null,
            "grid_column": null,
            "grid_gap": null,
            "grid_row": null,
            "grid_template_areas": null,
            "grid_template_columns": null,
            "grid_template_rows": null,
            "height": null,
            "justify_content": null,
            "justify_items": null,
            "left": null,
            "margin": null,
            "max_height": null,
            "max_width": null,
            "min_height": null,
            "min_width": null,
            "object_fit": null,
            "object_position": null,
            "order": null,
            "overflow": null,
            "overflow_x": null,
            "overflow_y": null,
            "padding": null,
            "right": null,
            "top": null,
            "visibility": null,
            "width": null
          }
        },
        "8e5acdd7f7394432a5d70ca61652a2fd": {
          "model_module": "@jupyter-widgets/controls",
          "model_name": "DescriptionStyleModel",
          "model_module_version": "1.5.0",
          "state": {
            "_model_module": "@jupyter-widgets/controls",
            "_model_module_version": "1.5.0",
            "_model_name": "DescriptionStyleModel",
            "_view_count": null,
            "_view_module": "@jupyter-widgets/base",
            "_view_module_version": "1.2.0",
            "_view_name": "StyleView",
            "description_width": ""
          }
        },
        "172255e4ed7f436992c8e8c8695dcf41": {
          "model_module": "@jupyter-widgets/base",
          "model_name": "LayoutModel",
          "model_module_version": "1.2.0",
          "state": {
            "_model_module": "@jupyter-widgets/base",
            "_model_module_version": "1.2.0",
            "_model_name": "LayoutModel",
            "_view_count": null,
            "_view_module": "@jupyter-widgets/base",
            "_view_module_version": "1.2.0",
            "_view_name": "LayoutView",
            "align_content": null,
            "align_items": null,
            "align_self": null,
            "border": null,
            "bottom": null,
            "display": null,
            "flex": null,
            "flex_flow": null,
            "grid_area": null,
            "grid_auto_columns": null,
            "grid_auto_flow": null,
            "grid_auto_rows": null,
            "grid_column": null,
            "grid_gap": null,
            "grid_row": null,
            "grid_template_areas": null,
            "grid_template_columns": null,
            "grid_template_rows": null,
            "height": null,
            "justify_content": null,
            "justify_items": null,
            "left": null,
            "margin": null,
            "max_height": null,
            "max_width": null,
            "min_height": null,
            "min_width": null,
            "object_fit": null,
            "object_position": null,
            "order": null,
            "overflow": null,
            "overflow_x": null,
            "overflow_y": null,
            "padding": null,
            "right": null,
            "top": null,
            "visibility": null,
            "width": null
          }
        },
        "32f8919ac7c1411aa7a7d618ec7ae614": {
          "model_module": "@jupyter-widgets/controls",
          "model_name": "ProgressStyleModel",
          "model_module_version": "1.5.0",
          "state": {
            "_model_module": "@jupyter-widgets/controls",
            "_model_module_version": "1.5.0",
            "_model_name": "ProgressStyleModel",
            "_view_count": null,
            "_view_module": "@jupyter-widgets/base",
            "_view_module_version": "1.2.0",
            "_view_name": "StyleView",
            "bar_color": null,
            "description_width": ""
          }
        },
        "fee929c617cb48e093ac3994f19ea2c6": {
          "model_module": "@jupyter-widgets/base",
          "model_name": "LayoutModel",
          "model_module_version": "1.2.0",
          "state": {
            "_model_module": "@jupyter-widgets/base",
            "_model_module_version": "1.2.0",
            "_model_name": "LayoutModel",
            "_view_count": null,
            "_view_module": "@jupyter-widgets/base",
            "_view_module_version": "1.2.0",
            "_view_name": "LayoutView",
            "align_content": null,
            "align_items": null,
            "align_self": null,
            "border": null,
            "bottom": null,
            "display": null,
            "flex": null,
            "flex_flow": null,
            "grid_area": null,
            "grid_auto_columns": null,
            "grid_auto_flow": null,
            "grid_auto_rows": null,
            "grid_column": null,
            "grid_gap": null,
            "grid_row": null,
            "grid_template_areas": null,
            "grid_template_columns": null,
            "grid_template_rows": null,
            "height": null,
            "justify_content": null,
            "justify_items": null,
            "left": null,
            "margin": null,
            "max_height": null,
            "max_width": null,
            "min_height": null,
            "min_width": null,
            "object_fit": null,
            "object_position": null,
            "order": null,
            "overflow": null,
            "overflow_x": null,
            "overflow_y": null,
            "padding": null,
            "right": null,
            "top": null,
            "visibility": null,
            "width": null
          }
        },
        "beb7e33f31554e1da06cdcdfbfd8110e": {
          "model_module": "@jupyter-widgets/controls",
          "model_name": "DescriptionStyleModel",
          "model_module_version": "1.5.0",
          "state": {
            "_model_module": "@jupyter-widgets/controls",
            "_model_module_version": "1.5.0",
            "_model_name": "DescriptionStyleModel",
            "_view_count": null,
            "_view_module": "@jupyter-widgets/base",
            "_view_module_version": "1.2.0",
            "_view_name": "StyleView",
            "description_width": ""
          }
        }
      }
    },
    "accelerator": "GPU"
  },
  "nbformat": 4,
  "nbformat_minor": 0
}